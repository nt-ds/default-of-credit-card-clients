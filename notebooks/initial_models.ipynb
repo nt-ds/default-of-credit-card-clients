{
 "cells": [
  {
   "cell_type": "markdown",
   "metadata": {},
   "source": [
    "# Import Everything\n",
    "## Import necessary modules"
   ]
  },
  {
   "cell_type": "code",
   "execution_count": 4,
   "metadata": {
    "scrolled": true
   },
   "outputs": [],
   "source": [
    "\n",
    "import numpy as np\n",
    "import os\n",
    "from pathlib import Path\n",
    "import pandas as pd\n",
    "from sklearn.ensemble import RandomForestClassifier\n",
    "from sklearn.linear_model import LogisticRegression\n",
    "from sklearn.model_selection import GridSearchCV, RandomizedSearchCV, train_test_split\n",
    "from sklearn.tree import DecisionTreeClassifier\n",
    "\n",
    "\n",
    "main_path = os.getcwd()\n",
    "parent_path = Path(os.getcwd()).parent\n",
    "src_path = str(parent_path) + \"/src/directories\"\n",
    "os.chdir(src_path)\n",
    "\n",
    "import change_directory\n",
    "\n",
    "os.chdir(main_path)"
   ]
  },
  {
   "cell_type": "markdown",
   "metadata": {},
   "source": [
    "## Import data"
   ]
  },
  {
   "cell_type": "code",
   "execution_count": 6,
   "metadata": {},
   "outputs": [],
   "source": [
    "cd = change_directory.ChangeDirectory()\n",
    "cd.change_to_data_dir()\n",
    "ccd_df = pd.read_csv(\"processed/processed_credit_card_defaults.csv\")\n",
    "cd.change_to_notebook_dir()"
   ]
  },
  {
   "cell_type": "code",
   "execution_count": 8,
   "metadata": {
    "scrolled": true
   },
   "outputs": [
    {
     "data": {
      "text/html": [
       "<div>\n",
       "<style scoped>\n",
       "    .dataframe tbody tr th:only-of-type {\n",
       "        vertical-align: middle;\n",
       "    }\n",
       "\n",
       "    .dataframe tbody tr th {\n",
       "        vertical-align: top;\n",
       "    }\n",
       "\n",
       "    .dataframe thead th {\n",
       "        text-align: right;\n",
       "    }\n",
       "</style>\n",
       "<table border=\"1\" class=\"dataframe\">\n",
       "  <thead>\n",
       "    <tr style=\"text-align: right;\">\n",
       "      <th></th>\n",
       "      <th>LIMIT_BAL</th>\n",
       "      <th>AGE</th>\n",
       "      <th>Bill_amount_Sep</th>\n",
       "      <th>Bill_amount_Aug</th>\n",
       "      <th>Bill_amount_Jul</th>\n",
       "      <th>Bill_amount_Jun</th>\n",
       "      <th>Bill_amount_May</th>\n",
       "      <th>Bill_amount_Apr</th>\n",
       "      <th>Bill_amount_Sep.1</th>\n",
       "      <th>Bill_amount_Aug.1</th>\n",
       "      <th>...</th>\n",
       "      <th>Payment_hist_Apr_-2</th>\n",
       "      <th>Payment_hist_Apr_-1</th>\n",
       "      <th>Payment_hist_Apr_0</th>\n",
       "      <th>Payment_hist_Apr_2</th>\n",
       "      <th>Payment_hist_Apr_3</th>\n",
       "      <th>Payment_hist_Apr_4</th>\n",
       "      <th>Payment_hist_Apr_5</th>\n",
       "      <th>Payment_hist_Apr_6</th>\n",
       "      <th>Payment_hist_Apr_7</th>\n",
       "      <th>Payment_hist_Apr_8</th>\n",
       "    </tr>\n",
       "  </thead>\n",
       "  <tbody>\n",
       "    <tr>\n",
       "      <th>0</th>\n",
       "      <td>20000</td>\n",
       "      <td>24</td>\n",
       "      <td>3913</td>\n",
       "      <td>3102</td>\n",
       "      <td>689</td>\n",
       "      <td>0</td>\n",
       "      <td>0</td>\n",
       "      <td>0</td>\n",
       "      <td>0</td>\n",
       "      <td>689</td>\n",
       "      <td>...</td>\n",
       "      <td>1</td>\n",
       "      <td>0</td>\n",
       "      <td>0</td>\n",
       "      <td>0</td>\n",
       "      <td>0</td>\n",
       "      <td>0</td>\n",
       "      <td>0</td>\n",
       "      <td>0</td>\n",
       "      <td>0</td>\n",
       "      <td>0</td>\n",
       "    </tr>\n",
       "    <tr>\n",
       "      <th>1</th>\n",
       "      <td>120000</td>\n",
       "      <td>26</td>\n",
       "      <td>2682</td>\n",
       "      <td>1725</td>\n",
       "      <td>2682</td>\n",
       "      <td>3272</td>\n",
       "      <td>3455</td>\n",
       "      <td>3261</td>\n",
       "      <td>0</td>\n",
       "      <td>1000</td>\n",
       "      <td>...</td>\n",
       "      <td>0</td>\n",
       "      <td>0</td>\n",
       "      <td>0</td>\n",
       "      <td>1</td>\n",
       "      <td>0</td>\n",
       "      <td>0</td>\n",
       "      <td>0</td>\n",
       "      <td>0</td>\n",
       "      <td>0</td>\n",
       "      <td>0</td>\n",
       "    </tr>\n",
       "    <tr>\n",
       "      <th>2</th>\n",
       "      <td>90000</td>\n",
       "      <td>34</td>\n",
       "      <td>29239</td>\n",
       "      <td>14027</td>\n",
       "      <td>13559</td>\n",
       "      <td>14331</td>\n",
       "      <td>14948</td>\n",
       "      <td>15549</td>\n",
       "      <td>1518</td>\n",
       "      <td>1500</td>\n",
       "      <td>...</td>\n",
       "      <td>0</td>\n",
       "      <td>0</td>\n",
       "      <td>1</td>\n",
       "      <td>0</td>\n",
       "      <td>0</td>\n",
       "      <td>0</td>\n",
       "      <td>0</td>\n",
       "      <td>0</td>\n",
       "      <td>0</td>\n",
       "      <td>0</td>\n",
       "    </tr>\n",
       "    <tr>\n",
       "      <th>3</th>\n",
       "      <td>50000</td>\n",
       "      <td>37</td>\n",
       "      <td>46990</td>\n",
       "      <td>48233</td>\n",
       "      <td>49291</td>\n",
       "      <td>28314</td>\n",
       "      <td>28959</td>\n",
       "      <td>29547</td>\n",
       "      <td>2000</td>\n",
       "      <td>2019</td>\n",
       "      <td>...</td>\n",
       "      <td>0</td>\n",
       "      <td>0</td>\n",
       "      <td>1</td>\n",
       "      <td>0</td>\n",
       "      <td>0</td>\n",
       "      <td>0</td>\n",
       "      <td>0</td>\n",
       "      <td>0</td>\n",
       "      <td>0</td>\n",
       "      <td>0</td>\n",
       "    </tr>\n",
       "    <tr>\n",
       "      <th>4</th>\n",
       "      <td>50000</td>\n",
       "      <td>57</td>\n",
       "      <td>8617</td>\n",
       "      <td>5670</td>\n",
       "      <td>35835</td>\n",
       "      <td>20940</td>\n",
       "      <td>19146</td>\n",
       "      <td>19131</td>\n",
       "      <td>2000</td>\n",
       "      <td>36681</td>\n",
       "      <td>...</td>\n",
       "      <td>0</td>\n",
       "      <td>0</td>\n",
       "      <td>1</td>\n",
       "      <td>0</td>\n",
       "      <td>0</td>\n",
       "      <td>0</td>\n",
       "      <td>0</td>\n",
       "      <td>0</td>\n",
       "      <td>0</td>\n",
       "      <td>0</td>\n",
       "    </tr>\n",
       "  </tbody>\n",
       "</table>\n",
       "<p>5 rows × 89 columns</p>\n",
       "</div>"
      ],
      "text/plain": [
       "   LIMIT_BAL  AGE  Bill_amount_Sep  Bill_amount_Aug  Bill_amount_Jul  \\\n",
       "0      20000   24             3913             3102              689   \n",
       "1     120000   26             2682             1725             2682   \n",
       "2      90000   34            29239            14027            13559   \n",
       "3      50000   37            46990            48233            49291   \n",
       "4      50000   57             8617             5670            35835   \n",
       "\n",
       "   Bill_amount_Jun  Bill_amount_May  Bill_amount_Apr  Bill_amount_Sep.1  \\\n",
       "0                0                0                0                  0   \n",
       "1             3272             3455             3261                  0   \n",
       "2            14331            14948            15549               1518   \n",
       "3            28314            28959            29547               2000   \n",
       "4            20940            19146            19131               2000   \n",
       "\n",
       "   Bill_amount_Aug.1         ...          Payment_hist_Apr_-2  \\\n",
       "0                689         ...                            1   \n",
       "1               1000         ...                            0   \n",
       "2               1500         ...                            0   \n",
       "3               2019         ...                            0   \n",
       "4              36681         ...                            0   \n",
       "\n",
       "   Payment_hist_Apr_-1  Payment_hist_Apr_0  Payment_hist_Apr_2  \\\n",
       "0                    0                   0                   0   \n",
       "1                    0                   0                   1   \n",
       "2                    0                   1                   0   \n",
       "3                    0                   1                   0   \n",
       "4                    0                   1                   0   \n",
       "\n",
       "   Payment_hist_Apr_3  Payment_hist_Apr_4  Payment_hist_Apr_5  \\\n",
       "0                   0                   0                   0   \n",
       "1                   0                   0                   0   \n",
       "2                   0                   0                   0   \n",
       "3                   0                   0                   0   \n",
       "4                   0                   0                   0   \n",
       "\n",
       "   Payment_hist_Apr_6  Payment_hist_Apr_7  Payment_hist_Apr_8  \n",
       "0                   0                   0                   0  \n",
       "1                   0                   0                   0  \n",
       "2                   0                   0                   0  \n",
       "3                   0                   0                   0  \n",
       "4                   0                   0                   0  \n",
       "\n",
       "[5 rows x 89 columns]"
      ]
     },
     "execution_count": 8,
     "metadata": {},
     "output_type": "execute_result"
    }
   ],
   "source": []
  },
  {
   "cell_type": "markdown",
   "metadata": {},
   "source": [
    "# Begin Model Building\n",
    "## Train-Test Split"
   ]
  },
  {
   "cell_type": "code",
   "execution_count": 9,
   "metadata": {},
   "outputs": [
    {
     "data": {
      "text/plain": [
       "Index(['LIMIT_BAL', 'AGE', 'Bill_amount_Sep', 'Bill_amount_Aug',\n",
       "       'Bill_amount_Jul', 'Bill_amount_Jun', 'Bill_amount_May',\n",
       "       'Bill_amount_Apr', 'Bill_amount_Sep.1', 'Bill_amount_Aug.1',\n",
       "       'Bill_amount_Jul.1', 'Bill_amount_Jun.1', 'Bill_amount_May.1',\n",
       "       'Bill_amount_Apr.1', 'DEFAULT', 'FEMALE', 'GRADUATE_SCHOOL',\n",
       "       'UNIVERSITY', 'HIGH_SCHOOL', 'EDUCATION_OTHERS', 'EDUCATION_UNKNOWN_1',\n",
       "       'EDUCATION_UNKNOWN_2', 'MARRIED', 'SINGLE', 'MARRIAGE_OTHERS',\n",
       "       'Payment_history_Sept_-2', 'Payment_history_Sept_-1',\n",
       "       'Payment_history_Sept_0', 'Payment_history_Sept_1',\n",
       "       'Payment_history_Sept_2', 'Payment_history_Sept_3',\n",
       "       'Payment_history_Sept_4', 'Payment_history_Sept_5',\n",
       "       'Payment_history_Sept_6', 'Payment_history_Sept_7',\n",
       "       'Payment_history_Sept_8', 'Payment_history_Aug_-2',\n",
       "       'Payment_history_Aug_-1', 'Payment_history_Aug_0',\n",
       "       'Payment_history_Aug_1', 'Payment_history_Aug_2',\n",
       "       'Payment_history_Aug_3', 'Payment_history_Aug_4',\n",
       "       'Payment_history_Aug_5', 'Payment_history_Aug_6',\n",
       "       'Payment_history_Aug_7', 'Payment_history_Aug_8', 'Payment_hist_Jul_-2',\n",
       "       'Payment_hist_Jul_-1', 'Payment_hist_Jul_0', 'Payment_hist_Jul_1',\n",
       "       'Payment_hist_Jul_2', 'Payment_hist_Jul_3', 'Payment_hist_Jul_4',\n",
       "       'Payment_hist_Jul_5', 'Payment_hist_Jul_6', 'Payment_hist_Jul_7',\n",
       "       'Payment_hist_Jul_8', 'Payment_hist_Jun_-2', 'Payment_hist_Jun_-1',\n",
       "       'Payment_hist_Jun_0', 'Payment_hist_Jun_1', 'Payment_hist_Jun_2',\n",
       "       'Payment_hist_Jun_3', 'Payment_hist_Jun_4', 'Payment_hist_Jun_5',\n",
       "       'Payment_hist_Jun_6', 'Payment_hist_Jun_7', 'Payment_hist_Jun_8',\n",
       "       'Payment_hist_May_-2', 'Payment_hist_May_-1', 'Payment_hist_May_0',\n",
       "       'Payment_hist_May_2', 'Payment_hist_May_3', 'Payment_hist_May_4',\n",
       "       'Payment_hist_May_5', 'Payment_hist_May_6', 'Payment_hist_May_7',\n",
       "       'Payment_hist_May_8', 'Payment_hist_Apr_-2', 'Payment_hist_Apr_-1',\n",
       "       'Payment_hist_Apr_0', 'Payment_hist_Apr_2', 'Payment_hist_Apr_3',\n",
       "       'Payment_hist_Apr_4', 'Payment_hist_Apr_5', 'Payment_hist_Apr_6',\n",
       "       'Payment_hist_Apr_7', 'Payment_hist_Apr_8'],\n",
       "      dtype='object')"
      ]
     },
     "execution_count": 9,
     "metadata": {},
     "output_type": "execute_result"
    }
   ],
   "source": [
    "ccd_df.columns"
   ]
  },
  {
   "cell_type": "code",
   "execution_count": 10,
   "metadata": {},
   "outputs": [],
   "source": [
    "X = ccd_df.drop('DEFAULT', axis=1)\n",
    "y = ccd_df.DEFAULT\n",
    "X_train, X_test, y_train, y_test = train_test_split(X, y, test_size=0.2, random_state=2819)"
   ]
  },
  {
   "cell_type": "code",
   "execution_count": 11,
   "metadata": {},
   "outputs": [],
   "source": [
    "ccd_dt = DecisionTreeClassifier(class_weight='balanced')\n",
    "param_grid = {'criterion': ['gini', 'entropy'],\n",
    "              'max_depth':[None, 8, 10, 12],\n",
    "              'min_samples_split':[2, 10, 25],\n",
    "              'min_samples_leaf':[1, 5, 15],\n",
    "              'max_features':[None, 'sqrt']}\n",
    "\n",
    "dt_gs = GridSearchCV(ccd_dt, param_grid, cv=5 )"
   ]
  },
  {
   "cell_type": "code",
   "execution_count": 12,
   "metadata": {},
   "outputs": [
    {
     "data": {
      "text/plain": [
       "GridSearchCV(cv=5, error_score='raise-deprecating',\n",
       "       estimator=DecisionTreeClassifier(class_weight='balanced', criterion='gini',\n",
       "            max_depth=None, max_features=None, max_leaf_nodes=None,\n",
       "            min_impurity_decrease=0.0, min_impurity_split=None,\n",
       "            min_samples_leaf=1, min_samples_split=2,\n",
       "            min_weight_fraction_leaf=0.0, presort=False, random_state=None,\n",
       "            splitter='best'),\n",
       "       fit_params=None, iid='warn', n_jobs=None,\n",
       "       param_grid={'criterion': ['gini', 'entropy'], 'max_depth': [None, 8, 10, 12], 'min_samples_split': [2, 10, 25], 'min_samples_leaf': [1, 5, 15], 'max_features': [None, 'sqrt']},\n",
       "       pre_dispatch='2*n_jobs', refit=True, return_train_score='warn',\n",
       "       scoring=None, verbose=0)"
      ]
     },
     "execution_count": 12,
     "metadata": {},
     "output_type": "execute_result"
    }
   ],
   "source": [
    "dt_gs.fit(X_train, y_train)"
   ]
  },
  {
   "cell_type": "code",
   "execution_count": 14,
   "metadata": {},
   "outputs": [
    {
     "data": {
      "text/plain": [
       "0.74475"
      ]
     },
     "execution_count": 14,
     "metadata": {},
     "output_type": "execute_result"
    }
   ],
   "source": [
    "dt_gs.best_score_"
   ]
  },
  {
   "cell_type": "code",
   "execution_count": null,
   "metadata": {},
   "outputs": [],
   "source": []
  }
 ],
 "metadata": {
  "kernelspec": {
   "display_name": "Python 3",
   "language": "python",
   "name": "python3"
  },
  "language_info": {
   "codemirror_mode": {
    "name": "ipython",
    "version": 3
   },
   "file_extension": ".py",
   "mimetype": "text/x-python",
   "name": "python",
   "nbconvert_exporter": "python",
   "pygments_lexer": "ipython3",
   "version": "3.6.8"
  },
  "toc": {
   "base_numbering": 1,
   "nav_menu": {},
   "number_sections": true,
   "sideBar": true,
   "skip_h1_title": false,
   "title_cell": "Table of Contents",
   "title_sidebar": "Contents",
   "toc_cell": false,
   "toc_position": {},
   "toc_section_display": true,
   "toc_window_display": true
  }
 },
 "nbformat": 4,
 "nbformat_minor": 2
}
