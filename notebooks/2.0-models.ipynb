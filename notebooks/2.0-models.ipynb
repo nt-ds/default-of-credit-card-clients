{
 "cells": [
  {
   "cell_type": "markdown",
   "metadata": {},
   "source": [
    "# Import Everything\n",
    "## Import necessary modules"
   ]
  },
  {
   "cell_type": "code",
   "execution_count": 31,
   "metadata": {
    "scrolled": true
   },
   "outputs": [],
   "source": [
    "import sys\n",
    "sys.path.append( '../src/models')\n",
    "\n",
    "import evaluation_functions as evf\n",
    "import matplotlib.pyplot as plt\n",
    "import numpy as np\n",
    "import os\n",
    "import pandas as pd\n",
    "import pickle\n",
    "import sklearn\n",
    "import xgboost as xgb\n",
    "\n",
    "from imblearn.over_sampling import SMOTE\n",
    "from pathlib import Path\n",
    "from scipy.stats import randint as sp_randint\n",
    "\n",
    "from sklearn.decomposition import PCA\n",
    "from sklearn.ensemble import RandomForestClassifier\n",
    "from sklearn.linear_model import LogisticRegression\n",
    "from sklearn.metrics import auc, f1_score, precision_score, recall_score, roc_curve, roc_auc_score\n",
    "from sklearn.model_selection import GridSearchCV, RandomizedSearchCV, train_test_split\n",
    "from sklearn.svm import SVC\n",
    "from sklearn.tree import DecisionTreeClassifier\n",
    "from yellowbrick.classifier import ConfusionMatrix\n",
    "\n",
    "main_path = os.getcwd()\n",
    "parent_path = Path(os.getcwd()).parent\n",
    "src_path = str(parent_path) + \"/src/directories\"\n",
    "os.chdir(src_path)\n",
    "\n",
    "import change_directory\n",
    "\n",
    "\n",
    "os.chdir(main_path)"
   ]
  },
  {
   "cell_type": "markdown",
   "metadata": {},
   "source": [
    "## Import data"
   ]
  },
  {
   "cell_type": "code",
   "execution_count": 3,
   "metadata": {},
   "outputs": [],
   "source": [
    "cd = change_directory.ChangeDirectory()\n",
    "cd.change_to_data_dir()\n",
    "ccd_df = pd.read_csv(\"processed/non_transformed_credit_card_default.csv\")\n",
    "cd.change_to_notebook_dir()"
   ]
  },
  {
   "cell_type": "markdown",
   "metadata": {},
   "source": [
    "# Begin Model Building\n",
    "## Train-Test Split"
   ]
  },
  {
   "cell_type": "code",
   "execution_count": 4,
   "metadata": {},
   "outputs": [],
   "source": [
    "X = ccd_df.drop('DEFAULT', axis=1)\n",
    "y = ccd_df.DEFAULT\n",
    "X_train, X_test, y_train, y_test = train_test_split(X, y, test_size=0.2, random_state=2819)"
   ]
  },
  {
   "cell_type": "markdown",
   "metadata": {},
   "source": [
    "## Decision Tree"
   ]
  },
  {
   "cell_type": "code",
   "execution_count": 5,
   "metadata": {},
   "outputs": [],
   "source": [
    "ccd_dt = DecisionTreeClassifier()\n",
    "class_weights_gs = [{0:100, 1:1}, 'balanced', {0:10, 1:1}]\n",
    "param_grid = {'criterion': ['gini', 'entropy'],\n",
    "              'max_depth':[None, 8, 10],\n",
    "              'min_samples_split':[10, 25],\n",
    "              'min_samples_leaf':[1, 5],\n",
    "              'max_features':[None, 'sqrt'], \n",
    "              'class_weight':class_weights_gs }\n",
    "\n",
    "dt_gs = GridSearchCV(ccd_dt, param_grid, cv=3, scoring='f1', refit=True)"
   ]
  },
  {
   "cell_type": "code",
   "execution_count": 6,
   "metadata": {},
   "outputs": [],
   "source": [
    "dt_gs.fit(X_train, y_train);"
   ]
  },
  {
   "cell_type": "code",
   "execution_count": 8,
   "metadata": {},
   "outputs": [
    {
     "name": "stdout",
     "output_type": "stream",
     "text": [
      "Training Scores:\n",
      "f-1 score: 0.5362363440529312\n",
      "recall: 0.6547059928611685\n",
      "precision:0.45407166123778503\n",
      "Test Scores:\n",
      "f-1 score: 0.5135387488328665\n",
      "recall: 0.6283320639756284\n",
      "precision:0.4342105263157895\n"
     ]
    },
    {
     "data": {
      "image/png": "[encoded data removed]",
      "text/plain": [
       "<Figure size 432x288 with 1 Axes>"
      ]
     },
     "metadata": {
      "needs_background": "light"
     },
     "output_type": "display_data"
    }
   ],
   "source": [
    "evf.scores_confusion_matrix(dt_gs, X_train, X_test, y_train, y_test)"
   ]
  },
  {
   "cell_type": "markdown",
   "metadata": {},
   "source": [
    "## Random Forest"
   ]
  },
  {
   "cell_type": "code",
   "execution_count": 12,
   "metadata": {},
   "outputs": [],
   "source": [
    "ccd_rf_clf_gs = RandomForestClassifier(n_estimators=100)"
   ]
  },
  {
   "cell_type": "code",
   "execution_count": 13,
   "metadata": {},
   "outputs": [],
   "source": [
    "ccd_rf_gs_params = {\n",
    "    'class_weight':['balanced', {0:1, 1:100}, {0:1, 1:50}, {0:1, 1:75}],\n",
    "    'min_samples_leaf':[15, 20, 25],\n",
    "    'min_samples_split':[40, 50, 70]\n",
    "}\n",
    "ccd_rf_gs = GridSearchCV(ccd_rf_clf_gs, ccd_rf_gs_params, cv=3, scoring='f1', n_jobs=-1)"
   ]
  },
  {
   "cell_type": "code",
   "execution_count": 14,
   "metadata": {},
   "outputs": [],
   "source": [
    "ccd_rf_gs.fit(X_train, y_train);"
   ]
  },
  {
   "cell_type": "code",
   "execution_count": 15,
   "metadata": {},
   "outputs": [
    {
     "name": "stdout",
     "output_type": "stream",
     "text": [
      "Training Scores:\n",
      "f-1 score: 0.5968577636637138\n",
      "recall: 0.6708622956979147\n",
      "precision:0.53755833207888\n",
      "Test Scores:\n",
      "f-1 score: 0.5558601782042496\n",
      "recall: 0.6176694592536177\n",
      "precision:0.5052959501557632\n"
     ]
    },
    {
     "data": {
      "image/png": "[encoded data removed]",
      "text/plain": [
       "<Figure size 432x288 with 1 Axes>"
      ]
     },
     "metadata": {
      "needs_background": "light"
     },
     "output_type": "display_data"
    }
   ],
   "source": [
    "evf.scores_confusion_matrix(ccd_rf_gs, X_train, X_test, y_train, y_test)"
   ]
  },
  {
   "cell_type": "markdown",
   "metadata": {},
   "source": [
    "## XGBoost"
   ]
  },
  {
   "cell_type": "code",
   "execution_count": 138,
   "metadata": {},
   "outputs": [],
   "source": [
    "ccd_xgb = xgb.XGBClassifier(objective='binary:hinge')"
   ]
  },
  {
   "cell_type": "code",
   "execution_count": 139,
   "metadata": {},
   "outputs": [],
   "source": [
    "xgb_gs_params = {\n",
    "    'max_depth':[5, 6, 7, 8, 10]\n",
    "}\n",
    "\n",
    "xgb_gs = GridSearchCV(ccd_xgb, xgb_gs_params, scoring='f1', n_jobs=-1, cv=3)"
   ]
  },
  {
   "cell_type": "code",
   "execution_count": 140,
   "metadata": {},
   "outputs": [],
   "source": [
    "xgb_gs.fit(X_train, y_train);"
   ]
  },
  {
   "cell_type": "code",
   "execution_count": 186,
   "metadata": {},
   "outputs": [
    {
     "data": {
      "text/plain": [
       "0.4772170504654581"
      ]
     },
     "execution_count": 186,
     "metadata": {},
     "output_type": "execute_result"
    }
   ],
   "source": [
    "y_preds_xgb = xgb_gs.predict(X_test)\n",
    "evf.scores_confusion_matrix(xgb_gs, X_train, X_test, y_train, y_test)\n"
   ]
  },
  {
   "cell_type": "code",
   "execution_count": null,
   "metadata": {},
   "outputs": [],
   "source": []
  },
  {
   "cell_type": "code",
   "execution_count": 53,
   "metadata": {},
   "outputs": [],
   "source": [
    "dtrain = xgb.DMatrix(X_train, label=np.array(y_train))\n",
    "dtest = xgb.DMatrix(X_test, label=np.array(y_test))"
   ]
  },
  {
   "cell_type": "code",
   "execution_count": 54,
   "metadata": {},
   "outputs": [],
   "source": [
    "xgb_params = {\n",
    "    'objective': 'binary:logistic',\n",
    "    'eval_metric':['error', 'auc'],\n",
    "    'max_depth': 7\n",
    "}"
   ]
  },
  {
   "cell_type": "code",
   "execution_count": 55,
   "metadata": {},
   "outputs": [
    {
     "name": "stdout",
     "output_type": "stream",
     "text": [
      "[0]\tTest-error:0.179333\tTest-auc:0.764051\n",
      "[1]\tTest-error:0.177833\tTest-auc:0.7729\n",
      "[2]\tTest-error:0.176833\tTest-auc:0.77637\n",
      "[3]\tTest-error:0.174333\tTest-auc:0.778051\n",
      "[4]\tTest-error:0.175667\tTest-auc:0.78111\n",
      "[5]\tTest-error:0.174833\tTest-auc:0.782198\n",
      "[6]\tTest-error:0.1765\tTest-auc:0.783219\n",
      "[7]\tTest-error:0.176167\tTest-auc:0.783143\n",
      "[8]\tTest-error:0.1755\tTest-auc:0.783738\n",
      "[9]\tTest-error:0.176833\tTest-auc:0.784598\n",
      "[10]\tTest-error:0.1765\tTest-auc:0.78455\n"
     ]
    }
   ],
   "source": [
    "ccd_xgb = xgb.train(xgb_params, dtrain=dtrain, evals=[(dtest, 'Test')], num_boost_round=11)"
   ]
  },
  {
   "cell_type": "code",
   "execution_count": 56,
   "metadata": {},
   "outputs": [
    {
     "name": "stdout",
     "output_type": "stream",
     "text": [
      "f-1 score: 0.4686402408429503\n",
      "recall: 0.3556740289413557\n",
      "precision:0.6867647058823529\n"
     ]
    }
   ],
   "source": [
    "xgb_preds = (ccd_xgb.predict(dtest) >=0.5).astype(int)\n",
    "evf.all_scores(y_test, xgb_preds)"
   ]
  },
  {
   "cell_type": "code",
   "execution_count": 171,
   "metadata": {},
   "outputs": [],
   "source": [
    "xgb_fpr, xgb_tpr, xgb_thresholds = roc_curve(y_test, ccd_xgb.predict(dtest))"
   ]
  },
  {
   "cell_type": "code",
   "execution_count": 174,
   "metadata": {},
   "outputs": [
    {
     "data": {
      "text/plain": [
       "[<matplotlib.lines.Line2D at 0x1a36aaeb00>]"
      ]
     },
     "execution_count": 174,
     "metadata": {},
     "output_type": "execute_result"
    },
    {
     "data": {
      "image/png": "[encoded data removed]",
      "text/plain": [
       "<Figure size 432x288 with 1 Axes>"
      ]
     },
     "metadata": {
      "needs_background": "light"
     },
     "output_type": "display_data"
    }
   ],
   "source": [
    "plt.plot(xgb_fpr, xgb_tpr, lw=1, alpha=0.3)\n",
    "plt.plot(rf_fpr, rf_tpr, lw=1, alpha=0.3, color='k')"
   ]
  },
  {
   "cell_type": "markdown",
   "metadata": {},
   "source": [
    "## Logistic Regression"
   ]
  },
  {
   "cell_type": "code",
   "execution_count": 24,
   "metadata": {},
   "outputs": [],
   "source": [
    "ccd_lr = LogisticRegression(solver='liblinear', C=10)"
   ]
  },
  {
   "cell_type": "code",
   "execution_count": 25,
   "metadata": {},
   "outputs": [],
   "source": [
    "ccd_lr.fit(X_train, y_train);"
   ]
  },
  {
   "cell_type": "code",
   "execution_count": 26,
   "metadata": {},
   "outputs": [
    {
     "data": {
      "text/plain": [
       "0.0"
      ]
     },
     "execution_count": 26,
     "metadata": {},
     "output_type": "execute_result"
    }
   ],
   "source": [
    "y_preds_lr = ccd_lr.predict(X_test)\n",
    "recall_score(y_test, y_preds_lr)"
   ]
  },
  {
   "cell_type": "code",
   "execution_count": 27,
   "metadata": {},
   "outputs": [
    {
     "data": {
      "text/plain": [
       "0.781"
      ]
     },
     "execution_count": 27,
     "metadata": {},
     "output_type": "execute_result"
    }
   ],
   "source": [
    "ccd_lr.score(X_test, y_test)"
   ]
  },
  {
   "cell_type": "markdown",
   "metadata": {},
   "source": [
    "# Upsampling, Downsampling, SMOTE"
   ]
  },
  {
   "cell_type": "markdown",
   "metadata": {},
   "source": [
    "## Upsampling"
   ]
  },
  {
   "cell_type": "code",
   "execution_count": 19,
   "metadata": {},
   "outputs": [],
   "source": [
    "X_ups, X_ups_test, y_ups, y_ups_test = evf.upsample(ccd_df, 'DEFAULT')"
   ]
  },
  {
   "cell_type": "code",
   "execution_count": 20,
   "metadata": {},
   "outputs": [],
   "source": [
    "ccd_ups_rf_rs_clf = RandomForestClassifier(n_estimators=100)\n",
    "\n",
    "ccd_ups_rf_rs_params = {\n",
    "    'class_weight': ['balanced'],\n",
    "    'min_samples_leaf': [5, 10, 15],\n",
    "    'min_samples_split': [10, 20, 30, 40]\n",
    "}\n",
    "\n",
    "ccd_ups_rf_rs = GridSearchCV(ccd_ups_rf_rs_clf, ccd_ups_rf_rs_params, scoring='recall', cv=3)"
   ]
  },
  {
   "cell_type": "code",
   "execution_count": null,
   "metadata": {},
   "outputs": [],
   "source": []
  },
  {
   "cell_type": "code",
   "execution_count": 21,
   "metadata": {},
   "outputs": [],
   "source": [
    "ccd_ups_rf_rs.fit(X_ups, y_ups);"
   ]
  },
  {
   "cell_type": "code",
   "execution_count": null,
   "metadata": {},
   "outputs": [],
   "source": [
    "evf.scores_confusion_matrix(ccd_ups_rf_rs, X_tr_train_downs,\n",
    "                      X_tr_test_downs, y_tr_train_downs, y_tr_test_downs)"
   ]
  },
  {
   "cell_type": "markdown",
   "metadata": {},
   "source": [
    "## Downsampling"
   ]
  },
  {
   "cell_type": "code",
   "execution_count": 23,
   "metadata": {},
   "outputs": [],
   "source": [
    "X_train_downs, X_test_downs, y_train_downs, y_test_downs = evf.undersample(ccd_df, 'DEFAULT')"
   ]
  },
  {
   "cell_type": "code",
   "execution_count": 38,
   "metadata": {},
   "outputs": [],
   "source": [
    "ccd_rf_downs_clf = RandomForestClassifier(n_estimators=100)\n",
    "\n",
    "ccd_rf_downs_rs_params = {\n",
    "    'class_weight': ['balanced'],\n",
    "    'min_samples_leaf': sp_randint(5, 20),\n",
    "    'min_samples_split': sp_randint(5, 50),\n",
    "    'max_depth': sp_randint(3, 15)\n",
    "}\n",
    "\n",
    "ccd_rf_downs_rs = RandomizedSearchCV(\n",
    "    ccd_tr_rf_downs_clf, ccd_tr_rf_downs_rs_params, n_iter=100, n_jobs=-1, scoring='f1', cv=3)"
   ]
  },
  {
   "cell_type": "code",
   "execution_count": 39,
   "metadata": {},
   "outputs": [],
   "source": [
    "ccd_rf_downs_rs.fit(X_train_downs, y_train_downs);"
   ]
  },
  {
   "cell_type": "code",
   "execution_count": 40,
   "metadata": {},
   "outputs": [
    {
     "name": "stdout",
     "output_type": "stream",
     "text": [
      "Training Scores:\n",
      "f-1 score: 0.7359237090392614\n",
      "recall: 0.685633270321361\n",
      "precision:0.7941756076198817\n",
      "Test Scores:\n",
      "f-1 score: 0.6757954087797019\n",
      "recall: 0.6233283803863299\n",
      "precision:0.7379067722075637\n"
     ]
    },
    {
     "data": {
      "image/png": "[encoded data removed]",
      "text/plain": [
       "<Figure size 432x288 with 1 Axes>"
      ]
     },
     "metadata": {
      "needs_background": "light"
     },
     "output_type": "display_data"
    }
   ],
   "source": [
    "evf.scores_confusion_matrix(ccd_rf_downs_rs, X_train_downs, X_test_downs, y_train_downs, y_test_downs)"
   ]
  },
  {
   "cell_type": "markdown",
   "metadata": {},
   "source": [
    "## SMOTE"
   ]
  },
  {
   "cell_type": "code",
   "execution_count": 9,
   "metadata": {},
   "outputs": [],
   "source": [
    "ccd_smote = SMOTE()\n",
    "\n",
    "X = ccd_df.drop('DEFAULT', axis=1)\n",
    "y = ccd_df.DEFAULT\n",
    "\n",
    "X_train_sm, X_test_sm, y_train_sm, y_test_sm = train_test_split(X, y, test_size=0.2)\n",
    "X_sm, y_sm = ccd_smote.fit_resample(X_train_sm, y_train_sm)"
   ]
  },
  {
   "cell_type": "code",
   "execution_count": 11,
   "metadata": {},
   "outputs": [],
   "source": [
    "ccd_sm_rf_rs_clf = RandomForestClassifier(n_estimators=100)\n",
    "\n",
    "ccd_sm_rf_rs_params = {\n",
    "    'class_weight': ['balanced'],\n",
    "    'min_samples_leaf': sp_randint(5, 20),\n",
    "    'min_samples_split': sp_randint(5, 50),\n",
    "    'max_depth': sp_randint(3, 15)\n",
    "}\n",
    "\n",
    "\n",
    "ccd_sm_rf_rs = RandomizedSearchCV(ccd_sm_rf_rs_clf, ccd_sm_rf_rs_params, scoring='recall', cv=3)"
   ]
  },
  {
   "cell_type": "code",
   "execution_count": 12,
   "metadata": {},
   "outputs": [],
   "source": [
    "ccd_sm_rf_rs.fit(X_sm, y_sm);"
   ]
  },
  {
   "cell_type": "code",
   "execution_count": 13,
   "metadata": {},
   "outputs": [
    {
     "name": "stdout",
     "output_type": "stream",
     "text": [
      "Training Scores:\n",
      "f-1 score: 0.5780081577158396\n",
      "recall: 0.6362956033676334\n",
      "precision:0.5295033473454772\n",
      "Test Scores:\n",
      "f-1 score: 0.5550630753494715\n",
      "recall: 0.6305189775367932\n",
      "precision:0.49573690621193667\n"
     ]
    },
    {
     "data": {
      "image/png": "[encoded data removed]",
      "text/plain": [
       "<Figure size 432x288 with 1 Axes>"
      ]
     },
     "metadata": {
      "needs_background": "light"
     },
     "output_type": "display_data"
    }
   ],
   "source": [
    "evf.scores_confusion_matrix(ccd_sm_rf_rs, X_train_sm, X_test_sm, y_train_sm, y_test_sm )"
   ]
  },
  {
   "cell_type": "markdown",
   "metadata": {},
   "source": [
    "# Fully transformed data"
   ]
  },
  {
   "cell_type": "code",
   "execution_count": 16,
   "metadata": {},
   "outputs": [],
   "source": [
    "cd.change_to_data_dir()\n",
    "ccd_tr = pd.read_csv(\"processed/transformed_credit_card_default.csv\")\n",
    "cd.change_to_notebook_dir()"
   ]
  },
  {
   "cell_type": "code",
   "execution_count": 17,
   "metadata": {},
   "outputs": [],
   "source": [
    "X_tr = ccd_tr.drop('DEFAULT', axis=1)\n",
    "y_tr = ccd_tr.DEFAULT\n",
    "X_tr_train, X_tr_test, y_tr_train, y_tr_test = train_test_split(\n",
    "    X_tr, y_tr, test_size=0.2)"
   ]
  },
  {
   "cell_type": "markdown",
   "metadata": {},
   "source": [
    "## Decision Trees"
   ]
  },
  {
   "cell_type": "code",
   "execution_count": 28,
   "metadata": {},
   "outputs": [],
   "source": [
    "ccd_tr_dt_clf = DecisionTreeClassifier()\n",
    "\n",
    "ccd_tr_dt_rs_params = {\n",
    "    'class_weight': ['balanced'],\n",
    "    'min_samples_leaf': sp_randint(5, 20),\n",
    "    'min_samples_split': sp_randint(5, 50),\n",
    "    'max_depth': sp_randint(3, 15)\n",
    "}\n",
    "\n",
    "ccd_tr_dt_rs = RandomizedSearchCV(ccd_tr_dt_clf, ccd_tr_dt_rs_params, cv=3, scoring='recall', n_jobs=-1, n_iter=100)"
   ]
  },
  {
   "cell_type": "code",
   "execution_count": 29,
   "metadata": {},
   "outputs": [],
   "source": [
    "ccd_tr_dt_rs.fit(X_tr_train, y_tr_train);"
   ]
  },
  {
   "cell_type": "code",
   "execution_count": 30,
   "metadata": {},
   "outputs": [
    {
     "name": "stdout",
     "output_type": "stream",
     "text": [
      "Training Scores:\n",
      "f-1 score: 0.7358992026774288\n",
      "recall: 0.7028958254983076\n",
      "precision:0.7721545135302623\n",
      "Test Scores:\n",
      "f-1 score: 0.6682389937106918\n",
      "recall: 0.644916540212443\n",
      "precision:0.6933115823817292\n"
     ]
    },
    {
     "data": {
      "image/png": "[encoded data removed]",
      "text/plain": [
       "<Figure size 432x288 with 1 Axes>"
      ]
     },
     "metadata": {
      "needs_background": "light"
     },
     "output_type": "display_data"
    }
   ],
   "source": [
    "evf.scores_confusion_matrix(ccd_tr_dt_rs, X_tr_train_downs,\n",
    "                      X_tr_test_downs, y_tr_train_downs, y_tr_test_downs)"
   ]
  },
  {
   "cell_type": "code",
   "execution_count": null,
   "metadata": {},
   "outputs": [],
   "source": []
  },
  {
   "cell_type": "markdown",
   "metadata": {},
   "source": [
    "## Random Forest"
   ]
  },
  {
   "cell_type": "code",
   "execution_count": 48,
   "metadata": {},
   "outputs": [],
   "source": [
    "ccd_tr_rf_clf = RandomForestClassifier(n_estimators=100)\n",
    "\n",
    "ccd_tr_rf_rs_params = {\n",
    "    'class_weight': ['balanced'],\n",
    "    'min_samples_leaf': sp_randint(5, 20),\n",
    "    'min_samples_split': sp_randint(5, 50),\n",
    "    'max_depth': sp_randint(3, 15)\n",
    "}\n",
    "\n",
    "ccd_tr_rf_rs = RandomizedSearchCV(ccd_tr_rf_clf, ccd_tr_rf_rs_params, cv=3, scoring='f1', n_jobs=-1)"
   ]
  },
  {
   "cell_type": "code",
   "execution_count": 49,
   "metadata": {},
   "outputs": [],
   "source": [
    "ccd_tr_rf_rs.fit(X_tr_train, y_tr_train);"
   ]
  },
  {
   "cell_type": "code",
   "execution_count": 50,
   "metadata": {},
   "outputs": [
    {
     "name": "stdout",
     "output_type": "stream",
     "text": [
      "Training Scores:\n",
      "f-1 score: 0.7368526897938663\n",
      "recall: 0.6905390124387486\n",
      "precision:0.7898253934037508\n",
      "Test Scores:\n",
      "f-1 score: 0.6821705426356589\n",
      "recall: 0.6285714285714286\n",
      "precision:0.7457627118644068\n"
     ]
    },
    {
     "data": {
      "image/png": "[encoded data removed]",
      "text/plain": [
       "<Figure size 432x288 with 1 Axes>"
      ]
     },
     "metadata": {
      "needs_background": "light"
     },
     "output_type": "display_data"
    }
   ],
   "source": [
    "evf.scores_confusion_matrix(ccd_tr_rf_rs, X_tr_train_downs,\n",
    "                      X_tr_test_downs, y_tr_train_downs, y_tr_test_downs)"
   ]
  },
  {
   "cell_type": "markdown",
   "metadata": {},
   "source": [
    "## Undersampled Data"
   ]
  },
  {
   "cell_type": "code",
   "execution_count": 18,
   "metadata": {},
   "outputs": [],
   "source": [
    "X_tr_train_downs, X_tr_test_downs, y_tr_train_downs, y_tr_test_downs = evf.undersample(ccd_tr, 'DEFAULT')"
   ]
  },
  {
   "cell_type": "code",
   "execution_count": 19,
   "metadata": {},
   "outputs": [],
   "source": [
    "ccd_tr_rf_downs_clf = RandomForestClassifier(n_estimators=100)\n",
    "\n",
    "ccd_tr_rf_downs_rs_params = {\n",
    "    'class_weight': ['balanced'],\n",
    "    'min_samples_leaf': sp_randint(5, 20),\n",
    "    'min_samples_split': sp_randint(5, 50),\n",
    "    'max_depth': sp_randint(3, 15)\n",
    "}\n",
    "\n",
    "ccd_tr_rf_downs_rs = RandomizedSearchCV(\n",
    "    ccd_tr_rf_downs_clf, ccd_tr_rf_downs_rs_params, n_iter=100, n_jobs=-1, scoring='recall', cv=3)"
   ]
  },
  {
   "cell_type": "code",
   "execution_count": 20,
   "metadata": {},
   "outputs": [],
   "source": [
    "ccd_tr_rf_downs_rs.fit(X_tr_train_downs, y_tr_train_downs);"
   ]
  },
  {
   "cell_type": "code",
   "execution_count": 21,
   "metadata": {},
   "outputs": [
    {
     "name": "stdout",
     "output_type": "stream",
     "text": [
      "Training Scores:\n",
      "f-1 score: 0.7616438356164383\n",
      "recall: 0.705716434749906\n",
      "precision:0.8271985893762398\n",
      "Test Scores:\n",
      "f-1 score: 0.6937269372693726\n",
      "recall: 0.6418816388467374\n",
      "precision:0.7546833184656556\n"
     ]
    },
    {
     "data": {
      "image/png": "[encoded data removed]",
      "text/plain": [
       "<Figure size 432x288 with 1 Axes>"
      ]
     },
     "metadata": {
      "needs_background": "light"
     },
     "output_type": "display_data"
    }
   ],
   "source": [
    "evf.scores_confusion_matrix(ccd_tr_rf_downs_rs, X_tr_train_downs,\n",
    "                      X_tr_test_downs, y_tr_train_downs, y_tr_test_downs)"
   ]
  },
  {
   "cell_type": "markdown",
   "metadata": {},
   "source": [
    "## Upsampled Data"
   ]
  },
  {
   "cell_type": "code",
   "execution_count": 33,
   "metadata": {},
   "outputs": [],
   "source": [
    "X_tr_train_ups, X_tr_test_ups, y_tr_train_ups, y_tr_test_ups = evf.upsample(ccd_tr, 'DEFAULT')"
   ]
  },
  {
   "cell_type": "code",
   "execution_count": 34,
   "metadata": {},
   "outputs": [],
   "source": [
    "ccd_tr_rf_ups_clf = RandomForestClassifier(n_estimators=100)\n",
    "\n",
    "ccd_tr_rf_ups_rs_params = {\n",
    "    'class_weight': ['balanced'],\n",
    "    'min_samples_leaf': sp_randint(5, 20),\n",
    "    'min_samples_split': sp_randint(5, 50),\n",
    "    'max_depth': sp_randint(3, 15)\n",
    "}\n",
    "\n",
    "ccd_tr_rf_ups_rs = RandomizedSearchCV(\n",
    "    ccd_tr_rf_ups_clf, ccd_tr_rf_ups_rs_params, n_iter=100, n_jobs=-1, scoring='f1', cv=3 )"
   ]
  },
  {
   "cell_type": "code",
   "execution_count": 36,
   "metadata": {},
   "outputs": [],
   "source": [
    "ccd_tr_rf_ups_rs.fit(X_tr_train_ups, y_tr_train_ups);"
   ]
  },
  {
   "cell_type": "code",
   "execution_count": 37,
   "metadata": {},
   "outputs": [
    {
     "name": "stdout",
     "output_type": "stream",
     "text": [
      "Training Scores:\n",
      "f-1 score: 0.8144859944371085\n",
      "recall: 0.7755069284682468\n",
      "precision:0.8575908176547155\n",
      "Test Scores:\n",
      "f-1 score: 0.5427065026362039\n",
      "recall: 0.5813253012048193\n",
      "precision:0.5088991430454846\n"
     ]
    },
    {
     "data": {
      "image/png": "[encoded data removed]",
      "text/plain": [
       "<Figure size 432x288 with 1 Axes>"
      ]
     },
     "metadata": {
      "needs_background": "light"
     },
     "output_type": "display_data"
    }
   ],
   "source": [
    "evf.scores_confusion_matrix(ccd_tr_rf_ups_rs, X_tr_train_ups,\n",
    "                        X_tr_test_ups, y_tr_train_ups, y_tr_test_ups)"
   ]
  },
  {
   "cell_type": "code",
   "execution_count": null,
   "metadata": {},
   "outputs": [],
   "source": []
  },
  {
   "cell_type": "markdown",
   "metadata": {},
   "source": [
    "# SVM with PCA data"
   ]
  },
  {
   "cell_type": "code",
   "execution_count": 46,
   "metadata": {},
   "outputs": [],
   "source": [
    "ccd_pca = PCA(n_components=10)\n"
   ]
  },
  {
   "cell_type": "code",
   "execution_count": 47,
   "metadata": {},
   "outputs": [],
   "source": [
    "ccd_tr_pca = ccd_pca.fit_transform(X_tr_train)\n",
    "ccd_tr_pca_test = ccd_pca.transform(X_tr_test)"
   ]
  },
  {
   "cell_type": "code",
   "execution_count": 48,
   "metadata": {},
   "outputs": [],
   "source": [
    "ccd_svm = SVC(gamma='auto')"
   ]
  },
  {
   "cell_type": "code",
   "execution_count": 49,
   "metadata": {},
   "outputs": [
    {
     "data": {
      "text/plain": [
       "SVC(C=1.0, cache_size=200, class_weight=None, coef0=0.0,\n",
       "    decision_function_shape='ovr', degree=3, gamma='auto', kernel='rbf',\n",
       "    max_iter=-1, probability=False, random_state=None, shrinking=True,\n",
       "    tol=0.001, verbose=False)"
      ]
     },
     "execution_count": 49,
     "metadata": {},
     "output_type": "execute_result"
    }
   ],
   "source": [
    "ccd_svm.fit(ccd_tr_pca, y_tr_train)"
   ]
  },
  {
   "cell_type": "code",
   "execution_count": 50,
   "metadata": {},
   "outputs": [],
   "source": [
    "svm_preds = ccd_svm.predict(ccd_tr_pca_test)"
   ]
  },
  {
   "cell_type": "code",
   "execution_count": 51,
   "metadata": {},
   "outputs": [
    {
     "name": "stdout",
     "output_type": "stream",
     "text": [
      "f-1 score: 0.04657534246575343\n",
      "recall: 0.025411061285500747\n",
      "precision:0.2786885245901639\n"
     ]
    }
   ],
   "source": [
    "evf.all_scores(y_tr_test, svm_preds)"
   ]
  },
  {
   "cell_type": "code",
   "execution_count": null,
   "metadata": {},
   "outputs": [],
   "source": []
  }
 ],
 "metadata": {
  "kernelspec": {
   "display_name": "Python 3",
   "language": "python",
   "name": "python3"
  },
  "language_info": {
   "codemirror_mode": {
    "name": "ipython",
    "version": 3
   },
   "file_extension": ".py",
   "mimetype": "text/x-python",
   "name": "python",
   "nbconvert_exporter": "python",
   "pygments_lexer": "ipython3",
   "version": "3.6.8"
  },
  "toc": {
   "base_numbering": 1,
   "nav_menu": {},
   "number_sections": true,
   "sideBar": true,
   "skip_h1_title": false,
   "title_cell": "Table of Contents",
   "title_sidebar": "Contents",
   "toc_cell": false,
   "toc_position": {
    "height": "calc(100% - 180px)",
    "left": "10px",
    "top": "150px",
    "width": "165px"
   },
   "toc_section_display": true,
   "toc_window_display": true
  }
 },
 "nbformat": 4,
 "nbformat_minor": 2
}
