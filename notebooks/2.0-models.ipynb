{
 "cells": [
  {
   "cell_type": "markdown",
   "metadata": {},
   "source": [
    "# Import Everything\n",
    "## Import necessary modules"
   ]
  },
  {
   "cell_type": "code",
   "execution_count": 169,
   "metadata": {
    "scrolled": true
   },
   "outputs": [],
   "source": [
    "\n",
    "import matplotlib.pyplot as plt\n",
    "import numpy as np\n",
    "import os\n",
    "import pandas as pd\n",
    "import xgboost as xgb\n",
    "\n",
    "from pathlib import Path\n",
    "from sklearn.ensemble import RandomForestClassifier\n",
    "from sklearn.linear_model import LogisticRegression\n",
    "from sklearn.metrics import auc, f1_score, recall_score, roc_curve, roc_auc_score\n",
    "from sklearn.model_selection import GridSearchCV, RandomizedSearchCV, train_test_split\n",
    "from sklearn.tree import DecisionTreeClassifier\n",
    "from yellowbrick.classifier import ConfusionMatrix\n",
    "\n",
    "main_path = os.getcwd()\n",
    "parent_path = Path(os.getcwd()).parent\n",
    "src_path = str(parent_path) + \"/src/directories\"\n",
    "os.chdir(src_path)\n",
    "\n",
    "import change_directory\n",
    "\n",
    "os.chdir(main_path)"
   ]
  },
  {
   "cell_type": "markdown",
   "metadata": {},
   "source": [
    "## Import data"
   ]
  },
  {
   "cell_type": "code",
   "execution_count": 6,
   "metadata": {},
   "outputs": [],
   "source": [
    "cd = change_directory.ChangeDirectory()\n",
    "cd.change_to_data_dir()\n",
    "ccd_df = pd.read_csv(\"processed/processed_credit_card_defaults.csv\")\n",
    "cd.change_to_notebook_dir()"
   ]
  },
  {
   "cell_type": "code",
   "execution_count": 8,
   "metadata": {
    "scrolled": true
   },
   "outputs": [
    {
     "data": {
      "text/html": [
       "<div>\n",
       "<style scoped>\n",
       "    .dataframe tbody tr th:only-of-type {\n",
       "        vertical-align: middle;\n",
       "    }\n",
       "\n",
       "    .dataframe tbody tr th {\n",
       "        vertical-align: top;\n",
       "    }\n",
       "\n",
       "    .dataframe thead th {\n",
       "        text-align: right;\n",
       "    }\n",
       "</style>\n",
       "<table border=\"1\" class=\"dataframe\">\n",
       "  <thead>\n",
       "    <tr style=\"text-align: right;\">\n",
       "      <th></th>\n",
       "      <th>LIMIT_BAL</th>\n",
       "      <th>AGE</th>\n",
       "      <th>Bill_amount_Sep</th>\n",
       "      <th>Bill_amount_Aug</th>\n",
       "      <th>Bill_amount_Jul</th>\n",
       "      <th>Bill_amount_Jun</th>\n",
       "      <th>Bill_amount_May</th>\n",
       "      <th>Bill_amount_Apr</th>\n",
       "      <th>Bill_amount_Sep.1</th>\n",
       "      <th>Bill_amount_Aug.1</th>\n",
       "      <th>...</th>\n",
       "      <th>Payment_hist_Apr_-2</th>\n",
       "      <th>Payment_hist_Apr_-1</th>\n",
       "      <th>Payment_hist_Apr_0</th>\n",
       "      <th>Payment_hist_Apr_2</th>\n",
       "      <th>Payment_hist_Apr_3</th>\n",
       "      <th>Payment_hist_Apr_4</th>\n",
       "      <th>Payment_hist_Apr_5</th>\n",
       "      <th>Payment_hist_Apr_6</th>\n",
       "      <th>Payment_hist_Apr_7</th>\n",
       "      <th>Payment_hist_Apr_8</th>\n",
       "    </tr>\n",
       "  </thead>\n",
       "  <tbody>\n",
       "    <tr>\n",
       "      <th>0</th>\n",
       "      <td>20000</td>\n",
       "      <td>24</td>\n",
       "      <td>3913</td>\n",
       "      <td>3102</td>\n",
       "      <td>689</td>\n",
       "      <td>0</td>\n",
       "      <td>0</td>\n",
       "      <td>0</td>\n",
       "      <td>0</td>\n",
       "      <td>689</td>\n",
       "      <td>...</td>\n",
       "      <td>1</td>\n",
       "      <td>0</td>\n",
       "      <td>0</td>\n",
       "      <td>0</td>\n",
       "      <td>0</td>\n",
       "      <td>0</td>\n",
       "      <td>0</td>\n",
       "      <td>0</td>\n",
       "      <td>0</td>\n",
       "      <td>0</td>\n",
       "    </tr>\n",
       "    <tr>\n",
       "      <th>1</th>\n",
       "      <td>120000</td>\n",
       "      <td>26</td>\n",
       "      <td>2682</td>\n",
       "      <td>1725</td>\n",
       "      <td>2682</td>\n",
       "      <td>3272</td>\n",
       "      <td>3455</td>\n",
       "      <td>3261</td>\n",
       "      <td>0</td>\n",
       "      <td>1000</td>\n",
       "      <td>...</td>\n",
       "      <td>0</td>\n",
       "      <td>0</td>\n",
       "      <td>0</td>\n",
       "      <td>1</td>\n",
       "      <td>0</td>\n",
       "      <td>0</td>\n",
       "      <td>0</td>\n",
       "      <td>0</td>\n",
       "      <td>0</td>\n",
       "      <td>0</td>\n",
       "    </tr>\n",
       "    <tr>\n",
       "      <th>2</th>\n",
       "      <td>90000</td>\n",
       "      <td>34</td>\n",
       "      <td>29239</td>\n",
       "      <td>14027</td>\n",
       "      <td>13559</td>\n",
       "      <td>14331</td>\n",
       "      <td>14948</td>\n",
       "      <td>15549</td>\n",
       "      <td>1518</td>\n",
       "      <td>1500</td>\n",
       "      <td>...</td>\n",
       "      <td>0</td>\n",
       "      <td>0</td>\n",
       "      <td>1</td>\n",
       "      <td>0</td>\n",
       "      <td>0</td>\n",
       "      <td>0</td>\n",
       "      <td>0</td>\n",
       "      <td>0</td>\n",
       "      <td>0</td>\n",
       "      <td>0</td>\n",
       "    </tr>\n",
       "    <tr>\n",
       "      <th>3</th>\n",
       "      <td>50000</td>\n",
       "      <td>37</td>\n",
       "      <td>46990</td>\n",
       "      <td>48233</td>\n",
       "      <td>49291</td>\n",
       "      <td>28314</td>\n",
       "      <td>28959</td>\n",
       "      <td>29547</td>\n",
       "      <td>2000</td>\n",
       "      <td>2019</td>\n",
       "      <td>...</td>\n",
       "      <td>0</td>\n",
       "      <td>0</td>\n",
       "      <td>1</td>\n",
       "      <td>0</td>\n",
       "      <td>0</td>\n",
       "      <td>0</td>\n",
       "      <td>0</td>\n",
       "      <td>0</td>\n",
       "      <td>0</td>\n",
       "      <td>0</td>\n",
       "    </tr>\n",
       "    <tr>\n",
       "      <th>4</th>\n",
       "      <td>50000</td>\n",
       "      <td>57</td>\n",
       "      <td>8617</td>\n",
       "      <td>5670</td>\n",
       "      <td>35835</td>\n",
       "      <td>20940</td>\n",
       "      <td>19146</td>\n",
       "      <td>19131</td>\n",
       "      <td>2000</td>\n",
       "      <td>36681</td>\n",
       "      <td>...</td>\n",
       "      <td>0</td>\n",
       "      <td>0</td>\n",
       "      <td>1</td>\n",
       "      <td>0</td>\n",
       "      <td>0</td>\n",
       "      <td>0</td>\n",
       "      <td>0</td>\n",
       "      <td>0</td>\n",
       "      <td>0</td>\n",
       "      <td>0</td>\n",
       "    </tr>\n",
       "  </tbody>\n",
       "</table>\n",
       "<p>5 rows × 89 columns</p>\n",
       "</div>"
      ],
      "text/plain": [
       "   LIMIT_BAL  AGE  Bill_amount_Sep  Bill_amount_Aug  Bill_amount_Jul  \\\n",
       "0      20000   24             3913             3102              689   \n",
       "1     120000   26             2682             1725             2682   \n",
       "2      90000   34            29239            14027            13559   \n",
       "3      50000   37            46990            48233            49291   \n",
       "4      50000   57             8617             5670            35835   \n",
       "\n",
       "   Bill_amount_Jun  Bill_amount_May  Bill_amount_Apr  Bill_amount_Sep.1  \\\n",
       "0                0                0                0                  0   \n",
       "1             3272             3455             3261                  0   \n",
       "2            14331            14948            15549               1518   \n",
       "3            28314            28959            29547               2000   \n",
       "4            20940            19146            19131               2000   \n",
       "\n",
       "   Bill_amount_Aug.1         ...          Payment_hist_Apr_-2  \\\n",
       "0                689         ...                            1   \n",
       "1               1000         ...                            0   \n",
       "2               1500         ...                            0   \n",
       "3               2019         ...                            0   \n",
       "4              36681         ...                            0   \n",
       "\n",
       "   Payment_hist_Apr_-1  Payment_hist_Apr_0  Payment_hist_Apr_2  \\\n",
       "0                    0                   0                   0   \n",
       "1                    0                   0                   1   \n",
       "2                    0                   1                   0   \n",
       "3                    0                   1                   0   \n",
       "4                    0                   1                   0   \n",
       "\n",
       "   Payment_hist_Apr_3  Payment_hist_Apr_4  Payment_hist_Apr_5  \\\n",
       "0                   0                   0                   0   \n",
       "1                   0                   0                   0   \n",
       "2                   0                   0                   0   \n",
       "3                   0                   0                   0   \n",
       "4                   0                   0                   0   \n",
       "\n",
       "   Payment_hist_Apr_6  Payment_hist_Apr_7  Payment_hist_Apr_8  \n",
       "0                   0                   0                   0  \n",
       "1                   0                   0                   0  \n",
       "2                   0                   0                   0  \n",
       "3                   0                   0                   0  \n",
       "4                   0                   0                   0  \n",
       "\n",
       "[5 rows x 89 columns]"
      ]
     },
     "execution_count": 8,
     "metadata": {},
     "output_type": "execute_result"
    }
   ],
   "source": []
  },
  {
   "cell_type": "markdown",
   "metadata": {},
   "source": [
    "# Begin Model Building\n",
    "## Train-Test Split"
   ]
  },
  {
   "cell_type": "code",
   "execution_count": 9,
   "metadata": {},
   "outputs": [
    {
     "data": {
      "text/plain": [
       "Index(['LIMIT_BAL', 'AGE', 'Bill_amount_Sep', 'Bill_amount_Aug',\n",
       "       'Bill_amount_Jul', 'Bill_amount_Jun', 'Bill_amount_May',\n",
       "       'Bill_amount_Apr', 'Bill_amount_Sep.1', 'Bill_amount_Aug.1',\n",
       "       'Bill_amount_Jul.1', 'Bill_amount_Jun.1', 'Bill_amount_May.1',\n",
       "       'Bill_amount_Apr.1', 'DEFAULT', 'FEMALE', 'GRADUATE_SCHOOL',\n",
       "       'UNIVERSITY', 'HIGH_SCHOOL', 'EDUCATION_OTHERS', 'EDUCATION_UNKNOWN_1',\n",
       "       'EDUCATION_UNKNOWN_2', 'MARRIED', 'SINGLE', 'MARRIAGE_OTHERS',\n",
       "       'Payment_history_Sept_-2', 'Payment_history_Sept_-1',\n",
       "       'Payment_history_Sept_0', 'Payment_history_Sept_1',\n",
       "       'Payment_history_Sept_2', 'Payment_history_Sept_3',\n",
       "       'Payment_history_Sept_4', 'Payment_history_Sept_5',\n",
       "       'Payment_history_Sept_6', 'Payment_history_Sept_7',\n",
       "       'Payment_history_Sept_8', 'Payment_history_Aug_-2',\n",
       "       'Payment_history_Aug_-1', 'Payment_history_Aug_0',\n",
       "       'Payment_history_Aug_1', 'Payment_history_Aug_2',\n",
       "       'Payment_history_Aug_3', 'Payment_history_Aug_4',\n",
       "       'Payment_history_Aug_5', 'Payment_history_Aug_6',\n",
       "       'Payment_history_Aug_7', 'Payment_history_Aug_8', 'Payment_hist_Jul_-2',\n",
       "       'Payment_hist_Jul_-1', 'Payment_hist_Jul_0', 'Payment_hist_Jul_1',\n",
       "       'Payment_hist_Jul_2', 'Payment_hist_Jul_3', 'Payment_hist_Jul_4',\n",
       "       'Payment_hist_Jul_5', 'Payment_hist_Jul_6', 'Payment_hist_Jul_7',\n",
       "       'Payment_hist_Jul_8', 'Payment_hist_Jun_-2', 'Payment_hist_Jun_-1',\n",
       "       'Payment_hist_Jun_0', 'Payment_hist_Jun_1', 'Payment_hist_Jun_2',\n",
       "       'Payment_hist_Jun_3', 'Payment_hist_Jun_4', 'Payment_hist_Jun_5',\n",
       "       'Payment_hist_Jun_6', 'Payment_hist_Jun_7', 'Payment_hist_Jun_8',\n",
       "       'Payment_hist_May_-2', 'Payment_hist_May_-1', 'Payment_hist_May_0',\n",
       "       'Payment_hist_May_2', 'Payment_hist_May_3', 'Payment_hist_May_4',\n",
       "       'Payment_hist_May_5', 'Payment_hist_May_6', 'Payment_hist_May_7',\n",
       "       'Payment_hist_May_8', 'Payment_hist_Apr_-2', 'Payment_hist_Apr_-1',\n",
       "       'Payment_hist_Apr_0', 'Payment_hist_Apr_2', 'Payment_hist_Apr_3',\n",
       "       'Payment_hist_Apr_4', 'Payment_hist_Apr_5', 'Payment_hist_Apr_6',\n",
       "       'Payment_hist_Apr_7', 'Payment_hist_Apr_8'],\n",
       "      dtype='object')"
      ]
     },
     "execution_count": 9,
     "metadata": {},
     "output_type": "execute_result"
    }
   ],
   "source": [
    "ccd_df.columns"
   ]
  },
  {
   "cell_type": "code",
   "execution_count": 10,
   "metadata": {},
   "outputs": [],
   "source": [
    "X = ccd_df.drop('DEFAULT', axis=1)\n",
    "y = ccd_df.DEFAULT\n",
    "X_train, X_test, y_train, y_test = train_test_split(X, y, test_size=0.2, random_state=2819)"
   ]
  },
  {
   "cell_type": "markdown",
   "metadata": {},
   "source": [
    "## Decision Tree"
   ]
  },
  {
   "cell_type": "code",
   "execution_count": 175,
   "metadata": {},
   "outputs": [],
   "source": [
    "ccd_dt = DecisionTreeClassifier()\n",
    "class_weights_gs = [{0:100, 1:1}, 'balanced', {0:10, 1:1}]\n",
    "param_grid = {'criterion': ['gini', 'entropy'],\n",
    "              'max_depth':[None, 8, 10],\n",
    "              'min_samples_split':[10, 25],\n",
    "              'min_samples_leaf':[1, 5],\n",
    "              'max_features':[None, 'sqrt'], \n",
    "              'class_weight':class_weights_gs }\n",
    "\n",
    "dt_gs = GridSearchCV(ccd_dt, param_grid, cv=3, scoring='f1', refit=True)"
   ]
  },
  {
   "cell_type": "code",
   "execution_count": 176,
   "metadata": {},
   "outputs": [
    {
     "data": {
      "text/plain": [
       "GridSearchCV(cv=3, error_score='raise-deprecating',\n",
       "       estimator=DecisionTreeClassifier(class_weight=None, criterion='gini', max_depth=None,\n",
       "            max_features=None, max_leaf_nodes=None,\n",
       "            min_impurity_decrease=0.0, min_impurity_split=None,\n",
       "            min_samples_leaf=1, min_samples_split=2,\n",
       "            min_weight_fraction_leaf=0.0, presort=False, random_state=None,\n",
       "            splitter='best'),\n",
       "       fit_params=None, iid='warn', n_jobs=None,\n",
       "       param_grid={'criterion': ['gini', 'entropy'], 'max_depth': [None, 8, 10], 'min_samples_split': [10, 25], 'min_samples_leaf': [1, 5], 'max_features': [None, 'sqrt'], 'class_weight': [{0: 100, 1: 1}, 'balanced', {0: 10, 1: 1}]},\n",
       "       pre_dispatch='2*n_jobs', refit=True, return_train_score='warn',\n",
       "       scoring='f1', verbose=0)"
      ]
     },
     "execution_count": 176,
     "metadata": {},
     "output_type": "execute_result"
    }
   ],
   "source": [
    "dt_gs.fit(X_train, y_train)"
   ]
  },
  {
   "cell_type": "markdown",
   "metadata": {},
   "source": [
    "### Evaluating the best tree"
   ]
  },
  {
   "cell_type": "code",
   "execution_count": 177,
   "metadata": {},
   "outputs": [
    {
     "data": {
      "text/plain": [
       "{'class_weight': 'balanced',\n",
       " 'criterion': 'entropy',\n",
       " 'max_depth': 8,\n",
       " 'max_features': None,\n",
       " 'min_samples_leaf': 1,\n",
       " 'min_samples_split': 25}"
      ]
     },
     "execution_count": 177,
     "metadata": {},
     "output_type": "execute_result"
    }
   ],
   "source": [
    "dt_gs.best_params_"
   ]
  },
  {
   "cell_type": "code",
   "execution_count": 182,
   "metadata": {},
   "outputs": [
    {
     "data": {
      "text/plain": [
       "DecisionTreeClassifier(class_weight='balanced', criterion='entropy',\n",
       "            max_depth=8, max_features=None, max_leaf_nodes=None,\n",
       "            min_impurity_decrease=0.0, min_impurity_split=None,\n",
       "            min_samples_leaf=1, min_samples_split=25,\n",
       "            min_weight_fraction_leaf=0.0, presort=False, random_state=None,\n",
       "            splitter='best')"
      ]
     },
     "execution_count": 182,
     "metadata": {},
     "output_type": "execute_result"
    }
   ],
   "source": [
    "best_tree = DecisionTreeClassifier(**dt_gs.best_params_)\n",
    "best_tree.fit(X_train, y_train)"
   ]
  },
  {
   "cell_type": "code",
   "execution_count": 183,
   "metadata": {},
   "outputs": [
    {
     "data": {
      "text/plain": [
       "0.5122177544076709"
      ]
     },
     "execution_count": 183,
     "metadata": {},
     "output_type": "execute_result"
    }
   ],
   "source": [
    "y_preds_best_tree = best_tree.predict(X_test)\n",
    "f1_score(y_test, y_preds_best_tree)"
   ]
  },
  {
   "cell_type": "markdown",
   "metadata": {},
   "source": [
    "### Confusion Matrix"
   ]
  },
  {
   "cell_type": "code",
   "execution_count": 45,
   "metadata": {
    "scrolled": true
   },
   "outputs": [
    {
     "data": {
      "image/png": "[encoded data removed]",
      "text/plain": [
       "<Figure size 432x288 with 1 Axes>"
      ]
     },
     "metadata": {
      "needs_background": "light"
     },
     "output_type": "display_data"
    }
   ],
   "source": [
    "cm = ConfusionMatrix(best_tree, classes=[0, 1])\n",
    "cm.fit(X_train, y_train)\n",
    "cm.score(X_test, y_test)\n",
    "cm.poof()"
   ]
  },
  {
   "cell_type": "markdown",
   "metadata": {},
   "source": [
    "## Random Forest"
   ]
  },
  {
   "cell_type": "markdown",
   "metadata": {},
   "source": [
    "### Random Forest with the same hyperparameters as the best decision tree"
   ]
  },
  {
   "cell_type": "code",
   "execution_count": 95,
   "metadata": {},
   "outputs": [],
   "source": [
    "ccd_rf = RandomForestClassifier(n_estimators=100, **dt_gs.best_params_)"
   ]
  },
  {
   "cell_type": "code",
   "execution_count": 96,
   "metadata": {},
   "outputs": [
    {
     "data": {
      "text/plain": [
       "RandomForestClassifier(bootstrap=True, class_weight='balanced',\n",
       "            criterion='gini', max_depth=None, max_features='sqrt',\n",
       "            max_leaf_nodes=None, min_impurity_decrease=0.0,\n",
       "            min_impurity_split=None, min_samples_leaf=5,\n",
       "            min_samples_split=25, min_weight_fraction_leaf=0.0,\n",
       "            n_estimators=100, n_jobs=None, oob_score=False,\n",
       "            random_state=None, verbose=0, warm_start=False)"
      ]
     },
     "execution_count": 96,
     "metadata": {},
     "output_type": "execute_result"
    }
   ],
   "source": [
    "ccd_rf.fit(X_train, y_train)"
   ]
  },
  {
   "cell_type": "code",
   "execution_count": 145,
   "metadata": {},
   "outputs": [
    {
     "data": {
      "text/plain": [
       "0.5491773308957953"
      ]
     },
     "execution_count": 145,
     "metadata": {},
     "output_type": "execute_result"
    }
   ],
   "source": [
    "y_preds = ccd_rf.predict(X_test)\n",
    "f1_score(y_test, y_preds)"
   ]
  },
  {
   "cell_type": "code",
   "execution_count": 146,
   "metadata": {},
   "outputs": [
    {
     "name": "stdout",
     "output_type": "stream",
     "text": [
      "0.7144053223001314\n"
     ]
    }
   ],
   "source": [
    "fpr, tpr, auc_thresholds = roc_curve(y_test, y_preds)\n",
    "print(auc(fpr, tpr))"
   ]
  },
  {
   "cell_type": "markdown",
   "metadata": {},
   "source": [
    "### Random Forest GridSearch"
   ]
  },
  {
   "cell_type": "code",
   "execution_count": 132,
   "metadata": {},
   "outputs": [],
   "source": [
    "ccd_rf_clf_gs = RandomForestClassifier(n_estimators=100)"
   ]
  },
  {
   "cell_type": "code",
   "execution_count": 133,
   "metadata": {},
   "outputs": [],
   "source": [
    "ccd_rf_gs_params = {\n",
    "    'class_weight':['balanced', {0:1, 1:100}, {0:1, 1:50}, {0:1, 1:75}],\n",
    "    'min_samples_leaf':[15, 20, 25],\n",
    "    'min_samples_split':[40, 50, 70]\n",
    "}\n",
    "ccd_rf_gs = GridSearchCV(ccd_rf_clf_gs, ccd_rf_gs_params, cv=3, scoring='f1', n_jobs=-1)"
   ]
  },
  {
   "cell_type": "code",
   "execution_count": 134,
   "metadata": {},
   "outputs": [
    {
     "data": {
      "text/plain": [
       "GridSearchCV(cv=3, error_score='raise-deprecating',\n",
       "       estimator=RandomForestClassifier(bootstrap=True, class_weight=None, criterion='gini',\n",
       "            max_depth=None, max_features='auto', max_leaf_nodes=None,\n",
       "            min_impurity_decrease=0.0, min_impurity_split=None,\n",
       "            min_samples_leaf=1, min_samples_split=2,\n",
       "            min_weight_fraction_leaf=0.0, n_estimators=100, n_jobs=None,\n",
       "            oob_score=False, random_state=None, verbose=0,\n",
       "            warm_start=False),\n",
       "       fit_params=None, iid='warn', n_jobs=-1,\n",
       "       param_grid={'class_weight': ['balanced', {0: 1, 1: 100}, {0: 1, 1: 50}, {0: 1, 1: 75}], 'min_samples_leaf': [15, 20, 25], 'min_samples_split': [40, 50, 70]},\n",
       "       pre_dispatch='2*n_jobs', refit=True, return_train_score='warn',\n",
       "       scoring='f1', verbose=0)"
      ]
     },
     "execution_count": 134,
     "metadata": {},
     "output_type": "execute_result"
    }
   ],
   "source": [
    "ccd_rf_gs.fit(X_train, y_train)"
   ]
  },
  {
   "cell_type": "code",
   "execution_count": 135,
   "metadata": {},
   "outputs": [
    {
     "data": {
      "text/plain": [
       "{'class_weight': 'balanced', 'min_samples_leaf': 15, 'min_samples_split': 40}"
      ]
     },
     "execution_count": 135,
     "metadata": {},
     "output_type": "execute_result"
    }
   ],
   "source": [
    "ccd_rf_gs.best_params_\n"
   ]
  },
  {
   "cell_type": "code",
   "execution_count": 136,
   "metadata": {},
   "outputs": [],
   "source": [
    "ccd_rf_opt = RandomForestClassifier(**ccd_rf_gs.best_params_, n_estimators=100)"
   ]
  },
  {
   "cell_type": "code",
   "execution_count": 151,
   "metadata": {},
   "outputs": [
    {
     "name": "stdout",
     "output_type": "stream",
     "text": [
      "0.5534591194968553\n",
      "0.6031987814166032\n"
     ]
    },
    {
     "data": {
      "text/plain": [
       "0.7208441101450416"
      ]
     },
     "execution_count": 151,
     "metadata": {},
     "output_type": "execute_result"
    }
   ],
   "source": [
    "ccd_rf_opt.fit(X_train, y_train)\n",
    "ccd_rf_opt_preds = ccd_rf_opt.predict(X_test)\n",
    "print(f1_score(y_test, ccd_rf_opt_preds))\n",
    "print(recall_score(y_test, ccd_rf_opt_preds))\n",
    "roc_auc_score(y_test, ccd_rf_opt_preds)"
   ]
  },
  {
   "cell_type": "code",
   "execution_count": 137,
   "metadata": {},
   "outputs": [
    {
     "data": {
      "image/png": "[encoded data removed]",
      "text/plain": [
       "<Figure size 432x288 with 1 Axes>"
      ]
     },
     "metadata": {
      "needs_background": "light"
     },
     "output_type": "display_data"
    }
   ],
   "source": [
    "ccd_rf_opt_cm = ConfusionMatrix(ccd_rf_opt)\n",
    "ccd_rf_opt_cm.fit(X_train, y_train)\n",
    "ccd_rf_opt_cm.score(X_test, y_test)\n",
    "ccd_rf_opt_cm.poof()"
   ]
  },
  {
   "cell_type": "code",
   "execution_count": 173,
   "metadata": {},
   "outputs": [],
   "source": [
    "rf_fpr, rf_tpr, rf_thresholds = roc_curve(y_test, ccd_rf_opt.predict_proba(X_test)[:, 1])"
   ]
  },
  {
   "cell_type": "markdown",
   "metadata": {},
   "source": [
    "## XGBoost"
   ]
  },
  {
   "cell_type": "code",
   "execution_count": 138,
   "metadata": {},
   "outputs": [],
   "source": [
    "ccd_xgb = xgb.XGBClassifier(objective='binary:hinge')"
   ]
  },
  {
   "cell_type": "code",
   "execution_count": 139,
   "metadata": {},
   "outputs": [],
   "source": [
    "xgb_gs_params = {\n",
    "    'max_depth':[5, 6, 7, 8, 10]\n",
    "}\n",
    "\n",
    "xgb_gs = GridSearchCV(ccd_xgb, xgb_gs_params, scoring='f1', n_jobs=-1, cv=3)"
   ]
  },
  {
   "cell_type": "code",
   "execution_count": 140,
   "metadata": {},
   "outputs": [],
   "source": [
    "xgb_gs.fit(X_train, y_train);"
   ]
  },
  {
   "cell_type": "code",
   "execution_count": 186,
   "metadata": {},
   "outputs": [
    {
     "data": {
      "text/plain": [
       "0.4772170504654581"
      ]
     },
     "execution_count": 186,
     "metadata": {},
     "output_type": "execute_result"
    }
   ],
   "source": [
    "y_preds_xgb = xgb_gs.predict(X_test)\n",
    "f1_score(y_test, y_preds_xgb)\n"
   ]
  },
  {
   "cell_type": "code",
   "execution_count": null,
   "metadata": {},
   "outputs": [],
   "source": []
  },
  {
   "cell_type": "code",
   "execution_count": 188,
   "metadata": {},
   "outputs": [],
   "source": [
    "dtrain = xgb.DMatrix(X_train, label=np.array(y_train))\n",
    "dtest = xgb.DMatrix(X_test, label=np.array(y_test))"
   ]
  },
  {
   "cell_type": "code",
   "execution_count": 155,
   "metadata": {},
   "outputs": [],
   "source": [
    "xgb_params = {\n",
    "    'objective': 'binary:logistic',\n",
    "    'eval_metric':['error', 'auc'],\n",
    "    'max_depth': 7\n",
    "}"
   ]
  },
  {
   "cell_type": "code",
   "execution_count": 159,
   "metadata": {},
   "outputs": [
    {
     "name": "stdout",
     "output_type": "stream",
     "text": [
      "[0]\tTest-error:0.179333\tTest-auc:0.76417\n",
      "[1]\tTest-error:0.179167\tTest-auc:0.771551\n",
      "[2]\tTest-error:0.1785\tTest-auc:0.775561\n",
      "[3]\tTest-error:0.176333\tTest-auc:0.779066\n",
      "[4]\tTest-error:0.175833\tTest-auc:0.781194\n",
      "[5]\tTest-error:0.176167\tTest-auc:0.782922\n",
      "[6]\tTest-error:0.1775\tTest-auc:0.783921\n",
      "[7]\tTest-error:0.176167\tTest-auc:0.784484\n",
      "[8]\tTest-error:0.177167\tTest-auc:0.784968\n",
      "[9]\tTest-error:0.178\tTest-auc:0.78529\n",
      "[10]\tTest-error:0.178\tTest-auc:0.786607\n"
     ]
    }
   ],
   "source": [
    "ccd_xgb = xgb.train(xgb_params, dtrain=dtrain, evals=[(dtest, 'Test')], num_boost_round=11)"
   ]
  },
  {
   "cell_type": "code",
   "execution_count": 165,
   "metadata": {},
   "outputs": [
    {
     "data": {
      "text/plain": [
       "0.46865671641791046"
      ]
     },
     "execution_count": 165,
     "metadata": {},
     "output_type": "execute_result"
    }
   ],
   "source": [
    "xgb_preds = (ccd_xgb.predict(dtest) >=0.5).astype(int)\n",
    "f1_score(y_test, xgb_preds)"
   ]
  },
  {
   "cell_type": "code",
   "execution_count": 171,
   "metadata": {},
   "outputs": [],
   "source": [
    "xgb_fpr, xgb_tpr, xgb_thresholds = roc_curve(y_test, ccd_xgb.predict(dtest))"
   ]
  },
  {
   "cell_type": "code",
   "execution_count": 174,
   "metadata": {},
   "outputs": [
    {
     "data": {
      "text/plain": [
       "[<matplotlib.lines.Line2D at 0x1a36aaeb00>]"
      ]
     },
     "execution_count": 174,
     "metadata": {},
     "output_type": "execute_result"
    },
    {
     "data": {
      "image/png": "[encoded data removed]",
      "text/plain": [
       "<Figure size 432x288 with 1 Axes>"
      ]
     },
     "metadata": {
      "needs_background": "light"
     },
     "output_type": "display_data"
    }
   ],
   "source": [
    "plt.plot(xgb_fpr, xgb_tpr, lw=1, alpha=0.3)\n",
    "plt.plot(rf_fpr, rf_tpr, lw=1, alpha=0.3, color='k')"
   ]
  },
  {
   "cell_type": "markdown",
   "metadata": {},
   "source": [
    "## Logistic Regression"
   ]
  },
  {
   "cell_type": "code",
   "execution_count": 197,
   "metadata": {},
   "outputs": [],
   "source": [
    "ccd_lr = LogisticRegression(solver='liblinear', C=10)"
   ]
  },
  {
   "cell_type": "code",
   "execution_count": 198,
   "metadata": {},
   "outputs": [],
   "source": [
    "ccd_lr.fit(X_train, y_train);"
   ]
  },
  {
   "cell_type": "code",
   "execution_count": 199,
   "metadata": {},
   "outputs": [
    {
     "data": {
      "text/plain": [
       "0.0"
      ]
     },
     "execution_count": 199,
     "metadata": {},
     "output_type": "execute_result"
    }
   ],
   "source": [
    "y_preds_lr = ccd_lr.predict(X_test)\n",
    "recall_score(y_test, y_preds_lr)"
   ]
  },
  {
   "cell_type": "code",
   "execution_count": 200,
   "metadata": {},
   "outputs": [
    {
     "data": {
      "text/plain": [
       "0.781"
      ]
     },
     "execution_count": 200,
     "metadata": {},
     "output_type": "execute_result"
    }
   ],
   "source": [
    "ccd_lr.score(X_test, y_test)"
   ]
  },
  {
   "cell_type": "code",
   "execution_count": null,
   "metadata": {},
   "outputs": [],
   "source": []
  }
 ],
 "metadata": {
  "kernelspec": {
   "display_name": "Python 3",
   "language": "python",
   "name": "python3"
  },
  "language_info": {
   "codemirror_mode": {
    "name": "ipython",
    "version": 3
   },
   "file_extension": ".py",
   "mimetype": "text/x-python",
   "name": "python",
   "nbconvert_exporter": "python",
   "pygments_lexer": "ipython3",
   "version": "3.6.8"
  },
  "toc": {
   "base_numbering": 1,
   "nav_menu": {},
   "number_sections": true,
   "sideBar": true,
   "skip_h1_title": false,
   "title_cell": "Table of Contents",
   "title_sidebar": "Contents",
   "toc_cell": false,
   "toc_position": {
    "height": "calc(100% - 180px)",
    "left": "10px",
    "top": "150px",
    "width": "283px"
   },
   "toc_section_display": true,
   "toc_window_display": true
  }
 },
 "nbformat": 4,
 "nbformat_minor": 2
}
