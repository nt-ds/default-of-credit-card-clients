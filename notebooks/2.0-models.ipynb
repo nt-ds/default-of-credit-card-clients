{
 "cells": [
  {
   "cell_type": "markdown",
   "metadata": {},
   "source": [
    "# Import Everything\n",
    "## Import necessary modules"
   ]
  },
  {
   "cell_type": "code",
   "execution_count": 78,
   "metadata": {
    "scrolled": true
   },
   "outputs": [],
   "source": [
    "\n",
    "import matplotlib.pyplot as plt\n",
    "import numpy as np\n",
    "import os\n",
    "import pandas as pd\n",
    "import pickle\n",
    "import xgboost as xgb\n",
    "\n",
    "from imblearn.over_sampling import SMOTE\n",
    "from pathlib import Path\n",
    "from scipy.stats import randint as sp_randint\n",
    "from sklearn.ensemble import RandomForestClassifier\n",
    "from sklearn.linear_model import LogisticRegression\n",
    "from sklearn.metrics import auc, f1_score, precision_score, recall_score, roc_curve, roc_auc_score\n",
    "from sklearn.model_selection import GridSearchCV, RandomizedSearchCV, train_test_split\n",
    "from sklearn.tree import DecisionTreeClassifier\n",
    "from yellowbrick.classifier import ConfusionMatrix\n",
    "\n",
    "main_path = os.getcwd()\n",
    "parent_path = Path(os.getcwd()).parent\n",
    "src_path = str(parent_path) + \"/src/directories\"\n",
    "os.chdir(src_path)\n",
    "\n",
    "import change_directory\n",
    "\n",
    "os.chdir(main_path)"
   ]
  },
  {
   "cell_type": "markdown",
   "metadata": {},
   "source": [
    "## Import data"
   ]
  },
  {
   "cell_type": "code",
   "execution_count": 4,
   "metadata": {},
   "outputs": [],
   "source": [
    "cd = change_directory.ChangeDirectory()\n",
    "cd.change_to_data_dir()\n",
    "ccd_df = pd.read_csv(\"processed/non_transformed_credit_card_default.csv\")\n",
    "cd.change_to_notebook_dir()"
   ]
  },
  {
   "cell_type": "markdown",
   "metadata": {},
   "source": [
    "## Extra Functions (Move to new file eventually)"
   ]
  },
  {
   "cell_type": "code",
   "execution_count": 93,
   "metadata": {},
   "outputs": [],
   "source": [
    "def plot_confusion_matrix(model, X_train, X_test, y_train, y_test):\n",
    "    \"\"\"\n",
    "    Plots confusion matrix for given model and train/test data.\n",
    "    Inputs:\n",
    "        model: an sklearn classifier\n",
    "        X_train: training examples\n",
    "        X_test: test examples\n",
    "        y_train: training labels corresponding to examples in X_train\n",
    "        y_test: test labels corresponding to examples in X_test\n",
    "    Returns: None\n",
    "    \"\"\"\n",
    "    model_cm = ConfusionMatrix(model)\n",
    "    model_cm.fit(X_train, y_train)\n",
    "    model_cm.score(X_test, y_test)\n",
    "    model_cm.poof()\n",
    "\n",
    "\n",
    "def all_scores(y_true, y_pred):\n",
    "    \"\"\"\n",
    "    Prints f-1 score, recall, and precision for the provided true values and predictions.\n",
    "    Inputs:\n",
    "        y_true: true labels of data\n",
    "        y_pred: predicted labels of data\n",
    "    Returns: None\n",
    "    \"\"\"\n",
    "    print(f'f-1 score: {f1_score(y_true, y_pred)}')\n",
    "    print(f'recall: {recall_score(y_true, y_pred)}')\n",
    "    print(f'precision:{precision_score(y_true, y_pred)}')\n",
    "\n",
    "\n",
    "def undersample(df, target, target_val=1, test_size=0.2):\n",
    "    pos_samples = df[df[target] == target_val]\n",
    "    neg_samples = df[df[target] != target_val]\n",
    "\n",
    "    num_pos = pos_samples.shape[0]\n",
    "    num_neg = neg_samples.shape[0]\n",
    "\n",
    "    downs_neg_idx = np.random.choice(\n",
    "        neg_samples.index, size=num_pos, replace=False)\n",
    "    downs_neg = neg_samples.loc[downs_neg_idx, :]\n",
    "    downsample_df = pd.concat([downs_neg, pos_samples], axis=0)\n",
    "\n",
    "    X_downs = downsample_df.drop('DEFAULT', axis=1)\n",
    "    y_downs = downsample_df.DEFAULT\n",
    "\n",
    "    X_train_downs, X_test_downs, y_train_downs, y_test_downs = train_test_split(\n",
    "        X_downs, y_downs, test_size=test_size)\n",
    "    return X_train_downs, X_test_downs, y_train_downs, y_test_downs\n",
    "\n",
    "def upsample(df, target, target_val=1, test_size=0.2):\n",
    "    pos_samples = df[df[target] == target_val]\n",
    "    neg_samples = df[df[target] != target_val]\n",
    "\n",
    "    num_pos = pos_samples.shape[0]\n",
    "    num_neg = neg_samples.shape[0]\n",
    "    \n",
    "    pos_samples_train, pos_samples_test = train_test_split(\n",
    "    pos_samples, test_size=0.2)\n",
    "    neg_samples_train, neg_samples_test = train_test_split(\n",
    "        neg_samples, test_size=0.2)\n",
    "\n",
    "    ups_pos_idx = np.random.choice(\n",
    "        pos_samples_train.index, size=neg_samples_train.shape[0], replace=True)\n",
    "    ups_pos = pos_samples_train.loc[ups_pos_idx, :]\n",
    "\n",
    "    ccd_upsampled = pd.concat([ups_pos, neg_samples_train], axis=0)\n",
    "    X_ups = ccd_upsampled.drop('DEFAULT', axis=1)\n",
    "    y_ups = ccd_upsampled.DEFAULT\n",
    "\n",
    "    ccd_ups_test = pd.concat([pos_samples_test, neg_samples_test], axis=0)\n",
    "    X_ups_test = ccd_ups_test.drop('DEFAULT', axis=1)\n",
    "    y_ups_test = ccd_ups_test.DEFAULT\n",
    "    return X_ups, X_ups_test, y_ups, y_ups_test\n",
    "\n",
    "def scores_of_best_search(trained_search, X_train, X_test, y_train, y_test):\n",
    "    best_clf = trained_search.best_estimator_\n",
    "    best_clf.fit(X_train, y_train)\n",
    "\n",
    "    best_preds = best_clf.predict(X_test)\n",
    "    all_scores(y_test, best_preds)\n",
    "    \n",
    "def scores_confusion_matrix(trained_search, X_train, X_test, y_train, y_test):\n",
    "    scores_of_best_search(trained_search, X_train, X_test, y_train, y_test)\n",
    "    plot_confusion_matrix(trained_search.best_estimator_, X_train, X_test, y_train, y_test)\n",
    "    "
   ]
  },
  {
   "cell_type": "markdown",
   "metadata": {},
   "source": [
    "# Begin Model Building\n",
    "## Train-Test Split"
   ]
  },
  {
   "cell_type": "code",
   "execution_count": 6,
   "metadata": {},
   "outputs": [],
   "source": [
    "X = ccd_df.drop('DEFAULT', axis=1)\n",
    "y = ccd_df.DEFAULT\n",
    "X_train, X_test, y_train, y_test = train_test_split(X, y, test_size=0.2, random_state=2819)"
   ]
  },
  {
   "cell_type": "markdown",
   "metadata": {},
   "source": [
    "## Decision Tree"
   ]
  },
  {
   "cell_type": "code",
   "execution_count": 7,
   "metadata": {},
   "outputs": [],
   "source": [
    "ccd_dt = DecisionTreeClassifier()\n",
    "class_weights_gs = [{0:100, 1:1}, 'balanced', {0:10, 1:1}]\n",
    "param_grid = {'criterion': ['gini', 'entropy'],\n",
    "              'max_depth':[None, 8, 10],\n",
    "              'min_samples_split':[10, 25],\n",
    "              'min_samples_leaf':[1, 5],\n",
    "              'max_features':[None, 'sqrt'], \n",
    "              'class_weight':class_weights_gs }\n",
    "\n",
    "dt_gs = GridSearchCV(ccd_dt, param_grid, cv=3, scoring='f1', refit=True)"
   ]
  },
  {
   "cell_type": "code",
   "execution_count": 8,
   "metadata": {},
   "outputs": [],
   "source": [
    "dt_gs.fit(X_train, y_train);"
   ]
  },
  {
   "cell_type": "markdown",
   "metadata": {},
   "source": [
    "### Evaluating the best tree"
   ]
  },
  {
   "cell_type": "code",
   "execution_count": 9,
   "metadata": {},
   "outputs": [
    {
     "data": {
      "text/plain": [
       "DecisionTreeClassifier(class_weight='balanced', criterion='entropy',\n",
       "                       max_depth=8, max_features=None, max_leaf_nodes=None,\n",
       "                       min_impurity_decrease=0.0, min_impurity_split=None,\n",
       "                       min_samples_leaf=1, min_samples_split=25,\n",
       "                       min_weight_fraction_leaf=0.0, presort=False,\n",
       "                       random_state=None, splitter='best')"
      ]
     },
     "execution_count": 9,
     "metadata": {},
     "output_type": "execute_result"
    }
   ],
   "source": [
    "best_tree = DecisionTreeClassifier(**dt_gs.best_params_)\n",
    "best_tree.fit(X_train, y_train)"
   ]
  },
  {
   "cell_type": "code",
   "execution_count": 12,
   "metadata": {},
   "outputs": [
    {
     "name": "stdout",
     "output_type": "stream",
     "text": [
      "f-1 score: 0.5133789670192906\n",
      "recall: 0.6283320639756284\n",
      "precision:0.43398211467648606\n"
     ]
    }
   ],
   "source": [
    "y_preds_best_tree = best_tree.predict(X_test)\n",
    "all_scores(y_test, y_preds_best_tree)"
   ]
  },
  {
   "cell_type": "markdown",
   "metadata": {},
   "source": [
    "### Confusion Matrix"
   ]
  },
  {
   "cell_type": "code",
   "execution_count": 13,
   "metadata": {
    "scrolled": true
   },
   "outputs": [
    {
     "data": {
      "image/png": "[encoded data removed]",
      "text/plain": [
       "<Figure size 432x288 with 1 Axes>"
      ]
     },
     "metadata": {
      "needs_background": "light"
     },
     "output_type": "display_data"
    }
   ],
   "source": [
    "plot_confusion_matrix(best_tree, X_train, X_test, y_train, y_test)\n"
   ]
  },
  {
   "cell_type": "markdown",
   "metadata": {},
   "source": [
    "## Random Forest"
   ]
  },
  {
   "cell_type": "markdown",
   "metadata": {},
   "source": [
    "### Random Forest with the same hyperparameters as the best decision tree"
   ]
  },
  {
   "cell_type": "code",
   "execution_count": 14,
   "metadata": {},
   "outputs": [],
   "source": [
    "ccd_rf = RandomForestClassifier(n_estimators=100, **dt_gs.best_params_)"
   ]
  },
  {
   "cell_type": "code",
   "execution_count": 15,
   "metadata": {},
   "outputs": [
    {
     "data": {
      "text/plain": [
       "RandomForestClassifier(bootstrap=True, class_weight='balanced',\n",
       "                       criterion='entropy', max_depth=8, max_features=None,\n",
       "                       max_leaf_nodes=None, min_impurity_decrease=0.0,\n",
       "                       min_impurity_split=None, min_samples_leaf=1,\n",
       "                       min_samples_split=25, min_weight_fraction_leaf=0.0,\n",
       "                       n_estimators=100, n_jobs=None, oob_score=False,\n",
       "                       random_state=None, verbose=0, warm_start=False)"
      ]
     },
     "execution_count": 15,
     "metadata": {},
     "output_type": "execute_result"
    }
   ],
   "source": [
    "ccd_rf.fit(X_train, y_train)"
   ]
  },
  {
   "cell_type": "code",
   "execution_count": 16,
   "metadata": {},
   "outputs": [
    {
     "name": "stdout",
     "output_type": "stream",
     "text": [
      "f-1 score: 0.5469387755102041\n",
      "recall: 0.6123381568926123\n",
      "precision:0.4941610325752919\n"
     ]
    }
   ],
   "source": [
    "y_preds = ccd_rf.predict(X_test)\n",
    "all_scores(y_test, y_preds)"
   ]
  },
  {
   "cell_type": "code",
   "execution_count": 17,
   "metadata": {},
   "outputs": [
    {
     "name": "stdout",
     "output_type": "stream",
     "text": [
      "0.7183730468696046\n"
     ]
    }
   ],
   "source": [
    "fpr, tpr, auc_thresholds = roc_curve(y_test, y_preds)\n",
    "print(auc(fpr, tpr))"
   ]
  },
  {
   "cell_type": "markdown",
   "metadata": {},
   "source": [
    "### Random Forest GridSearch"
   ]
  },
  {
   "cell_type": "code",
   "execution_count": 18,
   "metadata": {},
   "outputs": [],
   "source": [
    "ccd_rf_clf_gs = RandomForestClassifier(n_estimators=100)"
   ]
  },
  {
   "cell_type": "code",
   "execution_count": 19,
   "metadata": {},
   "outputs": [],
   "source": [
    "ccd_rf_gs_params = {\n",
    "    'class_weight':['balanced', {0:1, 1:100}, {0:1, 1:50}, {0:1, 1:75}],\n",
    "    'min_samples_leaf':[15, 20, 25],\n",
    "    'min_samples_split':[40, 50, 70]\n",
    "}\n",
    "ccd_rf_gs = GridSearchCV(ccd_rf_clf_gs, ccd_rf_gs_params, cv=3, scoring='f1', n_jobs=-1)"
   ]
  },
  {
   "cell_type": "code",
   "execution_count": 20,
   "metadata": {},
   "outputs": [
    {
     "data": {
      "text/plain": [
       "GridSearchCV(cv=3, error_score='raise-deprecating',\n",
       "             estimator=RandomForestClassifier(bootstrap=True, class_weight=None,\n",
       "                                              criterion='gini', max_depth=None,\n",
       "                                              max_features='auto',\n",
       "                                              max_leaf_nodes=None,\n",
       "                                              min_impurity_decrease=0.0,\n",
       "                                              min_impurity_split=None,\n",
       "                                              min_samples_leaf=1,\n",
       "                                              min_samples_split=2,\n",
       "                                              min_weight_fraction_leaf=0.0,\n",
       "                                              n_estimators=100, n_jobs=None,\n",
       "                                              oob_score=False,\n",
       "                                              random_state=None, verbose=0,\n",
       "                                              warm_start=False),\n",
       "             iid='warn', n_jobs=-1,\n",
       "             param_grid={'class_weight': ['balanced', {0: 1, 1: 100},\n",
       "                                          {0: 1, 1: 50}, {0: 1, 1: 75}],\n",
       "                         'min_samples_leaf': [15, 20, 25],\n",
       "                         'min_samples_split': [40, 50, 70]},\n",
       "             pre_dispatch='2*n_jobs', refit=True, return_train_score=False,\n",
       "             scoring='f1', verbose=0)"
      ]
     },
     "execution_count": 20,
     "metadata": {},
     "output_type": "execute_result"
    }
   ],
   "source": [
    "ccd_rf_gs.fit(X_train, y_train)"
   ]
  },
  {
   "cell_type": "code",
   "execution_count": 21,
   "metadata": {},
   "outputs": [],
   "source": [
    "ccd_rf_opt = RandomForestClassifier(**ccd_rf_gs.best_params_, n_estimators=100)"
   ]
  },
  {
   "cell_type": "code",
   "execution_count": 22,
   "metadata": {},
   "outputs": [
    {
     "name": "stdout",
     "output_type": "stream",
     "text": [
      "f-1 score: 0.5559368565545643\n",
      "recall: 0.6169078446306169\n",
      "precision:0.5059337913803873\n"
     ]
    },
    {
     "data": {
      "text/plain": [
       "0.7240715881996694"
      ]
     },
     "execution_count": 22,
     "metadata": {},
     "output_type": "execute_result"
    }
   ],
   "source": [
    "ccd_rf_opt.fit(X_train, y_train)\n",
    "ccd_rf_opt_preds = ccd_rf_opt.predict(X_test)\n",
    "all_scores(y_test, ccd_rf_opt_preds)\n",
    "roc_auc_score(y_test, ccd_rf_opt_preds)"
   ]
  },
  {
   "cell_type": "code",
   "execution_count": 23,
   "metadata": {},
   "outputs": [
    {
     "data": {
      "image/png": "[encoded data removed]",
      "text/plain": [
       "<Figure size 432x288 with 1 Axes>"
      ]
     },
     "metadata": {
      "needs_background": "light"
     },
     "output_type": "display_data"
    }
   ],
   "source": [
    "plot_confusion_matrix(ccd_rf_opt, X_train, X_test, y_train, y_test)"
   ]
  },
  {
   "cell_type": "code",
   "execution_count": 173,
   "metadata": {},
   "outputs": [],
   "source": [
    "rf_fpr, rf_tpr, rf_thresholds = roc_curve(y_test, ccd_rf_opt.predict_proba(X_test)[:, 1])"
   ]
  },
  {
   "cell_type": "markdown",
   "metadata": {},
   "source": [
    "## XGBoost"
   ]
  },
  {
   "cell_type": "code",
   "execution_count": 138,
   "metadata": {},
   "outputs": [],
   "source": [
    "ccd_xgb = xgb.XGBClassifier(objective='binary:hinge')"
   ]
  },
  {
   "cell_type": "code",
   "execution_count": 139,
   "metadata": {},
   "outputs": [],
   "source": [
    "xgb_gs_params = {\n",
    "    'max_depth':[5, 6, 7, 8, 10]\n",
    "}\n",
    "\n",
    "xgb_gs = GridSearchCV(ccd_xgb, xgb_gs_params, scoring='f1', n_jobs=-1, cv=3)"
   ]
  },
  {
   "cell_type": "code",
   "execution_count": 140,
   "metadata": {},
   "outputs": [],
   "source": [
    "xgb_gs.fit(X_train, y_train);"
   ]
  },
  {
   "cell_type": "code",
   "execution_count": 186,
   "metadata": {},
   "outputs": [
    {
     "data": {
      "text/plain": [
       "0.4772170504654581"
      ]
     },
     "execution_count": 186,
     "metadata": {},
     "output_type": "execute_result"
    }
   ],
   "source": [
    "y_preds_xgb = xgb_gs.predict(X_test)\n",
    "all_scores(y_test, y_preds_xgb)\n"
   ]
  },
  {
   "cell_type": "code",
   "execution_count": null,
   "metadata": {},
   "outputs": [],
   "source": []
  },
  {
   "cell_type": "code",
   "execution_count": 53,
   "metadata": {},
   "outputs": [],
   "source": [
    "dtrain = xgb.DMatrix(X_train, label=np.array(y_train))\n",
    "dtest = xgb.DMatrix(X_test, label=np.array(y_test))"
   ]
  },
  {
   "cell_type": "code",
   "execution_count": 54,
   "metadata": {},
   "outputs": [],
   "source": [
    "xgb_params = {\n",
    "    'objective': 'binary:logistic',\n",
    "    'eval_metric':['error', 'auc'],\n",
    "    'max_depth': 7\n",
    "}"
   ]
  },
  {
   "cell_type": "code",
   "execution_count": 55,
   "metadata": {},
   "outputs": [
    {
     "name": "stdout",
     "output_type": "stream",
     "text": [
      "[0]\tTest-error:0.179333\tTest-auc:0.764051\n",
      "[1]\tTest-error:0.177833\tTest-auc:0.7729\n",
      "[2]\tTest-error:0.176833\tTest-auc:0.77637\n",
      "[3]\tTest-error:0.174333\tTest-auc:0.778051\n",
      "[4]\tTest-error:0.175667\tTest-auc:0.78111\n",
      "[5]\tTest-error:0.174833\tTest-auc:0.782198\n",
      "[6]\tTest-error:0.1765\tTest-auc:0.783219\n",
      "[7]\tTest-error:0.176167\tTest-auc:0.783143\n",
      "[8]\tTest-error:0.1755\tTest-auc:0.783738\n",
      "[9]\tTest-error:0.176833\tTest-auc:0.784598\n",
      "[10]\tTest-error:0.1765\tTest-auc:0.78455\n"
     ]
    }
   ],
   "source": [
    "ccd_xgb = xgb.train(xgb_params, dtrain=dtrain, evals=[(dtest, 'Test')], num_boost_round=11)"
   ]
  },
  {
   "cell_type": "code",
   "execution_count": 56,
   "metadata": {},
   "outputs": [
    {
     "name": "stdout",
     "output_type": "stream",
     "text": [
      "f-1 score: 0.4686402408429503\n",
      "recall: 0.3556740289413557\n",
      "precision:0.6867647058823529\n"
     ]
    }
   ],
   "source": [
    "xgb_preds = (ccd_xgb.predict(dtest) >=0.5).astype(int)\n",
    "all_scores(y_test, xgb_preds)"
   ]
  },
  {
   "cell_type": "code",
   "execution_count": 171,
   "metadata": {},
   "outputs": [],
   "source": [
    "xgb_fpr, xgb_tpr, xgb_thresholds = roc_curve(y_test, ccd_xgb.predict(dtest))"
   ]
  },
  {
   "cell_type": "code",
   "execution_count": 174,
   "metadata": {},
   "outputs": [
    {
     "data": {
      "text/plain": [
       "[<matplotlib.lines.Line2D at 0x1a36aaeb00>]"
      ]
     },
     "execution_count": 174,
     "metadata": {},
     "output_type": "execute_result"
    },
    {
     "data": {
      "image/png": "[encoded data removed]",
      "text/plain": [
       "<Figure size 432x288 with 1 Axes>"
      ]
     },
     "metadata": {
      "needs_background": "light"
     },
     "output_type": "display_data"
    }
   ],
   "source": [
    "plt.plot(xgb_fpr, xgb_tpr, lw=1, alpha=0.3)\n",
    "plt.plot(rf_fpr, rf_tpr, lw=1, alpha=0.3, color='k')"
   ]
  },
  {
   "cell_type": "markdown",
   "metadata": {},
   "source": [
    "## Logistic Regression"
   ]
  },
  {
   "cell_type": "code",
   "execution_count": 24,
   "metadata": {},
   "outputs": [],
   "source": [
    "ccd_lr = LogisticRegression(solver='liblinear', C=10)"
   ]
  },
  {
   "cell_type": "code",
   "execution_count": 25,
   "metadata": {},
   "outputs": [],
   "source": [
    "ccd_lr.fit(X_train, y_train);"
   ]
  },
  {
   "cell_type": "code",
   "execution_count": 26,
   "metadata": {},
   "outputs": [
    {
     "data": {
      "text/plain": [
       "0.0"
      ]
     },
     "execution_count": 26,
     "metadata": {},
     "output_type": "execute_result"
    }
   ],
   "source": [
    "y_preds_lr = ccd_lr.predict(X_test)\n",
    "recall_score(y_test, y_preds_lr)"
   ]
  },
  {
   "cell_type": "code",
   "execution_count": 27,
   "metadata": {},
   "outputs": [
    {
     "data": {
      "text/plain": [
       "0.781"
      ]
     },
     "execution_count": 27,
     "metadata": {},
     "output_type": "execute_result"
    }
   ],
   "source": [
    "ccd_lr.score(X_test, y_test)"
   ]
  },
  {
   "cell_type": "markdown",
   "metadata": {},
   "source": [
    "# Upsampling, Downsampling, SMOTE"
   ]
  },
  {
   "cell_type": "markdown",
   "metadata": {},
   "source": [
    "## Upsampling"
   ]
  },
  {
   "cell_type": "code",
   "execution_count": 73,
   "metadata": {},
   "outputs": [],
   "source": [
    "X_ups, y_ups, X_ups_test, y_ups_test = upsample(ccd_df, 'DEFAULT')"
   ]
  },
  {
   "cell_type": "code",
   "execution_count": 32,
   "metadata": {},
   "outputs": [],
   "source": [
    "ccd_ups_rf_gs_clf = RandomForestClassifier(n_estimators=100)\n",
    "\n",
    "ccd_ups_rf_gs_params = {\n",
    "    'class_weight': ['balanced'],\n",
    "    'min_samples_leaf': [5, 10, 15],\n",
    "    'min_samples_split': [10, 20, 30, 40]\n",
    "}\n",
    "\n",
    "ccd_ups_rf_gs = GridSearchCV(ccd_ups_rf_gs_clf, ccd_ups_rf_gs_params, scoring='recall', cv=3)"
   ]
  },
  {
   "cell_type": "code",
   "execution_count": 33,
   "metadata": {},
   "outputs": [
    {
     "data": {
      "text/plain": [
       "GridSearchCV(cv=3, error_score='raise-deprecating',\n",
       "             estimator=RandomForestClassifier(bootstrap=True, class_weight=None,\n",
       "                                              criterion='gini', max_depth=None,\n",
       "                                              max_features='auto',\n",
       "                                              max_leaf_nodes=None,\n",
       "                                              min_impurity_decrease=0.0,\n",
       "                                              min_impurity_split=None,\n",
       "                                              min_samples_leaf=1,\n",
       "                                              min_samples_split=2,\n",
       "                                              min_weight_fraction_leaf=0.0,\n",
       "                                              n_estimators=100, n_jobs=None,\n",
       "                                              oob_score=False,\n",
       "                                              random_state=None, verbose=0,\n",
       "                                              warm_start=False),\n",
       "             iid='warn', n_jobs=None,\n",
       "             param_grid={'class_weight': ['balanced'],\n",
       "                         'min_samples_leaf': [5, 10, 15],\n",
       "                         'min_samples_split': [10, 20, 30, 40]},\n",
       "             pre_dispatch='2*n_jobs', refit=True, return_train_score=False,\n",
       "             scoring='recall', verbose=0)"
      ]
     },
     "execution_count": 33,
     "metadata": {},
     "output_type": "execute_result"
    }
   ],
   "source": [
    "ccd_ups_rf_gs.fit(X_ups, y_ups);"
   ]
  },
  {
   "cell_type": "code",
   "execution_count": 34,
   "metadata": {},
   "outputs": [
    {
     "data": {
      "text/plain": [
       "0.8474666952008988"
      ]
     },
     "execution_count": 34,
     "metadata": {},
     "output_type": "execute_result"
    }
   ],
   "source": [
    "ccd_ups_rf_gs.best_score_"
   ]
  },
  {
   "cell_type": "code",
   "execution_count": 36,
   "metadata": {},
   "outputs": [
    {
     "data": {
      "text/plain": [
       "RandomForestClassifier(bootstrap=True, class_weight='balanced',\n",
       "                       criterion='gini', max_depth=None, max_features='auto',\n",
       "                       max_leaf_nodes=None, min_impurity_decrease=0.0,\n",
       "                       min_impurity_split=None, min_samples_leaf=5,\n",
       "                       min_samples_split=10, min_weight_fraction_leaf=0.0,\n",
       "                       n_estimators=100, n_jobs=None, oob_score=False,\n",
       "                       random_state=None, verbose=0, warm_start=False)"
      ]
     },
     "execution_count": 36,
     "metadata": {},
     "output_type": "execute_result"
    }
   ],
   "source": [
    "best_ups_rf_model = RandomForestClassifier(**ccd_ups_rf_gs.best_params_, n_estimators=100)\n",
    "best_ups_rf_model.fit(X_ups, y_ups)"
   ]
  },
  {
   "cell_type": "code",
   "execution_count": 37,
   "metadata": {},
   "outputs": [
    {
     "name": "stdout",
     "output_type": "stream",
     "text": [
      "f-1 score: 0.5408279529054311\n",
      "recall: 0.536144578313253\n",
      "precision:0.5455938697318008\n"
     ]
    }
   ],
   "source": [
    "best_ups_rf_preds = best_ups_rf_model.predict(X_ups_test)\n",
    "all_scores(y_ups_test, best_ups_rf_preds)"
   ]
  },
  {
   "cell_type": "code",
   "execution_count": 38,
   "metadata": {},
   "outputs": [
    {
     "data": {
      "image/png": "[encoded data removed]",
      "text/plain": [
       "<Figure size 432x288 with 1 Axes>"
      ]
     },
     "metadata": {
      "needs_background": "light"
     },
     "output_type": "display_data"
    }
   ],
   "source": [
    "plot_confusion_matrix(best_ups_rf_model, X_ups, X_ups_test, y_ups, y_ups_test)"
   ]
  },
  {
   "cell_type": "markdown",
   "metadata": {},
   "source": [
    "## Downsampling"
   ]
  },
  {
   "cell_type": "code",
   "execution_count": 70,
   "metadata": {},
   "outputs": [],
   "source": [
    "X_train_downs, X_test_downs, y_train_downs, y_test_downs = undersample(ccd_df, 'DEFAULT')"
   ]
  },
  {
   "cell_type": "code",
   "execution_count": 40,
   "metadata": {},
   "outputs": [],
   "source": [
    "ccd_downs_rf_gs_clf = RandomForestClassifier(n_estimators=100)\n",
    "\n",
    "ccd_downs_rf_gs_params = {\n",
    "    'class_weight': ['balanced'],\n",
    "    'min_samples_leaf': [5, 10, 15],\n",
    "    'min_samples_split': [10, 20, 30, 40]\n",
    "}\n",
    "\n",
    "ccd_downs_rf_gs = GridSearchCV(ccd_downs_rf_gs_clf, ccd_downs_rf_gs_params, scoring='recall', cv=3)"
   ]
  },
  {
   "cell_type": "code",
   "execution_count": 41,
   "metadata": {},
   "outputs": [
    {
     "data": {
      "text/plain": [
       "GridSearchCV(cv=3, error_score='raise-deprecating',\n",
       "             estimator=RandomForestClassifier(bootstrap=True, class_weight=None,\n",
       "                                              criterion='gini', max_depth=None,\n",
       "                                              max_features='auto',\n",
       "                                              max_leaf_nodes=None,\n",
       "                                              min_impurity_decrease=0.0,\n",
       "                                              min_impurity_split=None,\n",
       "                                              min_samples_leaf=1,\n",
       "                                              min_samples_split=2,\n",
       "                                              min_weight_fraction_leaf=0.0,\n",
       "                                              n_estimators=100, n_jobs=None,\n",
       "                                              oob_score=False,\n",
       "                                              random_state=None, verbose=0,\n",
       "                                              warm_start=False),\n",
       "             iid='warn', n_jobs=None,\n",
       "             param_grid={'class_weight': ['balanced'],\n",
       "                         'min_samples_leaf': [5, 10, 15],\n",
       "                         'min_samples_split': [10, 20, 30, 40]},\n",
       "             pre_dispatch='2*n_jobs', refit=True, return_train_score=False,\n",
       "             scoring='recall', verbose=0)"
      ]
     },
     "execution_count": 41,
     "metadata": {},
     "output_type": "execute_result"
    }
   ],
   "source": [
    "ccd_downs_rf_gs.fit(X_train_downs, y_train_downs)"
   ]
  },
  {
   "cell_type": "code",
   "execution_count": 43,
   "metadata": {},
   "outputs": [
    {
     "name": "stdout",
     "output_type": "stream",
     "text": [
      "f-1 score: 0.6818747407714641\n",
      "recall: 0.623199393479909\n",
      "precision:0.7527472527472527\n"
     ]
    }
   ],
   "source": [
    "best_downs_rf_model = ccd_downs_rf_gs.best_estimator_\n",
    "best_downs_rf_preds = best_downs_rf_model.predict(X_test_downs)\n",
    "all_scores(y_test_downs, best_downs_rf_preds)"
   ]
  },
  {
   "cell_type": "code",
   "execution_count": 260,
   "metadata": {},
   "outputs": [
    {
     "data": {
      "image/png": "[encoded data removed]",
      "text/plain": [
       "<Figure size 432x288 with 1 Axes>"
      ]
     },
     "metadata": {
      "needs_background": "light"
     },
     "output_type": "display_data"
    }
   ],
   "source": [
    "plot_confusion_matrix(best_downs_rf_model, X_train_downs, X_test_downs, y_train_downs, y_test_downs)"
   ]
  },
  {
   "cell_type": "markdown",
   "metadata": {},
   "source": [
    "## SMOTE"
   ]
  },
  {
   "cell_type": "code",
   "execution_count": 45,
   "metadata": {},
   "outputs": [],
   "source": [
    "ccd_smote = SMOTE()\n",
    "\n",
    "X = ccd_df.drop('DEFAULT', axis=1)\n",
    "y = ccd_df.DEFAULT\n",
    "\n",
    "X_train_sm, X_test_sm, y_train_sm, y_test_sm = train_test_split(X, y, test_size=0.2)\n",
    "X_sm, y_sm = ccd_smote.fit_resample(X_train_sm, y_train_sm)"
   ]
  },
  {
   "cell_type": "code",
   "execution_count": 46,
   "metadata": {},
   "outputs": [],
   "source": [
    "ccd_sm_rf_gs_clf = RandomForestClassifier(n_estimators=100)\n",
    "\n",
    "ccd_sm_rf_gs_params = {\n",
    "    'class_weight': ['balanced'],\n",
    "    'min_samples_leaf': [5, 10, 15],\n",
    "    'min_samples_split': [10, 20, 30, 40]\n",
    "}\n",
    "\n",
    "ccd_sm_rf_gs = GridSearchCV(ccd_sm_rf_gs_clf, ccd_sm_rf_gs_params, scoring='recall', cv=3)"
   ]
  },
  {
   "cell_type": "code",
   "execution_count": 47,
   "metadata": {},
   "outputs": [],
   "source": [
    "ccd_sm_rf_gs.fit(X_sm, y_sm);"
   ]
  },
  {
   "cell_type": "code",
   "execution_count": 48,
   "metadata": {},
   "outputs": [
    {
     "name": "stdout",
     "output_type": "stream",
     "text": [
      "f-1 score: 0.5217021276595744\n",
      "recall: 0.4619442351168048\n",
      "precision:0.5992179863147605\n"
     ]
    },
    {
     "data": {
      "image/png": "[encoded data removed]",
      "text/plain": [
       "<Figure size 432x288 with 1 Axes>"
      ]
     },
     "metadata": {
      "needs_background": "light"
     },
     "output_type": "display_data"
    }
   ],
   "source": [
    "best_sm_rf_model = ccd_sm_rf_gs.best_estimator_\n",
    "best_sm_rf_preds = best_sm_rf_model.predict(X_test_sm)\n",
    "all_scores(y_test_sm, best_sm_rf_preds)\n",
    "plot_confusion_matrix(best_sm_rf_model, X_sm, X_test_sm, y_sm, y_test_sm)"
   ]
  },
  {
   "cell_type": "markdown",
   "metadata": {},
   "source": [
    "# Fully transformed data"
   ]
  },
  {
   "cell_type": "code",
   "execution_count": 51,
   "metadata": {},
   "outputs": [],
   "source": [
    "cd.change_to_data_dir()\n",
    "ccd_tr = pd.read_csv(\"processed/transformed_credit_card_default.csv\")\n",
    "cd.change_to_notebook_dir()"
   ]
  },
  {
   "cell_type": "code",
   "execution_count": 52,
   "metadata": {},
   "outputs": [],
   "source": [
    "X_tr = ccd_tr.drop('DEFAULT', axis=1)\n",
    "y_tr = ccd_tr.DEFAULT\n",
    "X_tr_train, X_tr_test, y_tr_train, y_tr_test = train_test_split(\n",
    "    X_tr, y_tr, test_size=0.2)"
   ]
  },
  {
   "cell_type": "markdown",
   "metadata": {},
   "source": [
    "## Random Forest"
   ]
  },
  {
   "cell_type": "code",
   "execution_count": 74,
   "metadata": {},
   "outputs": [],
   "source": [
    "ccd_tr_rf_clf = RandomForestClassifier(n_estimators=100)\n",
    "\n",
    "ccd_tr_rf_gs_params = {\n",
    "    'class_weight': ['balanced'],\n",
    "    'min_samples_leaf': [5, 10, 15],\n",
    "    'min_samples_split': [10, 20, 30, 40]\n",
    "}\n",
    "\n",
    "ccd_tr_rf_gs = GridSearchCV(ccd_tr_rf_clf, ccd_tr_rf_gs_params, cv=3, scoring='f1', n_jobs=-1)"
   ]
  },
  {
   "cell_type": "code",
   "execution_count": 75,
   "metadata": {},
   "outputs": [],
   "source": [
    "ccd_tr_rf_gs.fit(X_tr_train, y_tr_train);"
   ]
  },
  {
   "cell_type": "code",
   "execution_count": 76,
   "metadata": {},
   "outputs": [
    {
     "name": "stdout",
     "output_type": "stream",
     "text": [
      "f-1 score: 0.560695652173913\n",
      "recall: 0.597037037037037\n",
      "precision:0.5285245901639344\n"
     ]
    }
   ],
   "source": [
    "ccd_tr_rf_preds = ccd_tr_rf_gs.predict(X_tr_test)\n",
    "all_scores(y_tr_test, ccd_tr_rf_preds)"
   ]
  },
  {
   "cell_type": "code",
   "execution_count": 77,
   "metadata": {
    "collapsed": true
   },
   "outputs": [
    {
     "data": {
      "image/png": "[encoded data removed]",
      "text/plain": [
       "<Figure size 432x288 with 1 Axes>"
      ]
     },
     "metadata": {
      "needs_background": "light"
     },
     "output_type": "display_data"
    }
   ],
   "source": [
    "best_tr_rf_model = ccd_tr_rf_gs.best_estimator_\n",
    "plot_confusion_matrix(best_tr_rf_model, X_sm, X_test_sm, y_sm, y_test_sm)"
   ]
  },
  {
   "cell_type": "code",
   "execution_count": null,
   "metadata": {},
   "outputs": [],
   "source": []
  },
  {
   "cell_type": "code",
   "execution_count": null,
   "metadata": {},
   "outputs": [],
   "source": []
  },
  {
   "cell_type": "markdown",
   "metadata": {},
   "source": [
    "## Undersampled Data"
   ]
  },
  {
   "cell_type": "code",
   "execution_count": 71,
   "metadata": {},
   "outputs": [],
   "source": [
    "X_tr_train_downs, X_tr_test_downs, y_tr_train_downs, y_tr_test_downs = undersample(ccd_tr, 'DEFAULT')"
   ]
  },
  {
   "cell_type": "code",
   "execution_count": 82,
   "metadata": {},
   "outputs": [],
   "source": [
    "ccd_tr_rf_downs_clf = RandomForestClassifier(n_estimators=100)\n",
    "\n",
    "ccd_tr_rf_downs_rs_params = {\n",
    "    'class_weight': ['balanced'],\n",
    "    'min_samples_leaf': sp_randint(5, 20),\n",
    "    'min_samples_split': sp_randint(5, 50),\n",
    "    'max_depth': sp_randint(3, 15)\n",
    "}\n",
    "\n",
    "ccd_tr_rf_downs_rs = RandomizedSearchCV(\n",
    "    ccd_tr_rf_downs_clf, ccd_tr_rf_downs_rs_params, n_iter=100, n_jobs=-1, scoring='f1', cv=3 )"
   ]
  },
  {
   "cell_type": "code",
   "execution_count": 83,
   "metadata": {},
   "outputs": [
    {
     "data": {
      "text/plain": [
       "RandomizedSearchCV(cv=3, error_score='raise-deprecating',\n",
       "                   estimator=RandomForestClassifier(bootstrap=True,\n",
       "                                                    class_weight=None,\n",
       "                                                    criterion='gini',\n",
       "                                                    max_depth=None,\n",
       "                                                    max_features='auto',\n",
       "                                                    max_leaf_nodes=None,\n",
       "                                                    min_impurity_decrease=0.0,\n",
       "                                                    min_impurity_split=None,\n",
       "                                                    min_samples_leaf=1,\n",
       "                                                    min_samples_split=2,\n",
       "                                                    min_weight_fraction_leaf=0.0,\n",
       "                                                    n_estimators=100,\n",
       "                                                    n_jobs=None,\n",
       "                                                    oob_score...\n",
       "                                        'max_depth': <scipy.stats._distn_infrastructure.rv_frozen object at 0x1a5094e668>,\n",
       "                                        'min_samples_leaf': <scipy.stats._distn_infrastructure.rv_frozen object at 0x1a50ad1a20>,\n",
       "                                        'min_samples_split': <scipy.stats._distn_infrastructure.rv_frozen object at 0x1a5094e748>},\n",
       "                   pre_dispatch='2*n_jobs', random_state=None, refit=True,\n",
       "                   return_train_score=False, scoring='f1', verbose=0)"
      ]
     },
     "execution_count": 83,
     "metadata": {},
     "output_type": "execute_result"
    }
   ],
   "source": [
    "ccd_tr_rf_downs_rs.fit(X_tr_train_downs, y_tr_train_downs);"
   ]
  },
  {
   "cell_type": "code",
   "execution_count": 98,
   "metadata": {},
   "outputs": [
    {
     "name": "stdout",
     "output_type": "stream",
     "text": [
      "f-1 score: 0.6983864294580058\n",
      "recall: 0.6418250950570342\n",
      "precision:0.7658802177858439\n"
     ]
    },
    {
     "data": {
      "image/png": "[encoded data removed]",
      "text/plain": [
       "<Figure size 432x288 with 1 Axes>"
      ]
     },
     "metadata": {
      "needs_background": "light"
     },
     "output_type": "display_data"
    }
   ],
   "source": [
    "scores_confusion_matrix(ccd_tr_rf_downs_rs, X_tr_train_downs,\n",
    "                      X_tr_test_downs, y_tr_train_downs, y_tr_test_downs)"
   ]
  },
  {
   "cell_type": "markdown",
   "metadata": {},
   "source": [
    "## Upsampled Data"
   ]
  },
  {
   "cell_type": "code",
   "execution_count": 94,
   "metadata": {},
   "outputs": [],
   "source": [
    "X_tr_train_ups, X_tr_test_ups, y_tr_train_ups, y_tr_test_ups = upsample(ccd_tr, 'DEFAULT')"
   ]
  },
  {
   "cell_type": "code",
   "execution_count": 95,
   "metadata": {},
   "outputs": [],
   "source": [
    "ccd_tr_rf_ups_clf = RandomForestClassifier(n_estimators=100)\n",
    "\n",
    "ccd_tr_rf_ups_rs_params = {\n",
    "    'class_weight': ['balanced'],\n",
    "    'min_samples_leaf': sp_randint(5, 20),\n",
    "    'min_samples_split': sp_randint(5, 50),\n",
    "    'max_depth': sp_randint(3, 15)\n",
    "}\n",
    "\n",
    "ccd_tr_rf_ups_rs = RandomizedSearchCV(\n",
    "    ccd_tr_rf_ups_clf, ccd_tr_rf_ups_rs_params, n_iter=100, n_jobs=-1, scoring='f1', cv=3 )"
   ]
  },
  {
   "cell_type": "code",
   "execution_count": 96,
   "metadata": {},
   "outputs": [],
   "source": [
    "ccd_tr_rf_ups_rs.fit(X_tr_train_ups, y_tr_train_ups);"
   ]
  },
  {
   "cell_type": "code",
   "execution_count": 97,
   "metadata": {},
   "outputs": [
    {
     "name": "stdout",
     "output_type": "stream",
     "text": [
      "f-1 score: 0.5501730103806229\n",
      "recall: 0.598644578313253\n",
      "precision:0.5089628681177977\n"
     ]
    },
    {
     "data": {
      "image/png": "[encoded data removed]",
      "text/plain": [
       "<Figure size 432x288 with 1 Axes>"
      ]
     },
     "metadata": {
      "needs_background": "light"
     },
     "output_type": "display_data"
    }
   ],
   "source": [
    "scores_confusion_matrix(ccd_tr_rf_ups_rs, X_tr_train_ups,\n",
    "                        X_tr_test_ups, y_tr_train_ups, y_tr_test_ups)"
   ]
  },
  {
   "cell_type": "code",
   "execution_count": null,
   "metadata": {},
   "outputs": [],
   "source": []
  }
 ],
 "metadata": {
  "kernelspec": {
   "display_name": "Python 3",
   "language": "python",
   "name": "python3"
  },
  "language_info": {
   "codemirror_mode": {
    "name": "ipython",
    "version": 3
   },
   "file_extension": ".py",
   "mimetype": "text/x-python",
   "name": "python",
   "nbconvert_exporter": "python",
   "pygments_lexer": "ipython3",
   "version": "3.6.8"
  },
  "toc": {
   "base_numbering": 1,
   "nav_menu": {},
   "number_sections": true,
   "sideBar": true,
   "skip_h1_title": false,
   "title_cell": "Table of Contents",
   "title_sidebar": "Contents",
   "toc_cell": false,
   "toc_position": {
    "height": "calc(100% - 180px)",
    "left": "10px",
    "top": "150px",
    "width": "307px"
   },
   "toc_section_display": true,
   "toc_window_display": true
  }
 },
 "nbformat": 4,
 "nbformat_minor": 2
}
