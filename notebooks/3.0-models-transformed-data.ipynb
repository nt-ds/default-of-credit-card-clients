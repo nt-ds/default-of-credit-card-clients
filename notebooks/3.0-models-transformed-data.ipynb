{
 "cells": [
  {
   "cell_type": "markdown",
   "metadata": {},
   "source": [
    "# Credit Card Default\n",
    "August 15, 2019<br>Ngoc, Modeling Transformed Data\n",
    "\n",
    "-----------------------------------------------------------------"
   ]
  },
  {
   "cell_type": "markdown",
   "metadata": {},
   "source": [
    "In this notebook, we will perform modeling for transformed data.\n",
    "\n",
    "----------------------------------------------"
   ]
  },
  {
   "cell_type": "markdown",
   "metadata": {},
   "source": [
    "# Import"
   ]
  },
  {
   "cell_type": "code",
   "execution_count": 65,
   "metadata": {},
   "outputs": [],
   "source": [
    "%matplotlib inline\n",
    "\n",
    "import os\n",
    "import pickle\n",
    "import warnings\n",
    "import numpy as np\n",
    "import pandas as pd\n",
    "import seaborn as sns\n",
    "import xgboost as xgb\n",
    "import matplotlib.pyplot as plt\n",
    "\n",
    "from pathlib import Path\n",
    "from sklearn.svm import SVC\n",
    "from datetime import datetime\n",
    "from imblearn.over_sampling import SMOTE\n",
    "from sklearn.tree import DecisionTreeClassifier\n",
    "from yellowbrick.classifier import ConfusionMatrix\n",
    "from sklearn.ensemble import RandomForestClassifier\n",
    "from sklearn.linear_model import LogisticRegression\n",
    "from sklearn.preprocessing import PowerTransformer, MinMaxScaler\n",
    "from sklearn.model_selection import train_test_split, GridSearchCV\n",
    "from sklearn.metrics import auc, f1_score, precision_score, recall_score, roc_curve, roc_auc_score\n",
    "\n",
    "sns.set_style(\"whitegrid\")\n",
    "warnings.filterwarnings(\"ignore\")"
   ]
  },
  {
   "cell_type": "markdown",
   "metadata": {},
   "source": [
    "Change directory to get data source code:"
   ]
  },
  {
   "cell_type": "code",
   "execution_count": 2,
   "metadata": {},
   "outputs": [],
   "source": [
    "main_path = os.getcwd()\n",
    "parent_path = Path(os.getcwd()).parent\n",
    "src_path = str(parent_path) + \"/src/directories\"\n",
    "os.chdir(src_path)"
   ]
  },
  {
   "cell_type": "markdown",
   "metadata": {},
   "source": [
    "More import:"
   ]
  },
  {
   "cell_type": "code",
   "execution_count": 3,
   "metadata": {},
   "outputs": [],
   "source": [
    "import change_directory"
   ]
  },
  {
   "cell_type": "markdown",
   "metadata": {},
   "source": [
    "Change back to notebook directory:"
   ]
  },
  {
   "cell_type": "code",
   "execution_count": 4,
   "metadata": {},
   "outputs": [],
   "source": [
    "os.chdir(main_path)"
   ]
  },
  {
   "cell_type": "markdown",
   "metadata": {},
   "source": [
    "Change directory to get helper functions:"
   ]
  },
  {
   "cell_type": "code",
   "execution_count": 5,
   "metadata": {},
   "outputs": [],
   "source": [
    "cd = change_directory.ChangeDirectory()"
   ]
  },
  {
   "cell_type": "code",
   "execution_count": 6,
   "metadata": {},
   "outputs": [],
   "source": [
    "cd.change_to_src_models_dir()"
   ]
  },
  {
   "cell_type": "markdown",
   "metadata": {},
   "source": [
    "More import:"
   ]
  },
  {
   "cell_type": "code",
   "execution_count": 7,
   "metadata": {},
   "outputs": [],
   "source": [
    "import evaluation_functions\n",
    "all_scores = evaluation_functions.all_scores\n",
    "scores_confusion_matrix = evaluation_functions.scores_confusion_matrix"
   ]
  },
  {
   "cell_type": "markdown",
   "metadata": {},
   "source": [
    "Change back to notebook directory:"
   ]
  },
  {
   "cell_type": "code",
   "execution_count": 8,
   "metadata": {},
   "outputs": [],
   "source": [
    "cd.change_to_notebook_dir()"
   ]
  },
  {
   "cell_type": "markdown",
   "metadata": {},
   "source": [
    "# ETL"
   ]
  },
  {
   "cell_type": "markdown",
   "metadata": {},
   "source": [
    "## Load data"
   ]
  },
  {
   "cell_type": "markdown",
   "metadata": {},
   "source": [
    "Change directory to get data:"
   ]
  },
  {
   "cell_type": "code",
   "execution_count": 9,
   "metadata": {},
   "outputs": [],
   "source": [
    "cd.change_to_data_dir()"
   ]
  },
  {
   "cell_type": "markdown",
   "metadata": {},
   "source": [
    "Load data:"
   ]
  },
  {
   "cell_type": "code",
   "execution_count": 10,
   "metadata": {},
   "outputs": [],
   "source": [
    "ccd_df = pd.read_csv(\"processed/transformed_credit_card_default.csv\")"
   ]
  },
  {
   "cell_type": "markdown",
   "metadata": {},
   "source": [
    "Change back to notebook directory:"
   ]
  },
  {
   "cell_type": "code",
   "execution_count": 11,
   "metadata": {},
   "outputs": [],
   "source": [
    "cd.change_to_notebook_dir()"
   ]
  },
  {
   "cell_type": "markdown",
   "metadata": {},
   "source": [
    "## Sample data\n",
    "Methods to tackle imbalance: over-sampling, under-sampling, and SMOTE."
   ]
  },
  {
   "cell_type": "code",
   "execution_count": 12,
   "metadata": {
    "scrolled": true
   },
   "outputs": [],
   "source": [
    "ccd_df.drop(\"Unnamed: 0\", axis=1, inplace=True)"
   ]
  },
  {
   "cell_type": "code",
   "execution_count": 13,
   "metadata": {},
   "outputs": [],
   "source": [
    "ccd_ns = ccd_df.copy()\n",
    "ccd_ou = ccd_df.copy()\n",
    "ccd_smote = ccd_df.copy()"
   ]
  },
  {
   "cell_type": "markdown",
   "metadata": {},
   "source": [
    "### Over-sampling"
   ]
  },
  {
   "cell_type": "code",
   "execution_count": 14,
   "metadata": {},
   "outputs": [],
   "source": [
    "default_samples = ccd_ou[ccd_ou.DEFAULT == 1]\n",
    "non_default_samples = ccd_ou[ccd_ou.DEFAULT == 0]"
   ]
  },
  {
   "cell_type": "code",
   "execution_count": 15,
   "metadata": {},
   "outputs": [],
   "source": [
    "default_samples_train, default_samples_test = train_test_split(default_samples,\n",
    "                                                               test_size=0.2,\n",
    "                                                               random_state=111)\n",
    "non_default_samples_train, non_default_samples_test = train_test_split(non_default_samples,\n",
    "                                                                       test_size=0.2,\n",
    "                                                                       random_state=111)"
   ]
  },
  {
   "cell_type": "code",
   "execution_count": 16,
   "metadata": {},
   "outputs": [],
   "source": [
    "np.random.seed(42)\n",
    "os_default_idx = np.random.choice(default_samples_train.index,\n",
    "                                  size=non_default_samples_train.shape[0], replace=True)\n",
    "os_default = default_samples_train.loc[os_default_idx, :]"
   ]
  },
  {
   "cell_type": "code",
   "execution_count": 17,
   "metadata": {},
   "outputs": [],
   "source": [
    "ccd_over_sampled_train = pd.concat([os_default, non_default_samples_train], axis=0)\n",
    "X_over_sampled_train = ccd_over_sampled_train.drop(\"DEFAULT\", axis=1)\n",
    "y_over_sampled_train = ccd_over_sampled_train.DEFAULT\n",
    "\n",
    "ccd_over_sampled_test = pd.concat([default_samples_test, non_default_samples_test], axis=0)\n",
    "X_over_sampled_test = ccd_over_sampled_test.drop(\"DEFAULT\", axis=1)\n",
    "y_over_sampled_test = ccd_over_sampled_test.DEFAULT"
   ]
  },
  {
   "cell_type": "markdown",
   "metadata": {},
   "source": [
    "### Under-sampling"
   ]
  },
  {
   "cell_type": "code",
   "execution_count": 18,
   "metadata": {},
   "outputs": [],
   "source": [
    "np.random.seed(42)\n",
    "us_non_default_idx = np.random.choice(non_default_samples.index, size=default_samples.shape[0], replace=False)\n",
    "us_non_default = non_default_samples.loc[us_non_default_idx, :]"
   ]
  },
  {
   "cell_type": "code",
   "execution_count": 19,
   "metadata": {},
   "outputs": [],
   "source": [
    "ccd_under_sampled = pd.concat([us_non_default, default_samples], axis=0)\n",
    "X_under_sampled = ccd_under_sampled.drop(\"DEFAULT\", axis=1)\n",
    "y_under_sampled = ccd_under_sampled.DEFAULT\n",
    "X_under_sampled_train, X_under_sampled_test, y_under_sampled_train, y_under_sampled_test = train_test_split(X_under_sampled, y_under_sampled, test_size=0.2, random_state=111)"
   ]
  },
  {
   "cell_type": "markdown",
   "metadata": {},
   "source": [
    "### SMOTE"
   ]
  },
  {
   "cell_type": "code",
   "execution_count": 20,
   "metadata": {},
   "outputs": [],
   "source": [
    "X_smote = ccd_smote.drop(\"DEFAULT\", axis=1)\n",
    "y_smote = ccd_smote.DEFAULT\n",
    "X_smote_train, X_smote_test, y_smote_train, y_smote_test = train_test_split(X_smote, y_smote,\n",
    "                                                                            test_size=0.2, random_state=111)\n",
    "sm = SMOTE(random_state=42)\n",
    "X_sm, y_sm = sm.fit_resample(X_smote_train, y_smote_train)"
   ]
  },
  {
   "cell_type": "markdown",
   "metadata": {},
   "source": [
    "## Data for modeling"
   ]
  },
  {
   "cell_type": "code",
   "execution_count": 21,
   "metadata": {},
   "outputs": [],
   "source": [
    "# non-sampled\n",
    "X_non_sampled = ccd_ns.drop(\"DEFAULT\", axis=1)\n",
    "y_non_sampled = ccd_ns.DEFAULT\n",
    "non_sampled_X_train, non_sampled_X_test, non_sampled_y_train, non_sampled_y_test = train_test_split(X_non_sampled,\n",
    "                                                                                                    y_non_sampled,\n",
    "                                                                                                    test_size=0.2,\n",
    "                                                                                                    random_state=111)"
   ]
  },
  {
   "cell_type": "code",
   "execution_count": 22,
   "metadata": {},
   "outputs": [],
   "source": [
    "# over-sampled\n",
    "over_sampled_X_train = X_over_sampled_train\n",
    "over_sampled_y_train = y_over_sampled_train\n",
    "over_sampled_X_test = X_over_sampled_test\n",
    "over_sampled_y_test = y_over_sampled_test"
   ]
  },
  {
   "cell_type": "code",
   "execution_count": 23,
   "metadata": {},
   "outputs": [],
   "source": [
    "# under-sampled\n",
    "under_sampled_X_train = X_under_sampled_train\n",
    "under_sampled_y_train = y_under_sampled_train\n",
    "under_sampled_X_test = X_under_sampled_test\n",
    "under_sampled_y_test = y_under_sampled_test"
   ]
  },
  {
   "cell_type": "code",
   "execution_count": 24,
   "metadata": {},
   "outputs": [],
   "source": [
    "# SMOTE\n",
    "smote_sampled_X_train = X_sm\n",
    "smote_sampled_y_train = y_sm\n",
    "smote_sampled_X_test = X_smote_test\n",
    "smote_sampled_y_test = y_smote_test"
   ]
  },
  {
   "cell_type": "markdown",
   "metadata": {},
   "source": [
    "# Model"
   ]
  },
  {
   "cell_type": "markdown",
   "metadata": {},
   "source": [
    "## Non-sampled"
   ]
  },
  {
   "cell_type": "markdown",
   "metadata": {},
   "source": [
    "### Logistic Regression"
   ]
  },
  {
   "cell_type": "code",
   "execution_count": 25,
   "metadata": {},
   "outputs": [
    {
     "data": {
      "text/plain": [
       "{'C': 10,\n",
       " 'class_weight': 'balanced',\n",
       " 'n_jobs': -1,\n",
       " 'penalty': 'l1',\n",
       " 'random_state': 42,\n",
       " 'solver': 'liblinear'}"
      ]
     },
     "execution_count": 25,
     "metadata": {},
     "output_type": "execute_result"
    }
   ],
   "source": [
    "ns_lr = LogisticRegression()\n",
    "param_grid = {\"penalty\": [\"l1\", \"l2\"],\n",
    "              \"C\": [0.01, 0.1, 1, 10],\n",
    "              \"class_weight\": [\"balanced\", None],\n",
    "              \"random_state\": [42],\n",
    "              \"solver\": [\"liblinear\"], \n",
    "              \"n_jobs\": [-1]}\n",
    "ns_lr_gs = GridSearchCV(ns_lr, param_grid, cv=3, scoring=\"recall\", n_jobs=-1)\n",
    "ns_lr_gs.fit(non_sampled_X_train, non_sampled_y_train);\n",
    "ns_lr_gs.best_params_"
   ]
  },
  {
   "cell_type": "markdown",
   "metadata": {},
   "source": [
    "Evaluate the best logistic model:"
   ]
  },
  {
   "cell_type": "code",
   "execution_count": 26,
   "metadata": {},
   "outputs": [
    {
     "name": "stdout",
     "output_type": "stream",
     "text": [
      "Training Scores:\n",
      "f-1 score: 0.5430930810550789\n",
      "recall: 0.6342696629213483\n",
      "precision:0.4748352726762933\n",
      "Test Scores:\n",
      "f-1 score: 0.5164319248826291\n",
      "recall: 0.5941358024691358\n",
      "precision:0.45670225385527874\n"
     ]
    },
    {
     "data": {
      "image/png": "[encoded data removed]",
      "text/plain": [
       "<Figure size 432x288 with 1 Axes>"
      ]
     },
     "metadata": {
      "needs_background": "light"
     },
     "output_type": "display_data"
    }
   ],
   "source": [
    "scores_confusion_matrix(ns_lr_gs, non_sampled_X_train, non_sampled_X_test,\n",
    "                        non_sampled_y_train, non_sampled_y_test)"
   ]
  },
  {
   "cell_type": "markdown",
   "metadata": {},
   "source": [
    "### Decision Tree"
   ]
  },
  {
   "cell_type": "code",
   "execution_count": 27,
   "metadata": {},
   "outputs": [
    {
     "data": {
      "text/plain": [
       "{'class_weight': 'balanced',\n",
       " 'criterion': 'entropy',\n",
       " 'max_depth': 10,\n",
       " 'max_features': 'sqrt',\n",
       " 'min_samples_leaf': 5,\n",
       " 'min_samples_split': 25,\n",
       " 'random_state': 42}"
      ]
     },
     "execution_count": 27,
     "metadata": {},
     "output_type": "execute_result"
    }
   ],
   "source": [
    "ns_dt = DecisionTreeClassifier()\n",
    "param_grid = {\"criterion\": [\"gini\", \"entropy\"],\n",
    "              \"max_depth\": [None, 8, 10],\n",
    "              \"min_samples_split\": [10, 25],\n",
    "              \"min_samples_leaf\": [1, 5],\n",
    "              \"max_features\": [None, \"sqrt\"],\n",
    "              \"class_weight\": [\"balanced\", None],\n",
    "              \"random_state\": [42]}\n",
    "ns_dt_gs = GridSearchCV(ns_dt, param_grid, cv=3, scoring=\"recall\", n_jobs=-1)\n",
    "ns_dt_gs.fit(non_sampled_X_train, non_sampled_y_train);\n",
    "ns_dt_gs.best_params_"
   ]
  },
  {
   "cell_type": "markdown",
   "metadata": {},
   "source": [
    "Evaluate the best decision tree model:"
   ]
  },
  {
   "cell_type": "code",
   "execution_count": 28,
   "metadata": {},
   "outputs": [
    {
     "name": "stdout",
     "output_type": "stream",
     "text": [
      "Training Scores:\n",
      "f-1 score: 0.5354296478771193\n",
      "recall: 0.6919475655430711\n",
      "precision:0.4366580004727015\n",
      "Test Scores:\n",
      "f-1 score: 0.48752969121140144\n",
      "recall: 0.6334876543209876\n",
      "precision:0.39623552123552125\n"
     ]
    },
    {
     "data": {
      "image/png": "[encoded data removed]",
      "text/plain": [
       "<Figure size 432x288 with 1 Axes>"
      ]
     },
     "metadata": {
      "needs_background": "light"
     },
     "output_type": "display_data"
    }
   ],
   "source": [
    "scores_confusion_matrix(ns_dt_gs, non_sampled_X_train, non_sampled_X_test,\n",
    "                        non_sampled_y_train, non_sampled_y_test)"
   ]
  },
  {
   "cell_type": "markdown",
   "metadata": {},
   "source": [
    "### Random Forest"
   ]
  },
  {
   "cell_type": "code",
   "execution_count": 29,
   "metadata": {},
   "outputs": [
    {
     "data": {
      "text/plain": [
       "{'class_weight': 'balanced',\n",
       " 'criterion': 'entropy',\n",
       " 'max_depth': 10,\n",
       " 'max_features': 'sqrt',\n",
       " 'min_samples_leaf': 5,\n",
       " 'min_samples_split': 25,\n",
       " 'n_estimators': 100,\n",
       " 'n_jobs': -1,\n",
       " 'random_state': 42}"
      ]
     },
     "execution_count": 29,
     "metadata": {},
     "output_type": "execute_result"
    }
   ],
   "source": [
    "ns_rf = RandomForestClassifier()\n",
    "param_grid = {\"n_estimators\": [50, 100],\n",
    "              \"criterion\": [\"gini\", \"entropy\"],\n",
    "              \"max_depth\": [None, 10],\n",
    "              \"min_samples_split\": [10, 25],\n",
    "              \"min_samples_leaf\": [1, 5],\n",
    "              \"max_features\": [None, \"sqrt\"],\n",
    "              \"class_weight\": [\"balanced\", None],\n",
    "              \"random_state\": [42],\n",
    "              \"n_jobs\": [-1]}\n",
    "ns_rf_gs = GridSearchCV(ns_rf, param_grid, cv=3, scoring=\"recall\", n_jobs=-1)\n",
    "ns_rf_gs.fit(non_sampled_X_train, non_sampled_y_train);\n",
    "ns_rf_gs.best_params_"
   ]
  },
  {
   "cell_type": "markdown",
   "metadata": {},
   "source": [
    "Evaluate the best random forest model:"
   ]
  },
  {
   "cell_type": "code",
   "execution_count": 30,
   "metadata": {},
   "outputs": [
    {
     "name": "stdout",
     "output_type": "stream",
     "text": [
      "Training Scores:\n",
      "f-1 score: 0.5889934707029594\n",
      "recall: 0.650374531835206\n",
      "precision:0.538199287153262\n",
      "Test Scores:\n",
      "f-1 score: 0.5281173594132028\n",
      "recall: 0.5833333333333334\n",
      "precision:0.4824505424377792\n"
     ]
    },
    {
     "data": {
      "image/png": "[encoded data removed]",
      "text/plain": [
       "<Figure size 432x288 with 1 Axes>"
      ]
     },
     "metadata": {
      "needs_background": "light"
     },
     "output_type": "display_data"
    }
   ],
   "source": [
    "scores_confusion_matrix(ns_rf_gs, non_sampled_X_train, non_sampled_X_test,\n",
    "                        non_sampled_y_train, non_sampled_y_test)"
   ]
  },
  {
   "cell_type": "markdown",
   "metadata": {},
   "source": [
    "## Over-sampled"
   ]
  },
  {
   "cell_type": "markdown",
   "metadata": {},
   "source": [
    "### Logistic Regression"
   ]
  },
  {
   "cell_type": "code",
   "execution_count": 35,
   "metadata": {},
   "outputs": [
    {
     "data": {
      "text/plain": [
       "{'C': 10,\n",
       " 'class_weight': 'balanced',\n",
       " 'n_jobs': -1,\n",
       " 'penalty': 'l1',\n",
       " 'random_state': 42,\n",
       " 'solver': 'liblinear'}"
      ]
     },
     "execution_count": 35,
     "metadata": {},
     "output_type": "execute_result"
    }
   ],
   "source": [
    "os_lr = LogisticRegression()\n",
    "param_grid = {\"penalty\": [\"l1\", \"l2\"],\n",
    "              \"C\": [0.01, 0.1, 1, 10],\n",
    "              \"class_weight\": [\"balanced\", None],\n",
    "              \"random_state\": [42],\n",
    "              \"solver\": [\"liblinear\"], \n",
    "              \"n_jobs\": [-1]}\n",
    "os_lr_gs = GridSearchCV(os_lr, param_grid, cv=3, scoring=\"recall\", n_jobs=-1)\n",
    "os_lr_gs.fit(over_sampled_X_train, over_sampled_y_train);\n",
    "os_lr_gs.best_params_"
   ]
  },
  {
   "cell_type": "markdown",
   "metadata": {},
   "source": [
    "Evaluate the best logistic model:"
   ]
  },
  {
   "cell_type": "code",
   "execution_count": 36,
   "metadata": {},
   "outputs": [
    {
     "name": "stdout",
     "output_type": "stream",
     "text": [
      "Training Scores:\n",
      "f-1 score: 0.6824405547248366\n",
      "recall: 0.622652613557327\n",
      "precision:0.7549299429164504\n",
      "Test Scores:\n",
      "f-1 score: 0.5532612258275976\n",
      "recall: 0.6355421686746988\n",
      "precision:0.48984329657574\n"
     ]
    },
    {
     "data": {
      "image/png": "[encoded data removed]",
      "text/plain": [
       "<Figure size 432x288 with 1 Axes>"
      ]
     },
     "metadata": {
      "needs_background": "light"
     },
     "output_type": "display_data"
    }
   ],
   "source": [
    "scores_confusion_matrix(os_lr_gs, over_sampled_X_train, over_sampled_X_test,\n",
    "                        over_sampled_y_train, over_sampled_y_test)"
   ]
  },
  {
   "cell_type": "markdown",
   "metadata": {},
   "source": [
    "### Decision Tree"
   ]
  },
  {
   "cell_type": "code",
   "execution_count": 37,
   "metadata": {},
   "outputs": [
    {
     "data": {
      "text/plain": [
       "{'class_weight': 'balanced',\n",
       " 'criterion': 'entropy',\n",
       " 'max_depth': None,\n",
       " 'max_features': None,\n",
       " 'min_samples_leaf': 1,\n",
       " 'min_samples_split': 10,\n",
       " 'random_state': 42}"
      ]
     },
     "execution_count": 37,
     "metadata": {},
     "output_type": "execute_result"
    }
   ],
   "source": [
    "os_dt = DecisionTreeClassifier()\n",
    "param_grid = {\"criterion\": [\"gini\", \"entropy\"],\n",
    "              \"max_depth\": [None, 8, 10],\n",
    "              \"min_samples_split\": [10, 25],\n",
    "              \"min_samples_leaf\": [1, 5],\n",
    "              \"max_features\": [None, \"sqrt\"],\n",
    "              \"class_weight\": [\"balanced\", None],\n",
    "              \"random_state\": [42]}\n",
    "os_dt_gs = GridSearchCV(os_dt, param_grid, cv=3, scoring=\"recall\", n_jobs=-1)\n",
    "os_dt_gs.fit(over_sampled_X_train, over_sampled_y_train);\n",
    "os_dt_gs.best_params_"
   ]
  },
  {
   "cell_type": "markdown",
   "metadata": {},
   "source": [
    "Evaluate the best decision tree model:"
   ]
  },
  {
   "cell_type": "code",
   "execution_count": 38,
   "metadata": {},
   "outputs": [
    {
     "name": "stdout",
     "output_type": "stream",
     "text": [
      "Training Scores:\n",
      "f-1 score: 0.9779321399946567\n",
      "recall: 0.9791878444170992\n",
      "precision:0.9766796520625434\n",
      "Test Scores:\n",
      "f-1 score: 0.41006661732050337\n",
      "recall: 0.4171686746987952\n",
      "precision:0.4032023289665211\n"
     ]
    },
    {
     "data": {
      "image/png": "[encoded data removed]",
      "text/plain": [
       "<Figure size 432x288 with 1 Axes>"
      ]
     },
     "metadata": {
      "needs_background": "light"
     },
     "output_type": "display_data"
    }
   ],
   "source": [
    "scores_confusion_matrix(os_dt_gs, over_sampled_X_train, over_sampled_X_test,\n",
    "                        over_sampled_y_train, over_sampled_y_test)"
   ]
  },
  {
   "cell_type": "markdown",
   "metadata": {},
   "source": [
    "### Random Forest"
   ]
  },
  {
   "cell_type": "code",
   "execution_count": 39,
   "metadata": {},
   "outputs": [
    {
     "data": {
      "text/plain": [
       "{'class_weight': 'balanced',\n",
       " 'criterion': 'entropy',\n",
       " 'max_depth': None,\n",
       " 'max_features': None,\n",
       " 'min_samples_leaf': 1,\n",
       " 'min_samples_split': 10,\n",
       " 'n_estimators': 50,\n",
       " 'n_jobs': -1,\n",
       " 'random_state': 42}"
      ]
     },
     "execution_count": 39,
     "metadata": {},
     "output_type": "execute_result"
    }
   ],
   "source": [
    "os_rf = RandomForestClassifier()\n",
    "param_grid = {\"n_estimators\": [50, 100],\n",
    "              \"criterion\": [\"gini\", \"entropy\"],\n",
    "              \"max_depth\": [None, 10],\n",
    "              \"min_samples_split\": [10, 25],\n",
    "              \"min_samples_leaf\": [1, 5],\n",
    "              \"max_features\": [None, \"sqrt\"],\n",
    "              \"class_weight\": [\"balanced\", None],\n",
    "              \"random_state\": [42],\n",
    "              \"n_jobs\": [-1]}\n",
    "os_rf_gs = GridSearchCV(os_rf, param_grid, cv=3, scoring=\"recall\", n_jobs=-1)\n",
    "os_rf_gs.fit(over_sampled_X_train, over_sampled_y_train);\n",
    "os_rf_gs.best_params_"
   ]
  },
  {
   "cell_type": "markdown",
   "metadata": {},
   "source": [
    "Evaluate the best random forest model:"
   ]
  },
  {
   "cell_type": "code",
   "execution_count": 40,
   "metadata": {},
   "outputs": [
    {
     "name": "stdout",
     "output_type": "stream",
     "text": [
      "Training Scores:\n",
      "f-1 score: 0.9949493599850351\n",
      "recall: 0.9959873736022685\n",
      "precision:0.993913507741591\n",
      "Test Scores:\n",
      "f-1 score: 0.506825938566553\n",
      "recall: 0.44728915662650603\n",
      "precision:0.5846456692913385\n"
     ]
    },
    {
     "data": {
      "image/png": "[encoded data removed]",
      "text/plain": [
       "<Figure size 432x288 with 1 Axes>"
      ]
     },
     "metadata": {
      "needs_background": "light"
     },
     "output_type": "display_data"
    }
   ],
   "source": [
    "scores_confusion_matrix(os_rf_gs, over_sampled_X_train, over_sampled_X_test,\n",
    "                        over_sampled_y_train, over_sampled_y_test)"
   ]
  },
  {
   "cell_type": "markdown",
   "metadata": {},
   "source": [
    "## Under-sampled"
   ]
  },
  {
   "cell_type": "markdown",
   "metadata": {},
   "source": [
    "### Logistic Regression"
   ]
  },
  {
   "cell_type": "code",
   "execution_count": 45,
   "metadata": {},
   "outputs": [
    {
     "data": {
      "text/plain": [
       "{'C': 10,\n",
       " 'class_weight': 'balanced',\n",
       " 'n_jobs': -1,\n",
       " 'penalty': 'l1',\n",
       " 'random_state': 42,\n",
       " 'solver': 'liblinear'}"
      ]
     },
     "execution_count": 45,
     "metadata": {},
     "output_type": "execute_result"
    }
   ],
   "source": [
    "us_lr = LogisticRegression()\n",
    "param_grid = {\"penalty\": [\"l1\", \"l2\"],\n",
    "              \"C\": [0.01, 0.1, 1, 10],\n",
    "              \"class_weight\": [\"balanced\", None],\n",
    "              \"random_state\": [42],\n",
    "              \"solver\": [\"liblinear\"], \n",
    "              \"n_jobs\": [-1]}\n",
    "us_lr_gs = GridSearchCV(us_lr, param_grid, cv=3, scoring=\"recall\", n_jobs=-1)\n",
    "us_lr_gs.fit(under_sampled_X_train, under_sampled_y_train);\n",
    "us_lr_gs.best_params_"
   ]
  },
  {
   "cell_type": "markdown",
   "metadata": {},
   "source": [
    "Evaluate the best logistic model:"
   ]
  },
  {
   "cell_type": "code",
   "execution_count": 46,
   "metadata": {},
   "outputs": [
    {
     "name": "stdout",
     "output_type": "stream",
     "text": [
      "Training Scores:\n",
      "f-1 score: 0.6797167846730529\n",
      "recall: 0.6174801362088536\n",
      "precision:0.7559055118110236\n",
      "Test Scores:\n",
      "f-1 score: 0.6934097421203439\n",
      "recall: 0.6274074074074074\n",
      "precision:0.7749313815187557\n"
     ]
    },
    {
     "data": {
      "image/png": "[encoded data removed]",
      "text/plain": [
       "<Figure size 432x288 with 1 Axes>"
      ]
     },
     "metadata": {
      "needs_background": "light"
     },
     "output_type": "display_data"
    }
   ],
   "source": [
    "scores_confusion_matrix(us_lr_gs, under_sampled_X_train, under_sampled_X_test,\n",
    "                        under_sampled_y_train, under_sampled_y_test)"
   ]
  },
  {
   "cell_type": "markdown",
   "metadata": {},
   "source": [
    "### Decision Tree"
   ]
  },
  {
   "cell_type": "code",
   "execution_count": 47,
   "metadata": {},
   "outputs": [
    {
     "data": {
      "text/plain": [
       "{'class_weight': 'balanced',\n",
       " 'criterion': 'gini',\n",
       " 'max_depth': None,\n",
       " 'max_features': 'sqrt',\n",
       " 'min_samples_leaf': 5,\n",
       " 'min_samples_split': 10,\n",
       " 'random_state': 42}"
      ]
     },
     "execution_count": 47,
     "metadata": {},
     "output_type": "execute_result"
    }
   ],
   "source": [
    "us_dt = DecisionTreeClassifier()\n",
    "param_grid = {\"criterion\": [\"gini\", \"entropy\"],\n",
    "              \"max_depth\": [None, 8, 10],\n",
    "              \"min_samples_split\": [10, 25],\n",
    "              \"min_samples_leaf\": [1, 5],\n",
    "              \"max_features\": [None, \"sqrt\"],\n",
    "              \"class_weight\": [\"balanced\", None],\n",
    "              \"random_state\": [42]}\n",
    "us_dt_gs = GridSearchCV(us_dt, param_grid, cv=3, scoring=\"recall\", n_jobs=-1)\n",
    "us_dt_gs.fit(under_sampled_X_train, under_sampled_y_train);\n",
    "us_dt_gs.best_params_"
   ]
  },
  {
   "cell_type": "markdown",
   "metadata": {},
   "source": [
    "Evaluate the best decision tree model:"
   ]
  },
  {
   "cell_type": "code",
   "execution_count": 48,
   "metadata": {},
   "outputs": [
    {
     "name": "stdout",
     "output_type": "stream",
     "text": [
      "Training Scores:\n",
      "f-1 score: 0.8050116009280742\n",
      "recall: 0.8204691638289822\n",
      "precision:0.7901257059573693\n",
      "Test Scores:\n",
      "f-1 score: 0.6741248646697943\n",
      "recall: 0.6918518518518518\n",
      "precision:0.657283603096411\n"
     ]
    },
    {
     "data": {
      "image/png": "[encoded data removed]",
      "text/plain": [
       "<Figure size 432x288 with 1 Axes>"
      ]
     },
     "metadata": {
      "needs_background": "light"
     },
     "output_type": "display_data"
    }
   ],
   "source": [
    "scores_confusion_matrix(us_dt_gs, under_sampled_X_train, under_sampled_X_test,\n",
    "                        under_sampled_y_train, under_sampled_y_test)"
   ]
  },
  {
   "cell_type": "markdown",
   "metadata": {},
   "source": [
    "### Random Forest"
   ]
  },
  {
   "cell_type": "code",
   "execution_count": 49,
   "metadata": {},
   "outputs": [
    {
     "data": {
      "text/plain": [
       "{'class_weight': 'balanced',\n",
       " 'criterion': 'gini',\n",
       " 'max_depth': None,\n",
       " 'max_features': None,\n",
       " 'min_samples_leaf': 5,\n",
       " 'min_samples_split': 10,\n",
       " 'n_estimators': 50,\n",
       " 'n_jobs': -1,\n",
       " 'random_state': 42}"
      ]
     },
     "execution_count": 49,
     "metadata": {},
     "output_type": "execute_result"
    }
   ],
   "source": [
    "us_rf = RandomForestClassifier()\n",
    "param_grid = {\"n_estimators\": [50, 100],\n",
    "              \"criterion\": [\"gini\", \"entropy\"],\n",
    "              \"max_depth\": [None, 10],\n",
    "              \"min_samples_split\": [10, 25],\n",
    "              \"min_samples_leaf\": [1, 5],\n",
    "              \"max_features\": [None, \"sqrt\"],\n",
    "              \"class_weight\": [\"balanced\", None],\n",
    "              \"random_state\": [42],\n",
    "              \"n_jobs\": [-1]}\n",
    "us_rf_gs = GridSearchCV(us_rf, param_grid, cv=3, scoring=\"recall\", n_jobs=-1)\n",
    "us_rf_gs.fit(under_sampled_X_train, under_sampled_y_train);\n",
    "us_rf_gs.best_params_"
   ]
  },
  {
   "cell_type": "markdown",
   "metadata": {},
   "source": [
    "Evaluate the best random forest model:"
   ]
  },
  {
   "cell_type": "code",
   "execution_count": 50,
   "metadata": {},
   "outputs": [
    {
     "name": "stdout",
     "output_type": "stream",
     "text": [
      "Training Scores:\n",
      "f-1 score: 0.9232518476407049\n",
      "recall: 0.9216799091940976\n",
      "precision:0.9248291571753986\n",
      "Test Scores:\n",
      "f-1 score: 0.691764705882353\n",
      "recall: 0.6533333333333333\n",
      "precision:0.735\n"
     ]
    },
    {
     "data": {
      "image/png": "[encoded data removed]",
      "text/plain": [
       "<Figure size 432x288 with 1 Axes>"
      ]
     },
     "metadata": {
      "needs_background": "light"
     },
     "output_type": "display_data"
    }
   ],
   "source": [
    "scores_confusion_matrix(us_rf_gs, under_sampled_X_train, under_sampled_X_test,\n",
    "                        under_sampled_y_train, under_sampled_y_test)"
   ]
  },
  {
   "cell_type": "markdown",
   "metadata": {},
   "source": [
    "## SMOTE-sampled"
   ]
  },
  {
   "cell_type": "markdown",
   "metadata": {},
   "source": [
    "### Logistic Regression"
   ]
  },
  {
   "cell_type": "code",
   "execution_count": 55,
   "metadata": {},
   "outputs": [
    {
     "data": {
      "text/plain": [
       "{'C': 10,\n",
       " 'class_weight': 'balanced',\n",
       " 'n_jobs': -1,\n",
       " 'penalty': 'l1',\n",
       " 'random_state': 42,\n",
       " 'solver': 'liblinear'}"
      ]
     },
     "execution_count": 55,
     "metadata": {},
     "output_type": "execute_result"
    }
   ],
   "source": [
    "sm_lr = LogisticRegression()\n",
    "param_grid = {\"penalty\": [\"l1\", \"l2\"],\n",
    "              \"C\": [0.01, 0.1, 1, 10],\n",
    "              \"class_weight\": [\"balanced\", None],\n",
    "              \"random_state\": [42],\n",
    "              \"solver\": [\"liblinear\"], \n",
    "              \"n_jobs\": [-1]}\n",
    "sm_lr_gs = GridSearchCV(sm_lr, param_grid, cv=3, scoring=\"recall\", n_jobs=-1)\n",
    "sm_lr_gs.fit(smote_sampled_X_train, smote_sampled_y_train);\n",
    "sm_lr_gs.best_params_"
   ]
  },
  {
   "cell_type": "markdown",
   "metadata": {},
   "source": [
    "Evaluate the best logistic model:"
   ]
  },
  {
   "cell_type": "code",
   "execution_count": 56,
   "metadata": {},
   "outputs": [
    {
     "name": "stdout",
     "output_type": "stream",
     "text": [
      "Training Scores:\n",
      "f-1 score: 0.6886940363509669\n",
      "recall: 0.6355841371918542\n",
      "precision:0.7514890381447218\n",
      "Test Scores:\n",
      "f-1 score: 0.5175237471339666\n",
      "recall: 0.6095679012345679\n",
      "precision:0.4496300512236767\n"
     ]
    },
    {
     "data": {
      "image/png": "[encoded data removed]",
      "text/plain": [
       "<Figure size 432x288 with 1 Axes>"
      ]
     },
     "metadata": {
      "needs_background": "light"
     },
     "output_type": "display_data"
    }
   ],
   "source": [
    "scores_confusion_matrix(sm_lr_gs, smote_sampled_X_train, smote_sampled_X_test,\n",
    "                        smote_sampled_y_train, smote_sampled_y_test)"
   ]
  },
  {
   "cell_type": "markdown",
   "metadata": {},
   "source": [
    "### Decision Tree"
   ]
  },
  {
   "cell_type": "code",
   "execution_count": 57,
   "metadata": {},
   "outputs": [
    {
     "data": {
      "text/plain": [
       "{'class_weight': 'balanced',\n",
       " 'criterion': 'gini',\n",
       " 'max_depth': None,\n",
       " 'max_features': None,\n",
       " 'min_samples_leaf': 1,\n",
       " 'min_samples_split': 10,\n",
       " 'random_state': 42}"
      ]
     },
     "execution_count": 57,
     "metadata": {},
     "output_type": "execute_result"
    }
   ],
   "source": [
    "sm_dt = DecisionTreeClassifier()\n",
    "param_grid = {\"criterion\": [\"gini\", \"entropy\"],\n",
    "              \"max_depth\": [None, 8, 10],\n",
    "              \"min_samples_split\": [10, 25],\n",
    "              \"min_samples_leaf\": [1, 5],\n",
    "              \"max_features\": [None, \"sqrt\"],\n",
    "              \"class_weight\": [\"balanced\", None],\n",
    "              \"random_state\": [42]}\n",
    "sm_dt_gs = GridSearchCV(sm_dt, param_grid, cv=3, scoring=\"recall\", n_jobs=-1)\n",
    "sm_dt_gs.fit(smote_sampled_X_train, smote_sampled_y_train);\n",
    "sm_dt_gs.best_params_"
   ]
  },
  {
   "cell_type": "markdown",
   "metadata": {},
   "source": [
    "Evaluate the best decision tree model:"
   ]
  },
  {
   "cell_type": "code",
   "execution_count": 58,
   "metadata": {},
   "outputs": [
    {
     "name": "stdout",
     "output_type": "stream",
     "text": [
      "Training Scores:\n",
      "f-1 score: 0.9486601688703065\n",
      "recall: 0.9362808145766345\n",
      "precision:0.9613712650635559\n",
      "Test Scores:\n",
      "f-1 score: 0.3954293628808864\n",
      "recall: 0.44058641975308643\n",
      "precision:0.3586683417085427\n"
     ]
    },
    {
     "data": {
      "image/png": "[encoded data removed]",
      "text/plain": [
       "<Figure size 432x288 with 1 Axes>"
      ]
     },
     "metadata": {
      "needs_background": "light"
     },
     "output_type": "display_data"
    }
   ],
   "source": [
    "scores_confusion_matrix(sm_dt_gs, smote_sampled_X_train, smote_sampled_X_test,\n",
    "                        smote_sampled_y_train, smote_sampled_y_test)"
   ]
  },
  {
   "cell_type": "markdown",
   "metadata": {},
   "source": [
    "### Random Forest"
   ]
  },
  {
   "cell_type": "code",
   "execution_count": 59,
   "metadata": {},
   "outputs": [
    {
     "data": {
      "text/plain": [
       "{'class_weight': 'balanced',\n",
       " 'criterion': 'entropy',\n",
       " 'max_depth': None,\n",
       " 'max_features': 'sqrt',\n",
       " 'min_samples_leaf': 1,\n",
       " 'min_samples_split': 10,\n",
       " 'n_estimators': 100,\n",
       " 'n_jobs': -1,\n",
       " 'random_state': 42}"
      ]
     },
     "execution_count": 59,
     "metadata": {},
     "output_type": "execute_result"
    }
   ],
   "source": [
    "sm_rf = RandomForestClassifier()\n",
    "param_grid = {\"n_estimators\": [50, 100],\n",
    "              \"criterion\": [\"gini\", \"entropy\"],\n",
    "              \"max_depth\": [None, 10],\n",
    "              \"min_samples_split\": [10, 25],\n",
    "              \"min_samples_leaf\": [1, 5],\n",
    "              \"max_features\": [None, \"sqrt\"],\n",
    "              \"class_weight\": [\"balanced\", None],\n",
    "              \"random_state\": [42],\n",
    "              \"n_jobs\": [-1]}\n",
    "sm_rf_gs = GridSearchCV(sm_rf, param_grid, cv=3, scoring=\"recall\", n_jobs=-1)\n",
    "sm_rf_gs.fit(smote_sampled_X_train, smote_sampled_y_train);\n",
    "sm_rf_gs.best_params_"
   ]
  },
  {
   "cell_type": "markdown",
   "metadata": {},
   "source": [
    "Evaluate the best random forest model:"
   ]
  },
  {
   "cell_type": "code",
   "execution_count": 60,
   "metadata": {},
   "outputs": [
    {
     "name": "stdout",
     "output_type": "stream",
     "text": [
      "Training Scores:\n",
      "f-1 score: 0.9741236728378595\n",
      "recall: 0.9784565916398714\n",
      "precision:0.9698289599490066\n",
      "Test Scores:\n",
      "f-1 score: 0.5140186915887851\n",
      "recall: 0.5092592592592593\n",
      "precision:0.5188679245283019\n"
     ]
    },
    {
     "data": {
      "image/png": "[encoded data removed]",
      "text/plain": [
       "<Figure size 432x288 with 1 Axes>"
      ]
     },
     "metadata": {
      "needs_background": "light"
     },
     "output_type": "display_data"
    }
   ],
   "source": [
    "scores_confusion_matrix(sm_rf_gs, smote_sampled_X_train, smote_sampled_X_test,\n",
    "                        smote_sampled_y_train, smote_sampled_y_test)"
   ]
  },
  {
   "cell_type": "markdown",
   "metadata": {},
   "source": [
    "# Save best models"
   ]
  },
  {
   "cell_type": "markdown",
   "metadata": {},
   "source": [
    "Change directory to save models:"
   ]
  },
  {
   "cell_type": "code",
   "execution_count": 70,
   "metadata": {},
   "outputs": [],
   "source": [
    "cd.change_to_model_dir()"
   ]
  },
  {
   "cell_type": "markdown",
   "metadata": {},
   "source": [
    "Save models:"
   ]
  },
  {
   "cell_type": "code",
   "execution_count": 71,
   "metadata": {},
   "outputs": [],
   "source": [
    "with open(\"transformed_non_sampled_logistic_regression.pickle\", \"wb\") as f:\n",
    "    pickle.dump(ns_lr_gs, f)\n",
    "    \n",
    "with open(\"transformed_non_sampled_decision_tree.pickle\", \"wb\") as f:\n",
    "    pickle.dump(ns_dt_gs, f)\n",
    "    \n",
    "with open(\"transformed_non_sampled_random_forest.pickle\", \"wb\") as f:\n",
    "    pickle.dump(ns_rf_gs, f)\n",
    "    \n",
    "with open(\"transformed_over_sampled_logistic_regression.pickle\", \"wb\") as f:\n",
    "    pickle.dump(os_lr_gs, f)\n",
    "    \n",
    "with open(\"transformed_over_sampled_decision_tree.pickle\", \"wb\") as f:\n",
    "    pickle.dump(os_dt_gs, f)\n",
    "    \n",
    "with open(\"transformed_over_sampled_random_forest.pickle\", \"wb\") as f:\n",
    "    pickle.dump(os_rf_gs, f)\n",
    "    \n",
    "with open(\"transformed_under_sampled_logistic_regression.pickle\", \"wb\") as f:\n",
    "    pickle.dump(us_lr_gs, f)\n",
    "    \n",
    "with open(\"transformed_under_sampled_decision_tree.pickle\", \"wb\") as f:\n",
    "    pickle.dump(us_dt_gs, f)\n",
    "    \n",
    "with open(\"transformed_under_sampled_random_forest.pickle\", \"wb\") as f:\n",
    "    pickle.dump(us_rf_gs, f)\n",
    "    \n",
    "with open(\"transformed_smote_sampled_logistic_regression.pickle\", \"wb\") as f:\n",
    "    pickle.dump(sm_lr_gs, f)\n",
    "    \n",
    "with open(\"transformed_smote_sampled_decision_tree.pickle\", \"wb\") as f:\n",
    "    pickle.dump(sm_dt_gs, f)\n",
    "    \n",
    "with open(\"transformed_smote_sampled_random_forest.pickle\", \"wb\") as f:\n",
    "    pickle.dump(sm_rf_gs, f)"
   ]
  },
  {
   "cell_type": "markdown",
   "metadata": {},
   "source": [
    "Change back to notebook directory:"
   ]
  },
  {
   "cell_type": "code",
   "execution_count": 72,
   "metadata": {},
   "outputs": [],
   "source": [
    "cd.change_to_notebook_dir()"
   ]
  }
 ],
 "metadata": {
  "kernelspec": {
   "display_name": "Python 3",
   "language": "python",
   "name": "python3"
  },
  "language_info": {
   "codemirror_mode": {
    "name": "ipython",
    "version": 3
   },
   "file_extension": ".py",
   "mimetype": "text/x-python",
   "name": "python",
   "nbconvert_exporter": "python",
   "pygments_lexer": "ipython3",
   "version": "3.6.8"
  },
  "toc": {
   "base_numbering": 1,
   "nav_menu": {},
   "number_sections": true,
   "sideBar": true,
   "skip_h1_title": false,
   "title_cell": "Table of Contents",
   "title_sidebar": "Contents",
   "toc_cell": false,
   "toc_position": {},
   "toc_section_display": true,
   "toc_window_display": true
  }
 },
 "nbformat": 4,
 "nbformat_minor": 2
}
