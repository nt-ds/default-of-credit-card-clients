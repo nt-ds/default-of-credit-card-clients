{
 "cells": [
  {
   "cell_type": "markdown",
   "metadata": {},
   "source": [
    "# Credit Card Default\n",
    "August 15, 2019<br>Ngoc, Modeling Transformed Data\n",
    "\n",
    "-----------------------------------------------------------------"
   ]
  },
  {
   "cell_type": "markdown",
   "metadata": {},
   "source": [
    "In this notebook, we will perform modeling for transformed data.\n",
    "\n",
    "----------------------------------------------"
   ]
  },
  {
   "cell_type": "markdown",
   "metadata": {},
   "source": [
    "# Import"
   ]
  },
  {
   "cell_type": "code",
   "execution_count": 1,
   "metadata": {},
   "outputs": [],
   "source": [
    "%matplotlib inline\n",
    "\n",
    "import os\n",
    "import warnings\n",
    "import numpy as np\n",
    "import pandas as pd\n",
    "import seaborn as sns\n",
    "import xgboost as xgb\n",
    "import matplotlib.pyplot as plt\n",
    "\n",
    "from pathlib import Path\n",
    "from sklearn.svm import SVC\n",
    "from datetime import datetime\n",
    "from imblearn.over_sampling import SMOTE\n",
    "from sklearn.tree import DecisionTreeClassifier\n",
    "from yellowbrick.classifier import ConfusionMatrix\n",
    "from sklearn.ensemble import RandomForestClassifier\n",
    "from sklearn.linear_model import LogisticRegression\n",
    "from sklearn.preprocessing import PowerTransformer, MinMaxScaler\n",
    "from sklearn.model_selection import train_test_split, GridSearchCV\n",
    "from sklearn.metrics import auc, f1_score, precision_score, recall_score, roc_curve, roc_auc_score\n",
    "\n",
    "sns.set_style(\"whitegrid\")\n",
    "warnings.filterwarnings(\"ignore\")"
   ]
  },
  {
   "cell_type": "markdown",
   "metadata": {},
   "source": [
    "Change directory to get data source code:"
   ]
  },
  {
   "cell_type": "code",
   "execution_count": 2,
   "metadata": {},
   "outputs": [],
   "source": [
    "main_path = os.getcwd()\n",
    "parent_path = Path(os.getcwd()).parent\n",
    "src_path = str(parent_path) + \"/src/directories\"\n",
    "os.chdir(src_path)"
   ]
  },
  {
   "cell_type": "markdown",
   "metadata": {},
   "source": [
    "More import:"
   ]
  },
  {
   "cell_type": "code",
   "execution_count": 3,
   "metadata": {},
   "outputs": [],
   "source": [
    "import change_directory"
   ]
  },
  {
   "cell_type": "markdown",
   "metadata": {},
   "source": [
    "Change back to notebook directory:"
   ]
  },
  {
   "cell_type": "code",
   "execution_count": 4,
   "metadata": {},
   "outputs": [],
   "source": [
    "os.chdir(main_path)"
   ]
  },
  {
   "cell_type": "markdown",
   "metadata": {},
   "source": [
    "# Helper functions"
   ]
  },
  {
   "cell_type": "code",
   "execution_count": 5,
   "metadata": {},
   "outputs": [],
   "source": [
    "def plot_confusion_matrix(model, X_train, X_test, y_train, y_test):\n",
    "    model_cm = ConfusionMatrix(model)\n",
    "    model_cm.fit(X_train, y_train)\n",
    "    model_cm.score(X_test, y_test)\n",
    "    model_cm.poof()\n",
    "\n",
    "def all_scores(y_true, y_pred):\n",
    "    print(f'f-1 score: {f1_score(y_true, y_pred)}')\n",
    "    print(f'recall: {recall_score(y_true, y_pred)}')\n",
    "    print(f'precision: {precision_score(y_true, y_pred)}')"
   ]
  },
  {
   "cell_type": "markdown",
   "metadata": {},
   "source": [
    "# ETL"
   ]
  },
  {
   "cell_type": "markdown",
   "metadata": {},
   "source": [
    "## Load data"
   ]
  },
  {
   "cell_type": "markdown",
   "metadata": {},
   "source": [
    "Change directory to get data:"
   ]
  },
  {
   "cell_type": "code",
   "execution_count": 6,
   "metadata": {},
   "outputs": [],
   "source": [
    "cd = change_directory.ChangeDirectory()"
   ]
  },
  {
   "cell_type": "code",
   "execution_count": 7,
   "metadata": {},
   "outputs": [],
   "source": [
    "cd.change_to_data_dir()"
   ]
  },
  {
   "cell_type": "markdown",
   "metadata": {},
   "source": [
    "Load data:"
   ]
  },
  {
   "cell_type": "code",
   "execution_count": 8,
   "metadata": {},
   "outputs": [],
   "source": [
    "ccd_df = pd.read_csv(\"processed/transformed_credit_card_default.csv\")"
   ]
  },
  {
   "cell_type": "markdown",
   "metadata": {},
   "source": [
    "Change back to notebook directory:"
   ]
  },
  {
   "cell_type": "code",
   "execution_count": 9,
   "metadata": {},
   "outputs": [],
   "source": [
    "cd.change_to_notebook_dir()"
   ]
  },
  {
   "cell_type": "markdown",
   "metadata": {},
   "source": [
    "## Sample data\n",
    "Methods to tackle imbalance: over-sampling, under-sampling, and SMOTE."
   ]
  },
  {
   "cell_type": "code",
   "execution_count": 10,
   "metadata": {
    "scrolled": true
   },
   "outputs": [],
   "source": [
    "ccd_df.drop(\"Unnamed: 0\", axis=1, inplace=True)"
   ]
  },
  {
   "cell_type": "code",
   "execution_count": 11,
   "metadata": {},
   "outputs": [],
   "source": [
    "ccd_ns = ccd_df.copy()\n",
    "ccd_ou = ccd_df.copy()\n",
    "ccd_smote = ccd_df.copy()"
   ]
  },
  {
   "cell_type": "markdown",
   "metadata": {},
   "source": [
    "### Over-sampling"
   ]
  },
  {
   "cell_type": "code",
   "execution_count": 12,
   "metadata": {},
   "outputs": [],
   "source": [
    "default_samples = ccd_ou[ccd_ou.DEFAULT == 1]\n",
    "non_default_samples = ccd_ou[ccd_ou.DEFAULT == 0]"
   ]
  },
  {
   "cell_type": "code",
   "execution_count": 13,
   "metadata": {},
   "outputs": [],
   "source": [
    "default_samples_train, default_samples_test = train_test_split(default_samples,\n",
    "                                                               test_size=0.2,\n",
    "                                                               random_state=111)\n",
    "non_default_samples_train, non_default_samples_test = train_test_split(non_default_samples,\n",
    "                                                                       test_size=0.2,\n",
    "                                                                       random_state=111)"
   ]
  },
  {
   "cell_type": "code",
   "execution_count": 14,
   "metadata": {},
   "outputs": [],
   "source": [
    "np.random.seed(42)\n",
    "os_default_idx = np.random.choice(default_samples_train.index,\n",
    "                                  size=non_default_samples_train.shape[0], replace=True)\n",
    "os_default = default_samples_train.loc[os_default_idx, :]"
   ]
  },
  {
   "cell_type": "code",
   "execution_count": 15,
   "metadata": {},
   "outputs": [],
   "source": [
    "ccd_over_sampled_train = pd.concat([os_default, non_default_samples_train], axis=0)\n",
    "X_over_sampled_train = ccd_over_sampled_train.drop(\"DEFAULT\", axis=1)\n",
    "y_over_sampled_train = ccd_over_sampled_train.DEFAULT\n",
    "\n",
    "ccd_over_sampled_test = pd.concat([default_samples_test, non_default_samples_test], axis=0)\n",
    "X_over_sampled_test = ccd_over_sampled_test.drop(\"DEFAULT\", axis=1)\n",
    "y_over_sampled_test = ccd_over_sampled_test.DEFAULT"
   ]
  },
  {
   "cell_type": "markdown",
   "metadata": {},
   "source": [
    "### Under-sampling"
   ]
  },
  {
   "cell_type": "code",
   "execution_count": 16,
   "metadata": {},
   "outputs": [],
   "source": [
    "np.random.seed(42)\n",
    "us_non_default_idx = np.random.choice(non_default_samples.index, size=default_samples.shape[0], replace=False)\n",
    "us_non_default = non_default_samples.loc[us_non_default_idx, :]"
   ]
  },
  {
   "cell_type": "code",
   "execution_count": 17,
   "metadata": {},
   "outputs": [],
   "source": [
    "ccd_under_sampled = pd.concat([us_non_default, default_samples], axis=0)\n",
    "X_under_sampled = ccd_under_sampled.drop(\"DEFAULT\", axis=1)\n",
    "y_under_sampled = ccd_under_sampled.DEFAULT\n",
    "X_under_sampled_train, X_under_sampled_test, y_under_sampled_train, y_under_sampled_test = train_test_split(X_under_sampled, y_under_sampled, test_size=0.2, random_state=111)"
   ]
  },
  {
   "cell_type": "markdown",
   "metadata": {},
   "source": [
    "### SMOTE"
   ]
  },
  {
   "cell_type": "code",
   "execution_count": 18,
   "metadata": {},
   "outputs": [],
   "source": [
    "X_smote = ccd_smote.drop(\"DEFAULT\", axis=1)\n",
    "y_smote = ccd_smote.DEFAULT\n",
    "X_smote_train, X_smote_test, y_smote_train, y_smote_test = train_test_split(X_smote, y_smote,\n",
    "                                                                            test_size=0.2, random_state=111)\n",
    "sm = SMOTE(random_state=42)\n",
    "X_sm, y_sm = sm.fit_resample(X_smote_train, y_smote_train)"
   ]
  },
  {
   "cell_type": "markdown",
   "metadata": {},
   "source": [
    "## Data for modeling"
   ]
  },
  {
   "cell_type": "code",
   "execution_count": 19,
   "metadata": {},
   "outputs": [],
   "source": [
    "# non-sampled\n",
    "X_non_sampled = ccd_ns.drop(\"DEFAULT\", axis=1)\n",
    "y_non_sampled = ccd_ns.DEFAULT\n",
    "non_sampled_X_train, non_sampled_X_test, non_sampled_y_train, non_sampled_y_test = train_test_split(X_non_sampled,\n",
    "                                                                                                    y_non_sampled,\n",
    "                                                                                                    test_size=0.2,\n",
    "                                                                                                    random_state=111)"
   ]
  },
  {
   "cell_type": "code",
   "execution_count": 20,
   "metadata": {},
   "outputs": [],
   "source": [
    "# over-sampled\n",
    "over_sampled_X_train = X_over_sampled_train\n",
    "over_sampled_y_train = y_over_sampled_train\n",
    "over_sampled_X_test = X_over_sampled_test\n",
    "over_sampled_y_test = y_over_sampled_test"
   ]
  },
  {
   "cell_type": "code",
   "execution_count": 21,
   "metadata": {},
   "outputs": [],
   "source": [
    "# under-sampled\n",
    "under_sampled_X_train = X_under_sampled_train\n",
    "under_sampled_y_train = y_under_sampled_train\n",
    "under_sampled_X_test = X_under_sampled_test\n",
    "under_sampled_y_test = y_under_sampled_test"
   ]
  },
  {
   "cell_type": "code",
   "execution_count": 22,
   "metadata": {},
   "outputs": [],
   "source": [
    "# SMOTE\n",
    "smote_sampled_X_train = X_sm\n",
    "smote_sampled_y_train = y_sm\n",
    "smote_sampled_X_test = X_smote_test\n",
    "smote_sampled_y_test = y_smote_test"
   ]
  },
  {
   "cell_type": "markdown",
   "metadata": {},
   "source": [
    "# Model"
   ]
  },
  {
   "cell_type": "markdown",
   "metadata": {},
   "source": [
    "## Non-sampled"
   ]
  },
  {
   "cell_type": "markdown",
   "metadata": {},
   "source": [
    "### Logistic Regression"
   ]
  },
  {
   "cell_type": "code",
   "execution_count": 23,
   "metadata": {},
   "outputs": [
    {
     "data": {
      "text/plain": [
       "{'C': 10,\n",
       " 'class_weight': 'balanced',\n",
       " 'n_jobs': -1,\n",
       " 'penalty': 'l1',\n",
       " 'random_state': 42,\n",
       " 'solver': 'liblinear'}"
      ]
     },
     "execution_count": 23,
     "metadata": {},
     "output_type": "execute_result"
    }
   ],
   "source": [
    "ns_lr = LogisticRegression()\n",
    "param_grid = {\"penalty\": [\"l1\", \"l2\"],\n",
    "              \"C\": [0.01, 0.1, 1, 10],\n",
    "              \"class_weight\": [\"balanced\", None],\n",
    "              \"random_state\": [42],\n",
    "              \"solver\": [\"liblinear\"], \n",
    "              \"n_jobs\": [-1]}\n",
    "ns_lr_gs = GridSearchCV(ns_lr, param_grid, cv=3, scoring=\"recall\", n_jobs=-1)\n",
    "ns_lr_gs.fit(non_sampled_X_train, non_sampled_y_train);\n",
    "ns_lr_gs.best_params_"
   ]
  },
  {
   "cell_type": "markdown",
   "metadata": {},
   "source": [
    "Evaluate the best logistic model:"
   ]
  },
  {
   "cell_type": "code",
   "execution_count": 24,
   "metadata": {},
   "outputs": [
    {
     "name": "stdout",
     "output_type": "stream",
     "text": [
      "f-1 score: 0.5164319248826291\n",
      "recall: 0.5941358024691358\n",
      "precision: 0.45670225385527874\n"
     ]
    }
   ],
   "source": [
    "best_ns_lr = LogisticRegression(**ns_lr_gs.best_params_)\n",
    "best_ns_lr.fit(non_sampled_X_train, non_sampled_y_train)\n",
    "y_preds_best_ns_lr = best_ns_lr.predict(non_sampled_X_test)\n",
    "all_scores(non_sampled_y_test, y_preds_best_ns_lr)"
   ]
  },
  {
   "cell_type": "markdown",
   "metadata": {},
   "source": [
    "### Decision Tree"
   ]
  },
  {
   "cell_type": "code",
   "execution_count": 25,
   "metadata": {},
   "outputs": [
    {
     "data": {
      "text/plain": [
       "{'class_weight': 'balanced',\n",
       " 'criterion': 'entropy',\n",
       " 'max_depth': 10,\n",
       " 'max_features': 'sqrt',\n",
       " 'min_samples_leaf': 5,\n",
       " 'min_samples_split': 25,\n",
       " 'random_state': 42}"
      ]
     },
     "execution_count": 25,
     "metadata": {},
     "output_type": "execute_result"
    }
   ],
   "source": [
    "ns_dt = DecisionTreeClassifier()\n",
    "param_grid = {\"criterion\": [\"gini\", \"entropy\"],\n",
    "              \"max_depth\": [None, 8, 10],\n",
    "              \"min_samples_split\": [10, 25],\n",
    "              \"min_samples_leaf\": [1, 5],\n",
    "              \"max_features\": [None, \"sqrt\"],\n",
    "              \"class_weight\": [\"balanced\", None],\n",
    "              \"random_state\": [42]}\n",
    "ns_dt_gs = GridSearchCV(ns_dt, param_grid, cv=3, scoring=\"recall\", n_jobs=-1)\n",
    "ns_dt_gs.fit(non_sampled_X_train, non_sampled_y_train);\n",
    "ns_dt_gs.best_params_"
   ]
  },
  {
   "cell_type": "markdown",
   "metadata": {},
   "source": [
    "Evaluate the best decision tree model:"
   ]
  },
  {
   "cell_type": "code",
   "execution_count": 26,
   "metadata": {},
   "outputs": [
    {
     "name": "stdout",
     "output_type": "stream",
     "text": [
      "f-1 score: 0.48752969121140144\n",
      "recall: 0.6334876543209876\n",
      "precision: 0.39623552123552125\n"
     ]
    }
   ],
   "source": [
    "best_ns_dt = DecisionTreeClassifier(**ns_dt_gs.best_params_)\n",
    "best_ns_dt.fit(non_sampled_X_train, non_sampled_y_train)\n",
    "y_preds_best_ns_dt = best_ns_dt.predict(non_sampled_X_test)\n",
    "all_scores(non_sampled_y_test, y_preds_best_ns_dt)"
   ]
  },
  {
   "cell_type": "markdown",
   "metadata": {},
   "source": [
    "### Random Forest"
   ]
  },
  {
   "cell_type": "markdown",
   "metadata": {},
   "source": [
    "Random Forest with the same hyperparameters as those of the best Decision Tree."
   ]
  },
  {
   "cell_type": "code",
   "execution_count": 27,
   "metadata": {},
   "outputs": [
    {
     "name": "stdout",
     "output_type": "stream",
     "text": [
      "f-1 score: 0.5281173594132028\n",
      "recall: 0.5833333333333334\n",
      "precision: 0.4824505424377792\n"
     ]
    }
   ],
   "source": [
    "ns_rf = RandomForestClassifier(n_estimators=100, **ns_dt_gs.best_params_)\n",
    "ns_rf.fit(non_sampled_X_train, non_sampled_y_train)\n",
    "y_preds_best_ns_rf = ns_rf.predict(non_sampled_X_test)\n",
    "all_scores(non_sampled_y_test, y_preds_best_ns_rf)"
   ]
  },
  {
   "cell_type": "markdown",
   "metadata": {},
   "source": [
    "### XGBoost"
   ]
  },
  {
   "cell_type": "code",
   "execution_count": 28,
   "metadata": {},
   "outputs": [
    {
     "data": {
      "text/plain": [
       "{'learning_rate': 0.01,\n",
       " 'max_depth': 5,\n",
       " 'n_estimators': 10,\n",
       " 'n_jobs': -1,\n",
       " 'objective': 'binary:hinge',\n",
       " 'random_state': 42}"
      ]
     },
     "execution_count": 28,
     "metadata": {},
     "output_type": "execute_result"
    }
   ],
   "source": [
    "ns_xgb = xgb.XGBRegressor()\n",
    "param_grid = {\"max_depth\": [5, 8, 10],\n",
    "              \"learning_rate\": [0.01, 0.1, 1, 10, 100],\n",
    "              \"objective\": [\"binary:hinge\"],\n",
    "              \"n_estimators\": [10, 50, 100, 150],\n",
    "              \"n_jobs\": [-1],\n",
    "              \"random_state\": [42]}\n",
    "ns_xgb_gs = GridSearchCV(ns_xgb, param_grid, cv=3, scoring=\"recall\", n_jobs=-1)\n",
    "ns_xgb_gs.fit(non_sampled_X_train, non_sampled_y_train);\n",
    "ns_xgb_gs.best_params_"
   ]
  },
  {
   "cell_type": "markdown",
   "metadata": {},
   "source": [
    "Evaluate the best XGBoost model:"
   ]
  },
  {
   "cell_type": "code",
   "execution_count": 29,
   "metadata": {},
   "outputs": [
    {
     "name": "stdout",
     "output_type": "stream",
     "text": [
      "f-1 score: 0.35526315789473684\n",
      "recall: 1.0\n",
      "precision: 0.216\n"
     ]
    }
   ],
   "source": [
    "best_ns_xgb = xgb.XGBRegressor(**ns_xgb_gs.best_params_)\n",
    "best_ns_xgb.fit(non_sampled_X_train, non_sampled_y_train)\n",
    "y_preds_best_ns_xgb = best_ns_xgb.predict(non_sampled_X_test)\n",
    "all_scores(non_sampled_y_test, y_preds_best_ns_xgb)"
   ]
  },
  {
   "cell_type": "markdown",
   "metadata": {},
   "source": [
    "f1...<br>\n",
    "f-1 score: 0.5077233042310276<br>\n",
    "recall: 0.5833333333333334<br>\n",
    "precision: 0.44946492271105826"
   ]
  },
  {
   "cell_type": "markdown",
   "metadata": {},
   "source": [
    "### SVM"
   ]
  },
  {
   "cell_type": "code",
   "execution_count": 30,
   "metadata": {},
   "outputs": [],
   "source": [
    "# ns_svm = SVC()\n",
    "# param_grid = {\"C\": [0.1, 1, 10],\n",
    "#               \"kernel\": [\"linear\", \"rbf\"],\n",
    "#               \"class_weight\": [\"balanced\", None],\n",
    "#               \"random_state\": [42]}\n",
    "# ns_svm_gs = GridSearchCV(ns_svm, param_grid, cv=3, scoring=\"recall\", n_jobs=-1)\n",
    "# ns_svm_gs.fit(non_sampled_X_train, non_sampled_y_train);\n",
    "# ns_svm_gs.best_params_"
   ]
  },
  {
   "cell_type": "markdown",
   "metadata": {},
   "source": [
    "Evaluate the best SVM model:"
   ]
  },
  {
   "cell_type": "code",
   "execution_count": 31,
   "metadata": {},
   "outputs": [],
   "source": [
    "# best_ns_svm = SVC(**ns_svm_gs.best_params_)\n",
    "# best_ns_svm.fit(non_sampled_X_train, non_sampled_y_train)\n",
    "# y_preds_best_ns_svm = best_ns_svm.predict(non_sampled_X_test)\n",
    "# all_scores(non_sampled_y_test, y_preds_best_ns_svm)"
   ]
  },
  {
   "cell_type": "markdown",
   "metadata": {},
   "source": [
    "## Over-sampled"
   ]
  },
  {
   "cell_type": "markdown",
   "metadata": {},
   "source": [
    "### Logistic Regression"
   ]
  },
  {
   "cell_type": "code",
   "execution_count": 32,
   "metadata": {},
   "outputs": [
    {
     "data": {
      "text/plain": [
       "{'C': 10,\n",
       " 'class_weight': 'balanced',\n",
       " 'n_jobs': -1,\n",
       " 'penalty': 'l1',\n",
       " 'random_state': 42,\n",
       " 'solver': 'liblinear'}"
      ]
     },
     "execution_count": 32,
     "metadata": {},
     "output_type": "execute_result"
    }
   ],
   "source": [
    "os_lr = LogisticRegression()\n",
    "param_grid = {\"penalty\": [\"l1\", \"l2\"],\n",
    "              \"C\": [0.01, 0.1, 1, 10],\n",
    "              \"class_weight\": [\"balanced\", None],\n",
    "              \"random_state\": [42],\n",
    "              \"solver\": [\"liblinear\"], \n",
    "              \"n_jobs\": [-1]}\n",
    "os_lr_gs = GridSearchCV(os_lr, param_grid, cv=3, scoring=\"recall\", n_jobs=-1)\n",
    "os_lr_gs.fit(over_sampled_X_train, over_sampled_y_train);\n",
    "os_lr_gs.best_params_"
   ]
  },
  {
   "cell_type": "markdown",
   "metadata": {},
   "source": [
    "Evaluate the best logistic model:"
   ]
  },
  {
   "cell_type": "code",
   "execution_count": 33,
   "metadata": {},
   "outputs": [
    {
     "name": "stdout",
     "output_type": "stream",
     "text": [
      "f-1 score: 0.5532612258275976\n",
      "recall: 0.6355421686746988\n",
      "precision: 0.48984329657574\n"
     ]
    }
   ],
   "source": [
    "best_os_lr = LogisticRegression(**os_lr_gs.best_params_)\n",
    "best_os_lr.fit(over_sampled_X_train, over_sampled_y_train)\n",
    "y_preds_best_os_lr = best_os_lr.predict(over_sampled_X_test)\n",
    "all_scores(over_sampled_y_test, y_preds_best_os_lr)"
   ]
  },
  {
   "cell_type": "markdown",
   "metadata": {},
   "source": [
    "### Decision Tree"
   ]
  },
  {
   "cell_type": "code",
   "execution_count": 34,
   "metadata": {},
   "outputs": [
    {
     "data": {
      "text/plain": [
       "{'class_weight': 'balanced',\n",
       " 'criterion': 'entropy',\n",
       " 'max_depth': None,\n",
       " 'max_features': None,\n",
       " 'min_samples_leaf': 1,\n",
       " 'min_samples_split': 10,\n",
       " 'random_state': 42}"
      ]
     },
     "execution_count": 34,
     "metadata": {},
     "output_type": "execute_result"
    }
   ],
   "source": [
    "os_dt = DecisionTreeClassifier()\n",
    "param_grid = {\"criterion\": [\"gini\", \"entropy\"],\n",
    "              \"max_depth\": [None, 8, 10],\n",
    "              \"min_samples_split\": [10, 25],\n",
    "              \"min_samples_leaf\": [1, 5],\n",
    "              \"max_features\": [None, \"sqrt\"],\n",
    "              \"class_weight\": [\"balanced\", None],\n",
    "              \"random_state\": [42]}\n",
    "os_dt_gs = GridSearchCV(os_dt, param_grid, cv=3, scoring=\"recall\", n_jobs=-1)\n",
    "os_dt_gs.fit(over_sampled_X_train, over_sampled_y_train);\n",
    "os_dt_gs.best_params_"
   ]
  },
  {
   "cell_type": "markdown",
   "metadata": {},
   "source": [
    "Evaluate the best decision tree model:"
   ]
  },
  {
   "cell_type": "code",
   "execution_count": 35,
   "metadata": {},
   "outputs": [
    {
     "name": "stdout",
     "output_type": "stream",
     "text": [
      "f-1 score: 0.41006661732050337\n",
      "recall: 0.4171686746987952\n",
      "precision: 0.4032023289665211\n"
     ]
    }
   ],
   "source": [
    "best_os_dt = DecisionTreeClassifier(**os_dt_gs.best_params_)\n",
    "best_os_dt.fit(over_sampled_X_train, over_sampled_y_train)\n",
    "y_preds_best_os_dt = best_os_dt.predict(over_sampled_X_test)\n",
    "all_scores(over_sampled_y_test, y_preds_best_os_dt)"
   ]
  },
  {
   "cell_type": "markdown",
   "metadata": {},
   "source": [
    "### Random Forest"
   ]
  },
  {
   "cell_type": "markdown",
   "metadata": {},
   "source": [
    "Random Forest with the same hyperparameters as those of the best Decision Tree."
   ]
  },
  {
   "cell_type": "code",
   "execution_count": 36,
   "metadata": {},
   "outputs": [
    {
     "name": "stdout",
     "output_type": "stream",
     "text": [
      "f-1 score: 0.5109866436880655\n",
      "recall: 0.44653614457831325\n",
      "precision: 0.5971802618328298\n"
     ]
    }
   ],
   "source": [
    "os_rf = RandomForestClassifier(n_estimators=100, **os_dt_gs.best_params_)\n",
    "os_rf.fit(over_sampled_X_train, over_sampled_y_train)\n",
    "y_preds_best_os_rf = os_rf.predict(over_sampled_X_test)\n",
    "all_scores(over_sampled_y_test, y_preds_best_os_rf)"
   ]
  },
  {
   "cell_type": "markdown",
   "metadata": {},
   "source": [
    "### XGBoost"
   ]
  },
  {
   "cell_type": "code",
   "execution_count": 37,
   "metadata": {},
   "outputs": [
    {
     "data": {
      "text/plain": [
       "{'learning_rate': 0.01,\n",
       " 'max_depth': 5,\n",
       " 'n_estimators': 10,\n",
       " 'n_jobs': -1,\n",
       " 'objective': 'binary:hinge',\n",
       " 'random_state': 42}"
      ]
     },
     "execution_count": 37,
     "metadata": {},
     "output_type": "execute_result"
    }
   ],
   "source": [
    "os_xgb = xgb.XGBRegressor()\n",
    "param_grid = {\"max_depth\": [5, 8, 10],\n",
    "              \"learning_rate\": [0.01, 0.1, 1, 10, 100],\n",
    "              \"objective\": [\"binary:hinge\"],\n",
    "              \"n_estimators\": [10, 50, 100, 150],\n",
    "              \"n_jobs\": [-1],\n",
    "              \"random_state\": [42]}\n",
    "os_xgb_gs = GridSearchCV(os_xgb, param_grid, cv=3, scoring=\"recall\", n_jobs=-1)\n",
    "os_xgb_gs.fit(over_sampled_X_train, over_sampled_y_train);\n",
    "os_xgb_gs.best_params_"
   ]
  },
  {
   "cell_type": "markdown",
   "metadata": {},
   "source": [
    "Evaluate the best XGBoost model:"
   ]
  },
  {
   "cell_type": "code",
   "execution_count": 38,
   "metadata": {},
   "outputs": [
    {
     "name": "stdout",
     "output_type": "stream",
     "text": [
      "f-1 score: 0.3623959612498295\n",
      "recall: 1.0\n",
      "precision: 0.22129645059156808\n"
     ]
    }
   ],
   "source": [
    "best_os_xgb = xgb.XGBRegressor(**os_xgb_gs.best_params_)\n",
    "best_os_xgb.fit(over_sampled_X_train, over_sampled_y_train)\n",
    "y_preds_best_os_xgb = best_os_xgb.predict(over_sampled_X_test)\n",
    "all_scores(over_sampled_y_test, y_preds_best_os_xgb)"
   ]
  },
  {
   "cell_type": "markdown",
   "metadata": {},
   "source": [
    "f1...<br>\n",
    "f-1 score: 0.5077233042310276<br>\n",
    "recall: 0.5833333333333334<br>\n",
    "precision: 0.44946492271105826"
   ]
  },
  {
   "cell_type": "markdown",
   "metadata": {},
   "source": [
    "### SVM"
   ]
  },
  {
   "cell_type": "code",
   "execution_count": 39,
   "metadata": {},
   "outputs": [],
   "source": [
    "# os_svm = SVC()\n",
    "# param_grid = {\"C\": [0.1, 1, 10],\n",
    "#               \"kernel\": [\"linear\", \"rbf\"],\n",
    "#               \"class_weight\": [\"balanced\", None],\n",
    "#               \"random_state\": [42]}\n",
    "# os_svm_gs = GridSearchCV(os_svm, param_grid, cv=3, scoring=\"recall\", n_jobs=-1)\n",
    "# os_svm_gs.fit(over_sampled_X_train, over_sampled_y_train);\n",
    "# os_svm_gs.best_params_"
   ]
  },
  {
   "cell_type": "markdown",
   "metadata": {},
   "source": [
    "Evaluate the best SVM model:"
   ]
  },
  {
   "cell_type": "code",
   "execution_count": 40,
   "metadata": {},
   "outputs": [],
   "source": [
    "# best_os_svm = SVC(**os_svm_gs.best_params_)\n",
    "# best_os_svm.fit(over_sampled_X_train, over_sampled_y_train)\n",
    "# y_preds_best_os_svm = best_os_svm.predict(over_sampled_X_test)\n",
    "# all_scores(over_sampled_y_test, y_preds_best_os_svm)"
   ]
  },
  {
   "cell_type": "markdown",
   "metadata": {},
   "source": [
    "## Under-sampled"
   ]
  },
  {
   "cell_type": "markdown",
   "metadata": {},
   "source": [
    "### Logistic Regression"
   ]
  },
  {
   "cell_type": "code",
   "execution_count": 41,
   "metadata": {},
   "outputs": [
    {
     "data": {
      "text/plain": [
       "{'C': 10,\n",
       " 'class_weight': 'balanced',\n",
       " 'n_jobs': -1,\n",
       " 'penalty': 'l1',\n",
       " 'random_state': 42,\n",
       " 'solver': 'liblinear'}"
      ]
     },
     "execution_count": 41,
     "metadata": {},
     "output_type": "execute_result"
    }
   ],
   "source": [
    "us_lr = LogisticRegression()\n",
    "param_grid = {\"penalty\": [\"l1\", \"l2\"],\n",
    "              \"C\": [0.01, 0.1, 1, 10],\n",
    "              \"class_weight\": [\"balanced\", None],\n",
    "              \"random_state\": [42],\n",
    "              \"solver\": [\"liblinear\"], \n",
    "              \"n_jobs\": [-1]}\n",
    "us_lr_gs = GridSearchCV(us_lr, param_grid, cv=3, scoring=\"recall\", n_jobs=-1)\n",
    "us_lr_gs.fit(under_sampled_X_train, under_sampled_y_train);\n",
    "us_lr_gs.best_params_"
   ]
  },
  {
   "cell_type": "markdown",
   "metadata": {},
   "source": [
    "Evaluate the best logistic model:"
   ]
  },
  {
   "cell_type": "code",
   "execution_count": 42,
   "metadata": {},
   "outputs": [
    {
     "name": "stdout",
     "output_type": "stream",
     "text": [
      "f-1 score: 0.6934097421203439\n",
      "recall: 0.6274074074074074\n",
      "precision: 0.7749313815187557\n"
     ]
    }
   ],
   "source": [
    "best_us_lr = LogisticRegression(**us_lr_gs.best_params_)\n",
    "best_us_lr.fit(under_sampled_X_train, under_sampled_y_train)\n",
    "y_preds_best_us_lr = best_us_lr.predict(under_sampled_X_test)\n",
    "all_scores(under_sampled_y_test, y_preds_best_us_lr)"
   ]
  },
  {
   "cell_type": "markdown",
   "metadata": {},
   "source": [
    "### Decision Tree"
   ]
  },
  {
   "cell_type": "code",
   "execution_count": 43,
   "metadata": {},
   "outputs": [
    {
     "data": {
      "text/plain": [
       "{'class_weight': 'balanced',\n",
       " 'criterion': 'gini',\n",
       " 'max_depth': None,\n",
       " 'max_features': 'sqrt',\n",
       " 'min_samples_leaf': 5,\n",
       " 'min_samples_split': 10,\n",
       " 'random_state': 42}"
      ]
     },
     "execution_count": 43,
     "metadata": {},
     "output_type": "execute_result"
    }
   ],
   "source": [
    "us_dt = DecisionTreeClassifier()\n",
    "param_grid = {\"criterion\": [\"gini\", \"entropy\"],\n",
    "              \"max_depth\": [None, 8, 10],\n",
    "              \"min_samples_split\": [10, 25],\n",
    "              \"min_samples_leaf\": [1, 5],\n",
    "              \"max_features\": [None, \"sqrt\"],\n",
    "              \"class_weight\": [\"balanced\", None],\n",
    "              \"random_state\": [42]}\n",
    "us_dt_gs = GridSearchCV(us_dt, param_grid, cv=3, scoring=\"recall\", n_jobs=-1)\n",
    "us_dt_gs.fit(under_sampled_X_train, under_sampled_y_train);\n",
    "us_dt_gs.best_params_"
   ]
  },
  {
   "cell_type": "markdown",
   "metadata": {},
   "source": [
    "Evaluate the best decision tree model:"
   ]
  },
  {
   "cell_type": "code",
   "execution_count": 44,
   "metadata": {},
   "outputs": [
    {
     "name": "stdout",
     "output_type": "stream",
     "text": [
      "f-1 score: 0.6741248646697943\n",
      "recall: 0.6918518518518518\n",
      "precision: 0.657283603096411\n"
     ]
    }
   ],
   "source": [
    "best_us_dt = DecisionTreeClassifier(**us_dt_gs.best_params_)\n",
    "best_us_dt.fit(under_sampled_X_train, under_sampled_y_train)\n",
    "y_preds_best_us_dt = best_us_dt.predict(under_sampled_X_test)\n",
    "all_scores(under_sampled_y_test, y_preds_best_us_dt)"
   ]
  },
  {
   "cell_type": "markdown",
   "metadata": {},
   "source": [
    "### Random Forest"
   ]
  },
  {
   "cell_type": "markdown",
   "metadata": {},
   "source": [
    "Random Forest with the same hyperparameters as those of the best Decision Tree."
   ]
  },
  {
   "cell_type": "code",
   "execution_count": 45,
   "metadata": {},
   "outputs": [
    {
     "name": "stdout",
     "output_type": "stream",
     "text": [
      "f-1 score: 0.7017543859649122\n",
      "recall: 0.6518518518518519\n",
      "precision: 0.7599309153713298\n"
     ]
    }
   ],
   "source": [
    "us_rf = RandomForestClassifier(n_estimators=100, **us_dt_gs.best_params_)\n",
    "us_rf.fit(under_sampled_X_train, under_sampled_y_train)\n",
    "y_preds_best_us_rf = us_rf.predict(under_sampled_X_test)\n",
    "all_scores(under_sampled_y_test, y_preds_best_us_rf)"
   ]
  },
  {
   "cell_type": "markdown",
   "metadata": {},
   "source": [
    "### XGBoost"
   ]
  },
  {
   "cell_type": "code",
   "execution_count": 46,
   "metadata": {},
   "outputs": [
    {
     "data": {
      "text/plain": [
       "{'learning_rate': 0.01,\n",
       " 'max_depth': 5,\n",
       " 'n_estimators': 10,\n",
       " 'n_jobs': -1,\n",
       " 'objective': 'binary:hinge',\n",
       " 'random_state': 42}"
      ]
     },
     "execution_count": 46,
     "metadata": {},
     "output_type": "execute_result"
    }
   ],
   "source": [
    "us_xgb = xgb.XGBRegressor()\n",
    "param_grid = {\"max_depth\": [5, 8, 10],\n",
    "              \"learning_rate\": [0.01, 0.1, 1, 10, 100],\n",
    "              \"objective\": [\"binary:hinge\"],\n",
    "              \"n_estimators\": [10, 50, 100, 150],\n",
    "              \"n_jobs\": [-1],\n",
    "              \"random_state\": [42]}\n",
    "us_xgb_gs = GridSearchCV(us_xgb, param_grid, cv=3, scoring=\"recall\", n_jobs=-1)\n",
    "us_xgb_gs.fit(under_sampled_X_train, under_sampled_y_train);\n",
    "us_xgb_gs.best_params_"
   ]
  },
  {
   "cell_type": "markdown",
   "metadata": {},
   "source": [
    "Evaluate the best XGBoost model:"
   ]
  },
  {
   "cell_type": "code",
   "execution_count": 47,
   "metadata": {},
   "outputs": [
    {
     "name": "stdout",
     "output_type": "stream",
     "text": [
      "f-1 score: 0.6741573033707865\n",
      "recall: 1.0\n",
      "precision: 0.5084745762711864\n"
     ]
    }
   ],
   "source": [
    "best_us_xgb = xgb.XGBRegressor(**us_xgb_gs.best_params_)\n",
    "best_us_xgb.fit(under_sampled_X_train, under_sampled_y_train)\n",
    "y_preds_best_us_xgb = best_us_xgb.predict(under_sampled_X_test)\n",
    "all_scores(under_sampled_y_test, y_preds_best_us_xgb)"
   ]
  },
  {
   "cell_type": "markdown",
   "metadata": {},
   "source": [
    "f1...<br>\n",
    "f-1 score: 0.5077233042310276<br>\n",
    "recall: 0.5833333333333334<br>\n",
    "precision: 0.44946492271105826"
   ]
  },
  {
   "cell_type": "markdown",
   "metadata": {},
   "source": [
    "### SVM"
   ]
  },
  {
   "cell_type": "code",
   "execution_count": 48,
   "metadata": {},
   "outputs": [],
   "source": [
    "# us_svm = SVC()\n",
    "# param_grid = {\"C\": [0.1, 1, 10],\n",
    "#               \"kernel\": [\"linear\", \"rbf\"],\n",
    "#               \"class_weight\": [\"balanced\", None],\n",
    "#               \"random_state\": [42]}\n",
    "# us_svm_gs = GridSearchCV(us_svm, param_grid, cv=3, scoring=\"recall\", n_jobs=-1)\n",
    "# us_svm_gs.fit(under_sampled_X_train, under_sampled_y_train);\n",
    "# us_svm_gs.best_params_"
   ]
  },
  {
   "cell_type": "markdown",
   "metadata": {},
   "source": [
    "Evaluate the best SVM model:"
   ]
  },
  {
   "cell_type": "code",
   "execution_count": 49,
   "metadata": {},
   "outputs": [],
   "source": [
    "# best_us_svm = SVC(**us_svm_gs.best_params_)\n",
    "# best_us_svm.fit(under_sampled_X_train, under_sampled_y_train)\n",
    "# y_preds_best_us_svm = best_us_svm.predict(under_sampled_X_test)\n",
    "# all_scores(under_sampled_y_test, y_preds_best_us_svm)"
   ]
  },
  {
   "cell_type": "markdown",
   "metadata": {},
   "source": [
    "## SMOTE-sampled"
   ]
  },
  {
   "cell_type": "markdown",
   "metadata": {},
   "source": [
    "### Logistic Regression"
   ]
  },
  {
   "cell_type": "code",
   "execution_count": 50,
   "metadata": {},
   "outputs": [
    {
     "data": {
      "text/plain": [
       "{'C': 10,\n",
       " 'class_weight': 'balanced',\n",
       " 'n_jobs': -1,\n",
       " 'penalty': 'l1',\n",
       " 'random_state': 42,\n",
       " 'solver': 'liblinear'}"
      ]
     },
     "execution_count": 50,
     "metadata": {},
     "output_type": "execute_result"
    }
   ],
   "source": [
    "sm_lr = LogisticRegression()\n",
    "param_grid = {\"penalty\": [\"l1\", \"l2\"],\n",
    "              \"C\": [0.01, 0.1, 1, 10],\n",
    "              \"class_weight\": [\"balanced\", None],\n",
    "              \"random_state\": [42],\n",
    "              \"solver\": [\"liblinear\"], \n",
    "              \"n_jobs\": [-1]}\n",
    "sm_lr_gs = GridSearchCV(sm_lr, param_grid, cv=3, scoring=\"recall\", n_jobs=-1)\n",
    "sm_lr_gs.fit(smote_sampled_X_train, smote_sampled_y_train);\n",
    "sm_lr_gs.best_params_"
   ]
  },
  {
   "cell_type": "markdown",
   "metadata": {},
   "source": [
    "Evaluate the best logistic model:"
   ]
  },
  {
   "cell_type": "code",
   "execution_count": 51,
   "metadata": {},
   "outputs": [
    {
     "name": "stdout",
     "output_type": "stream",
     "text": [
      "f-1 score: 0.5175237471339666\n",
      "recall: 0.6095679012345679\n",
      "precision: 0.4496300512236767\n"
     ]
    }
   ],
   "source": [
    "best_sm_lr = LogisticRegression(**sm_lr_gs.best_params_)\n",
    "best_sm_lr.fit(smote_sampled_X_train, smote_sampled_y_train)\n",
    "y_preds_best_sm_lr = best_sm_lr.predict(smote_sampled_X_test)\n",
    "all_scores(smote_sampled_y_test, y_preds_best_sm_lr)"
   ]
  },
  {
   "cell_type": "markdown",
   "metadata": {},
   "source": [
    "### Decision Tree"
   ]
  },
  {
   "cell_type": "code",
   "execution_count": 52,
   "metadata": {},
   "outputs": [
    {
     "data": {
      "text/plain": [
       "{'class_weight': 'balanced',\n",
       " 'criterion': 'gini',\n",
       " 'max_depth': None,\n",
       " 'max_features': None,\n",
       " 'min_samples_leaf': 1,\n",
       " 'min_samples_split': 10,\n",
       " 'random_state': 42}"
      ]
     },
     "execution_count": 52,
     "metadata": {},
     "output_type": "execute_result"
    }
   ],
   "source": [
    "sm_dt = DecisionTreeClassifier()\n",
    "param_grid = {\"criterion\": [\"gini\", \"entropy\"],\n",
    "              \"max_depth\": [None, 8, 10],\n",
    "              \"min_samples_split\": [10, 25],\n",
    "              \"min_samples_leaf\": [1, 5],\n",
    "              \"max_features\": [None, \"sqrt\"],\n",
    "              \"class_weight\": [\"balanced\", None],\n",
    "              \"random_state\": [42]}\n",
    "sm_dt_gs = GridSearchCV(sm_dt, param_grid, cv=3, scoring=\"recall\", n_jobs=-1)\n",
    "sm_dt_gs.fit(smote_sampled_X_train, smote_sampled_y_train);\n",
    "sm_dt_gs.best_params_"
   ]
  },
  {
   "cell_type": "markdown",
   "metadata": {},
   "source": [
    "Evaluate the best decision tree model:"
   ]
  },
  {
   "cell_type": "code",
   "execution_count": 53,
   "metadata": {},
   "outputs": [
    {
     "name": "stdout",
     "output_type": "stream",
     "text": [
      "f-1 score: 0.3954293628808864\n",
      "recall: 0.44058641975308643\n",
      "precision: 0.3586683417085427\n"
     ]
    }
   ],
   "source": [
    "best_sm_dt = DecisionTreeClassifier(**sm_dt_gs.best_params_)\n",
    "best_sm_dt.fit(smote_sampled_X_train, smote_sampled_y_train)\n",
    "y_preds_best_sm_dt = best_sm_dt.predict(smote_sampled_X_test)\n",
    "all_scores(smote_sampled_y_test, y_preds_best_sm_dt)"
   ]
  },
  {
   "cell_type": "markdown",
   "metadata": {},
   "source": [
    "### Random Forest"
   ]
  },
  {
   "cell_type": "markdown",
   "metadata": {},
   "source": [
    "Random Forest with the same hyperparameters as those of the best Decision Tree."
   ]
  },
  {
   "cell_type": "code",
   "execution_count": 54,
   "metadata": {},
   "outputs": [
    {
     "name": "stdout",
     "output_type": "stream",
     "text": [
      "f-1 score: 0.509548963835839\n",
      "recall: 0.4837962962962963\n",
      "precision: 0.5381974248927038\n"
     ]
    }
   ],
   "source": [
    "sm_rf = RandomForestClassifier(n_estimators=100, **sm_dt_gs.best_params_)\n",
    "sm_rf.fit(smote_sampled_X_train, smote_sampled_y_train)\n",
    "y_preds_best_sm_rf = sm_rf.predict(smote_sampled_X_test)\n",
    "all_scores(smote_sampled_y_test, y_preds_best_sm_rf)"
   ]
  },
  {
   "cell_type": "markdown",
   "metadata": {},
   "source": [
    "### XGBoost"
   ]
  },
  {
   "cell_type": "code",
   "execution_count": 55,
   "metadata": {},
   "outputs": [
    {
     "data": {
      "text/plain": [
       "{'learning_rate': 0.01,\n",
       " 'max_depth': 5,\n",
       " 'n_estimators': 10,\n",
       " 'n_jobs': -1,\n",
       " 'objective': 'binary:hinge',\n",
       " 'random_state': 42}"
      ]
     },
     "execution_count": 55,
     "metadata": {},
     "output_type": "execute_result"
    }
   ],
   "source": [
    "sm_xgb = xgb.XGBRegressor()\n",
    "param_grid = {\"max_depth\": [5, 8, 10],\n",
    "              \"learning_rate\": [0.01, 0.1, 1, 10, 100],\n",
    "              \"objective\": [\"binary:hinge\"],\n",
    "              \"n_estimators\": [10, 50, 100, 150],\n",
    "              \"n_jobs\": [-1],\n",
    "              \"random_state\": [42]}\n",
    "sm_xgb_gs = GridSearchCV(sm_xgb, param_grid, cv=3, scoring=\"recall\", n_jobs=-1)\n",
    "sm_xgb_gs.fit(smote_sampled_X_train, smote_sampled_y_train);\n",
    "sm_xgb_gs.best_params_"
   ]
  },
  {
   "cell_type": "markdown",
   "metadata": {},
   "source": [
    "Evaluate the best XGBoost model:"
   ]
  },
  {
   "cell_type": "code",
   "execution_count": 57,
   "metadata": {},
   "outputs": [
    {
     "ename": "ValueError",
     "evalue": "feature_names mismatch: ['f0', 'f1', 'f2', 'f3', 'f4', 'f5', 'f6', 'f7', 'f8', 'f9', 'f10', 'f11', 'f12', 'f13', 'f14', 'f15', 'f16', 'f17', 'f18', 'f19', 'f20', 'f21', 'f22', 'f23', 'f24', 'f25', 'f26', 'f27', 'f28', 'f29', 'f30', 'f31', 'f32', 'f33', 'f34', 'f35', 'f36', 'f37', 'f38', 'f39', 'f40', 'f41', 'f42', 'f43', 'f44', 'f45', 'f46', 'f47', 'f48', 'f49', 'f50', 'f51', 'f52', 'f53', 'f54', 'f55', 'f56', 'f57', 'f58', 'f59', 'f60', 'f61', 'f62', 'f63', 'f64', 'f65', 'f66', 'f67', 'f68', 'f69', 'f70', 'f71', 'f72', 'f73', 'f74', 'f75', 'f76', 'f77', 'f78', 'f79', 'f80', 'f81', 'f82', 'f83', 'f84', 'f85', 'f86', 'f87'] ['AGE', 'BILL_AMT_APR', 'BILL_AMT_AUG', 'BILL_AMT_JUL', 'BILL_AMT_JUN', 'BILL_AMT_MAY', 'BILL_AMT_SEPT', 'EDUCATION_OTHERS', 'EDUCATION_UNKNOWN_1', 'EDUCATION_UNKNOWN_2', 'FEMALE', 'GRADUATE_SCHOOL', 'HIGH_SCHOOL', 'LIMIT_BAL', 'MARRIAGE_OTHERS', 'MARRIED', 'PAY_AMT_APR', 'PAY_AMT_AUG', 'PAY_AMT_JUL', 'PAY_AMT_JUN', 'PAY_AMT_MAY', 'PAY_AMT_SEPT', 'REPAYMENT_STATUS_APR_-1', 'REPAYMENT_STATUS_APR_-2', 'REPAYMENT_STATUS_APR_0', 'REPAYMENT_STATUS_APR_2', 'REPAYMENT_STATUS_APR_3', 'REPAYMENT_STATUS_APR_4', 'REPAYMENT_STATUS_APR_5', 'REPAYMENT_STATUS_APR_6', 'REPAYMENT_STATUS_APR_7', 'REPAYMENT_STATUS_APR_8', 'REPAYMENT_STATUS_AUG_-1', 'REPAYMENT_STATUS_AUG_-2', 'REPAYMENT_STATUS_AUG_0', 'REPAYMENT_STATUS_AUG_1', 'REPAYMENT_STATUS_AUG_2', 'REPAYMENT_STATUS_AUG_3', 'REPAYMENT_STATUS_AUG_4', 'REPAYMENT_STATUS_AUG_5', 'REPAYMENT_STATUS_AUG_6', 'REPAYMENT_STATUS_AUG_7', 'REPAYMENT_STATUS_AUG_8', 'REPAYMENT_STATUS_JUL_-1', 'REPAYMENT_STATUS_JUL_-2', 'REPAYMENT_STATUS_JUL_0', 'REPAYMENT_STATUS_JUL_1', 'REPAYMENT_STATUS_JUL_2', 'REPAYMENT_STATUS_JUL_3', 'REPAYMENT_STATUS_JUL_4', 'REPAYMENT_STATUS_JUL_5', 'REPAYMENT_STATUS_JUL_6', 'REPAYMENT_STATUS_JUL_7', 'REPAYMENT_STATUS_JUL_8', 'REPAYMENT_STATUS_JUN_-1', 'REPAYMENT_STATUS_JUN_-2', 'REPAYMENT_STATUS_JUN_0', 'REPAYMENT_STATUS_JUN_1', 'REPAYMENT_STATUS_JUN_2', 'REPAYMENT_STATUS_JUN_3', 'REPAYMENT_STATUS_JUN_4', 'REPAYMENT_STATUS_JUN_5', 'REPAYMENT_STATUS_JUN_6', 'REPAYMENT_STATUS_JUN_7', 'REPAYMENT_STATUS_JUN_8', 'REPAYMENT_STATUS_MAY_-1', 'REPAYMENT_STATUS_MAY_-2', 'REPAYMENT_STATUS_MAY_0', 'REPAYMENT_STATUS_MAY_2', 'REPAYMENT_STATUS_MAY_3', 'REPAYMENT_STATUS_MAY_4', 'REPAYMENT_STATUS_MAY_5', 'REPAYMENT_STATUS_MAY_6', 'REPAYMENT_STATUS_MAY_7', 'REPAYMENT_STATUS_MAY_8', 'REPAYMENT_STATUS_SEPT_-1', 'REPAYMENT_STATUS_SEPT_-2', 'REPAYMENT_STATUS_SEPT_0', 'REPAYMENT_STATUS_SEPT_1', 'REPAYMENT_STATUS_SEPT_2', 'REPAYMENT_STATUS_SEPT_3', 'REPAYMENT_STATUS_SEPT_4', 'REPAYMENT_STATUS_SEPT_5', 'REPAYMENT_STATUS_SEPT_6', 'REPAYMENT_STATUS_SEPT_7', 'REPAYMENT_STATUS_SEPT_8', 'SINGLE', 'UNIVERSITY']\nexpected f6, f57, f61, f37, f77, f9, f3, f59, f82, f70, f17, f85, f60, f68, f67, f66, f4, f34, f38, f5, f62, f15, f50, f42, f72, f78, f53, f86, f21, f2, f26, f76, f65, f63, f52, f56, f48, f27, f39, f81, f10, f18, f58, f74, f41, f46, f31, f69, f54, f45, f84, f83, f80, f23, f75, f35, f44, f47, f29, f40, f64, f55, f25, f19, f51, f16, f79, f71, f73, f1, f43, f13, f49, f11, f30, f24, f87, f20, f7, f28, f14, f32, f22, f0, f33, f36, f8, f12 in input data\ntraining data did not have the following fields: REPAYMENT_STATUS_AUG_4, REPAYMENT_STATUS_JUL_8, REPAYMENT_STATUS_MAY_2, REPAYMENT_STATUS_APR_0, HIGH_SCHOOL, REPAYMENT_STATUS_JUN_2, BILL_AMT_JUL, LIMIT_BAL, REPAYMENT_STATUS_JUN_6, REPAYMENT_STATUS_MAY_3, MARRIED, BILL_AMT_AUG, REPAYMENT_STATUS_JUN_1, PAY_AMT_SEPT, SINGLE, EDUCATION_OTHERS, UNIVERSITY, REPAYMENT_STATUS_SEPT_4, REPAYMENT_STATUS_APR_5, REPAYMENT_STATUS_JUN_5, REPAYMENT_STATUS_SEPT_7, AGE, REPAYMENT_STATUS_JUL_5, REPAYMENT_STATUS_JUL_7, REPAYMENT_STATUS_AUG_-2, REPAYMENT_STATUS_JUN_3, REPAYMENT_STATUS_SEPT_2, REPAYMENT_STATUS_APR_2, REPAYMENT_STATUS_APR_6, REPAYMENT_STATUS_JUL_1, REPAYMENT_STATUS_JUN_-1, PAY_AMT_JUN, REPAYMENT_STATUS_MAY_0, REPAYMENT_STATUS_SEPT_5, REPAYMENT_STATUS_APR_7, REPAYMENT_STATUS_AUG_0, REPAYMENT_STATUS_JUN_4, REPAYMENT_STATUS_MAY_5, REPAYMENT_STATUS_SEPT_0, REPAYMENT_STATUS_JUL_3, REPAYMENT_STATUS_MAY_8, REPAYMENT_STATUS_JUN_8, REPAYMENT_STATUS_MAY_7, BILL_AMT_APR, REPAYMENT_STATUS_AUG_3, REPAYMENT_STATUS_JUL_2, REPAYMENT_STATUS_APR_3, EDUCATION_UNKNOWN_2, REPAYMENT_STATUS_APR_8, REPAYMENT_STATUS_JUL_6, EDUCATION_UNKNOWN_1, GRADUATE_SCHOOL, REPAYMENT_STATUS_AUG_8, REPAYMENT_STATUS_MAY_-1, REPAYMENT_STATUS_APR_4, REPAYMENT_STATUS_AUG_1, REPAYMENT_STATUS_JUL_-1, REPAYMENT_STATUS_SEPT_3, PAY_AMT_AUG, REPAYMENT_STATUS_MAY_-2, PAY_AMT_JUL, REPAYMENT_STATUS_AUG_5, REPAYMENT_STATUS_MAY_4, FEMALE, REPAYMENT_STATUS_APR_-2, REPAYMENT_STATUS_AUG_6, BILL_AMT_SEPT, REPAYMENT_STATUS_JUN_-2, REPAYMENT_STATUS_AUG_-1, REPAYMENT_STATUS_SEPT_-1, REPAYMENT_STATUS_SEPT_6, PAY_AMT_APR, REPAYMENT_STATUS_JUL_4, REPAYMENT_STATUS_AUG_2, PAY_AMT_MAY, REPAYMENT_STATUS_JUN_7, REPAYMENT_STATUS_APR_-1, REPAYMENT_STATUS_JUL_-2, REPAYMENT_STATUS_SEPT_1, MARRIAGE_OTHERS, REPAYMENT_STATUS_JUN_0, REPAYMENT_STATUS_AUG_7, BILL_AMT_MAY, REPAYMENT_STATUS_SEPT_8, REPAYMENT_STATUS_JUL_0, REPAYMENT_STATUS_MAY_6, BILL_AMT_JUN, REPAYMENT_STATUS_SEPT_-2",
     "output_type": "error",
     "traceback": [
      "\u001b[0;31m---------------------------------------------------------------------------\u001b[0m",
      "\u001b[0;31mValueError\u001b[0m                                Traceback (most recent call last)",
      "\u001b[0;32m<ipython-input-57-f0970a9de58a>\u001b[0m in \u001b[0;36m<module>\u001b[0;34m\u001b[0m\n\u001b[1;32m      1\u001b[0m \u001b[0mbest_sm_xgb\u001b[0m \u001b[0;34m=\u001b[0m \u001b[0mxgb\u001b[0m\u001b[0;34m.\u001b[0m\u001b[0mXGBRegressor\u001b[0m\u001b[0;34m(\u001b[0m\u001b[0;34m**\u001b[0m\u001b[0msm_xgb_gs\u001b[0m\u001b[0;34m.\u001b[0m\u001b[0mbest_params_\u001b[0m\u001b[0;34m)\u001b[0m\u001b[0;34m\u001b[0m\u001b[0;34m\u001b[0m\u001b[0m\n\u001b[1;32m      2\u001b[0m \u001b[0mbest_sm_xgb\u001b[0m\u001b[0;34m.\u001b[0m\u001b[0mfit\u001b[0m\u001b[0;34m(\u001b[0m\u001b[0msmote_sampled_X_train\u001b[0m\u001b[0;34m,\u001b[0m \u001b[0msmote_sampled_y_train\u001b[0m\u001b[0;34m)\u001b[0m\u001b[0;34m\u001b[0m\u001b[0;34m\u001b[0m\u001b[0m\n\u001b[0;32m----> 3\u001b[0;31m \u001b[0my_preds_best_sm_xgb\u001b[0m \u001b[0;34m=\u001b[0m \u001b[0mbest_sm_xgb\u001b[0m\u001b[0;34m.\u001b[0m\u001b[0mpredict\u001b[0m\u001b[0;34m(\u001b[0m\u001b[0msmote_sampled_X_test\u001b[0m\u001b[0;34m)\u001b[0m\u001b[0;34m\u001b[0m\u001b[0;34m\u001b[0m\u001b[0m\n\u001b[0m\u001b[1;32m      4\u001b[0m \u001b[0mall_scores\u001b[0m\u001b[0;34m(\u001b[0m\u001b[0msmote_sampled_y_test\u001b[0m\u001b[0;34m,\u001b[0m \u001b[0my_preds_best_sm_xgb\u001b[0m\u001b[0;34m)\u001b[0m\u001b[0;34m\u001b[0m\u001b[0;34m\u001b[0m\u001b[0m\n",
      "\u001b[0;32m~/anaconda3/lib/python3.7/site-packages/xgboost/sklearn.py\u001b[0m in \u001b[0;36mpredict\u001b[0;34m(self, data, output_margin, ntree_limit, validate_features)\u001b[0m\n\u001b[1;32m    454\u001b[0m                                           \u001b[0moutput_margin\u001b[0m\u001b[0;34m=\u001b[0m\u001b[0moutput_margin\u001b[0m\u001b[0;34m,\u001b[0m\u001b[0;34m\u001b[0m\u001b[0;34m\u001b[0m\u001b[0m\n\u001b[1;32m    455\u001b[0m                                           \u001b[0mntree_limit\u001b[0m\u001b[0;34m=\u001b[0m\u001b[0mntree_limit\u001b[0m\u001b[0;34m,\u001b[0m\u001b[0;34m\u001b[0m\u001b[0;34m\u001b[0m\u001b[0m\n\u001b[0;32m--> 456\u001b[0;31m                                           validate_features=validate_features)\n\u001b[0m\u001b[1;32m    457\u001b[0m \u001b[0;34m\u001b[0m\u001b[0m\n\u001b[1;32m    458\u001b[0m     \u001b[0;32mdef\u001b[0m \u001b[0mapply\u001b[0m\u001b[0;34m(\u001b[0m\u001b[0mself\u001b[0m\u001b[0;34m,\u001b[0m \u001b[0mX\u001b[0m\u001b[0;34m,\u001b[0m \u001b[0mntree_limit\u001b[0m\u001b[0;34m=\u001b[0m\u001b[0;36m0\u001b[0m\u001b[0;34m)\u001b[0m\u001b[0;34m:\u001b[0m\u001b[0;34m\u001b[0m\u001b[0;34m\u001b[0m\u001b[0m\n",
      "\u001b[0;32m~/anaconda3/lib/python3.7/site-packages/xgboost/core.py\u001b[0m in \u001b[0;36mpredict\u001b[0;34m(self, data, output_margin, ntree_limit, pred_leaf, pred_contribs, approx_contribs, pred_interactions, validate_features)\u001b[0m\n\u001b[1;32m   1282\u001b[0m \u001b[0;34m\u001b[0m\u001b[0m\n\u001b[1;32m   1283\u001b[0m         \u001b[0;32mif\u001b[0m \u001b[0mvalidate_features\u001b[0m\u001b[0;34m:\u001b[0m\u001b[0;34m\u001b[0m\u001b[0;34m\u001b[0m\u001b[0m\n\u001b[0;32m-> 1284\u001b[0;31m             \u001b[0mself\u001b[0m\u001b[0;34m.\u001b[0m\u001b[0m_validate_features\u001b[0m\u001b[0;34m(\u001b[0m\u001b[0mdata\u001b[0m\u001b[0;34m)\u001b[0m\u001b[0;34m\u001b[0m\u001b[0;34m\u001b[0m\u001b[0m\n\u001b[0m\u001b[1;32m   1285\u001b[0m \u001b[0;34m\u001b[0m\u001b[0m\n\u001b[1;32m   1286\u001b[0m         \u001b[0mlength\u001b[0m \u001b[0;34m=\u001b[0m \u001b[0mc_bst_ulong\u001b[0m\u001b[0;34m(\u001b[0m\u001b[0;34m)\u001b[0m\u001b[0;34m\u001b[0m\u001b[0;34m\u001b[0m\u001b[0m\n",
      "\u001b[0;32m~/anaconda3/lib/python3.7/site-packages/xgboost/core.py\u001b[0m in \u001b[0;36m_validate_features\u001b[0;34m(self, data)\u001b[0m\n\u001b[1;32m   1688\u001b[0m \u001b[0;34m\u001b[0m\u001b[0m\n\u001b[1;32m   1689\u001b[0m                 raise ValueError(msg.format(self.feature_names,\n\u001b[0;32m-> 1690\u001b[0;31m                                             data.feature_names))\n\u001b[0m\u001b[1;32m   1691\u001b[0m \u001b[0;34m\u001b[0m\u001b[0m\n\u001b[1;32m   1692\u001b[0m     \u001b[0;32mdef\u001b[0m \u001b[0mget_split_value_histogram\u001b[0m\u001b[0;34m(\u001b[0m\u001b[0mself\u001b[0m\u001b[0;34m,\u001b[0m \u001b[0mfeature\u001b[0m\u001b[0;34m,\u001b[0m \u001b[0mfmap\u001b[0m\u001b[0;34m=\u001b[0m\u001b[0;34m''\u001b[0m\u001b[0;34m,\u001b[0m \u001b[0mbins\u001b[0m\u001b[0;34m=\u001b[0m\u001b[0;32mNone\u001b[0m\u001b[0;34m,\u001b[0m \u001b[0mas_pandas\u001b[0m\u001b[0;34m=\u001b[0m\u001b[0;32mTrue\u001b[0m\u001b[0;34m)\u001b[0m\u001b[0;34m:\u001b[0m\u001b[0;34m\u001b[0m\u001b[0;34m\u001b[0m\u001b[0m\n",
      "\u001b[0;31mValueError\u001b[0m: feature_names mismatch: ['f0', 'f1', 'f2', 'f3', 'f4', 'f5', 'f6', 'f7', 'f8', 'f9', 'f10', 'f11', 'f12', 'f13', 'f14', 'f15', 'f16', 'f17', 'f18', 'f19', 'f20', 'f21', 'f22', 'f23', 'f24', 'f25', 'f26', 'f27', 'f28', 'f29', 'f30', 'f31', 'f32', 'f33', 'f34', 'f35', 'f36', 'f37', 'f38', 'f39', 'f40', 'f41', 'f42', 'f43', 'f44', 'f45', 'f46', 'f47', 'f48', 'f49', 'f50', 'f51', 'f52', 'f53', 'f54', 'f55', 'f56', 'f57', 'f58', 'f59', 'f60', 'f61', 'f62', 'f63', 'f64', 'f65', 'f66', 'f67', 'f68', 'f69', 'f70', 'f71', 'f72', 'f73', 'f74', 'f75', 'f76', 'f77', 'f78', 'f79', 'f80', 'f81', 'f82', 'f83', 'f84', 'f85', 'f86', 'f87'] ['AGE', 'BILL_AMT_APR', 'BILL_AMT_AUG', 'BILL_AMT_JUL', 'BILL_AMT_JUN', 'BILL_AMT_MAY', 'BILL_AMT_SEPT', 'EDUCATION_OTHERS', 'EDUCATION_UNKNOWN_1', 'EDUCATION_UNKNOWN_2', 'FEMALE', 'GRADUATE_SCHOOL', 'HIGH_SCHOOL', 'LIMIT_BAL', 'MARRIAGE_OTHERS', 'MARRIED', 'PAY_AMT_APR', 'PAY_AMT_AUG', 'PAY_AMT_JUL', 'PAY_AMT_JUN', 'PAY_AMT_MAY', 'PAY_AMT_SEPT', 'REPAYMENT_STATUS_APR_-1', 'REPAYMENT_STATUS_APR_-2', 'REPAYMENT_STATUS_APR_0', 'REPAYMENT_STATUS_APR_2', 'REPAYMENT_STATUS_APR_3', 'REPAYMENT_STATUS_APR_4', 'REPAYMENT_STATUS_APR_5', 'REPAYMENT_STATUS_APR_6', 'REPAYMENT_STATUS_APR_7', 'REPAYMENT_STATUS_APR_8', 'REPAYMENT_STATUS_AUG_-1', 'REPAYMENT_STATUS_AUG_-2', 'REPAYMENT_STATUS_AUG_0', 'REPAYMENT_STATUS_AUG_1', 'REPAYMENT_STATUS_AUG_2', 'REPAYMENT_STATUS_AUG_3', 'REPAYMENT_STATUS_AUG_4', 'REPAYMENT_STATUS_AUG_5', 'REPAYMENT_STATUS_AUG_6', 'REPAYMENT_STATUS_AUG_7', 'REPAYMENT_STATUS_AUG_8', 'REPAYMENT_STATUS_JUL_-1', 'REPAYMENT_STATUS_JUL_-2', 'REPAYMENT_STATUS_JUL_0', 'REPAYMENT_STATUS_JUL_1', 'REPAYMENT_STATUS_JUL_2', 'REPAYMENT_STATUS_JUL_3', 'REPAYMENT_STATUS_JUL_4', 'REPAYMENT_STATUS_JUL_5', 'REPAYMENT_STATUS_JUL_6', 'REPAYMENT_STATUS_JUL_7', 'REPAYMENT_STATUS_JUL_8', 'REPAYMENT_STATUS_JUN_-1', 'REPAYMENT_STATUS_JUN_-2', 'REPAYMENT_STATUS_JUN_0', 'REPAYMENT_STATUS_JUN_1', 'REPAYMENT_STATUS_JUN_2', 'REPAYMENT_STATUS_JUN_3', 'REPAYMENT_STATUS_JUN_4', 'REPAYMENT_STATUS_JUN_5', 'REPAYMENT_STATUS_JUN_6', 'REPAYMENT_STATUS_JUN_7', 'REPAYMENT_STATUS_JUN_8', 'REPAYMENT_STATUS_MAY_-1', 'REPAYMENT_STATUS_MAY_-2', 'REPAYMENT_STATUS_MAY_0', 'REPAYMENT_STATUS_MAY_2', 'REPAYMENT_STATUS_MAY_3', 'REPAYMENT_STATUS_MAY_4', 'REPAYMENT_STATUS_MAY_5', 'REPAYMENT_STATUS_MAY_6', 'REPAYMENT_STATUS_MAY_7', 'REPAYMENT_STATUS_MAY_8', 'REPAYMENT_STATUS_SEPT_-1', 'REPAYMENT_STATUS_SEPT_-2', 'REPAYMENT_STATUS_SEPT_0', 'REPAYMENT_STATUS_SEPT_1', 'REPAYMENT_STATUS_SEPT_2', 'REPAYMENT_STATUS_SEPT_3', 'REPAYMENT_STATUS_SEPT_4', 'REPAYMENT_STATUS_SEPT_5', 'REPAYMENT_STATUS_SEPT_6', 'REPAYMENT_STATUS_SEPT_7', 'REPAYMENT_STATUS_SEPT_8', 'SINGLE', 'UNIVERSITY']\nexpected f6, f57, f61, f37, f77, f9, f3, f59, f82, f70, f17, f85, f60, f68, f67, f66, f4, f34, f38, f5, f62, f15, f50, f42, f72, f78, f53, f86, f21, f2, f26, f76, f65, f63, f52, f56, f48, f27, f39, f81, f10, f18, f58, f74, f41, f46, f31, f69, f54, f45, f84, f83, f80, f23, f75, f35, f44, f47, f29, f40, f64, f55, f25, f19, f51, f16, f79, f71, f73, f1, f43, f13, f49, f11, f30, f24, f87, f20, f7, f28, f14, f32, f22, f0, f33, f36, f8, f12 in input data\ntraining data did not have the following fields: REPAYMENT_STATUS_AUG_4, REPAYMENT_STATUS_JUL_8, REPAYMENT_STATUS_MAY_2, REPAYMENT_STATUS_APR_0, HIGH_SCHOOL, REPAYMENT_STATUS_JUN_2, BILL_AMT_JUL, LIMIT_BAL, REPAYMENT_STATUS_JUN_6, REPAYMENT_STATUS_MAY_3, MARRIED, BILL_AMT_AUG, REPAYMENT_STATUS_JUN_1, PAY_AMT_SEPT, SINGLE, EDUCATION_OTHERS, UNIVERSITY, REPAYMENT_STATUS_SEPT_4, REPAYMENT_STATUS_APR_5, REPAYMENT_STATUS_JUN_5, REPAYMENT_STATUS_SEPT_7, AGE, REPAYMENT_STATUS_JUL_5, REPAYMENT_STATUS_JUL_7, REPAYMENT_STATUS_AUG_-2, REPAYMENT_STATUS_JUN_3, REPAYMENT_STATUS_SEPT_2, REPAYMENT_STATUS_APR_2, REPAYMENT_STATUS_APR_6, REPAYMENT_STATUS_JUL_1, REPAYMENT_STATUS_JUN_-1, PAY_AMT_JUN, REPAYMENT_STATUS_MAY_0, REPAYMENT_STATUS_SEPT_5, REPAYMENT_STATUS_APR_7, REPAYMENT_STATUS_AUG_0, REPAYMENT_STATUS_JUN_4, REPAYMENT_STATUS_MAY_5, REPAYMENT_STATUS_SEPT_0, REPAYMENT_STATUS_JUL_3, REPAYMENT_STATUS_MAY_8, REPAYMENT_STATUS_JUN_8, REPAYMENT_STATUS_MAY_7, BILL_AMT_APR, REPAYMENT_STATUS_AUG_3, REPAYMENT_STATUS_JUL_2, REPAYMENT_STATUS_APR_3, EDUCATION_UNKNOWN_2, REPAYMENT_STATUS_APR_8, REPAYMENT_STATUS_JUL_6, EDUCATION_UNKNOWN_1, GRADUATE_SCHOOL, REPAYMENT_STATUS_AUG_8, REPAYMENT_STATUS_MAY_-1, REPAYMENT_STATUS_APR_4, REPAYMENT_STATUS_AUG_1, REPAYMENT_STATUS_JUL_-1, REPAYMENT_STATUS_SEPT_3, PAY_AMT_AUG, REPAYMENT_STATUS_MAY_-2, PAY_AMT_JUL, REPAYMENT_STATUS_AUG_5, REPAYMENT_STATUS_MAY_4, FEMALE, REPAYMENT_STATUS_APR_-2, REPAYMENT_STATUS_AUG_6, BILL_AMT_SEPT, REPAYMENT_STATUS_JUN_-2, REPAYMENT_STATUS_AUG_-1, REPAYMENT_STATUS_SEPT_-1, REPAYMENT_STATUS_SEPT_6, PAY_AMT_APR, REPAYMENT_STATUS_JUL_4, REPAYMENT_STATUS_AUG_2, PAY_AMT_MAY, REPAYMENT_STATUS_JUN_7, REPAYMENT_STATUS_APR_-1, REPAYMENT_STATUS_JUL_-2, REPAYMENT_STATUS_SEPT_1, MARRIAGE_OTHERS, REPAYMENT_STATUS_JUN_0, REPAYMENT_STATUS_AUG_7, BILL_AMT_MAY, REPAYMENT_STATUS_SEPT_8, REPAYMENT_STATUS_JUL_0, REPAYMENT_STATUS_MAY_6, BILL_AMT_JUN, REPAYMENT_STATUS_SEPT_-2"
     ]
    }
   ],
   "source": [
    "best_sm_xgb = xgb.XGBRegressor(**sm_xgb_gs.best_params_)\n",
    "best_sm_xgb.fit(smote_sampled_X_train, smote_sampled_y_train)\n",
    "y_preds_best_sm_xgb = best_sm_xgb.predict(smote_sampled_X_test)\n",
    "all_scores(smote_sampled_y_test, y_preds_best_sm_xgb)"
   ]
  },
  {
   "cell_type": "markdown",
   "metadata": {},
   "source": [
    "f1...<br>\n",
    "f-1 score: 0.5077233042310276<br>\n",
    "recall: 0.5833333333333334<br>\n",
    "precision: 0.44946492271105826"
   ]
  },
  {
   "cell_type": "markdown",
   "metadata": {},
   "source": [
    "### SVM"
   ]
  },
  {
   "cell_type": "code",
   "execution_count": null,
   "metadata": {},
   "outputs": [],
   "source": [
    "# sm_svm = SVC()\n",
    "# param_grid = {\"C\": [0.1, 1, 10],\n",
    "#               \"kernel\": [\"linear\", \"rbf\"],\n",
    "#               \"class_weight\": [\"balanced\", None],\n",
    "#               \"random_state\": [42]}\n",
    "# sm_svm_gs = GridSearchCV(sm_svm, param_grid, cv=3, scoring=\"recall\", n_jobs=-1)\n",
    "# sm_svm_gs.fit(smote_sampled_X_train, smote_sampled_y_train);\n",
    "# sm_svm_gs.best_params_"
   ]
  },
  {
   "cell_type": "markdown",
   "metadata": {},
   "source": [
    "Evaluate the best SVM model:"
   ]
  },
  {
   "cell_type": "code",
   "execution_count": null,
   "metadata": {},
   "outputs": [],
   "source": [
    "# best_sm_svm = SVC(**sm_svm_gs.best_params_)\n",
    "# best_sm_svm.fit(smote_sampled_X_train, smote_sampled_y_train)\n",
    "# y_preds_best_sm_svm = best_sm_svm.predict(smote_sampled_X_test)\n",
    "# all_scores(smote_sampled_y_test, y_preds_best_sm_svm)"
   ]
  }
 ],
 "metadata": {
  "kernelspec": {
   "display_name": "Python 3",
   "language": "python",
   "name": "python3"
  },
  "language_info": {
   "codemirror_mode": {
    "name": "ipython",
    "version": 3
   },
   "file_extension": ".py",
   "mimetype": "text/x-python",
   "name": "python",
   "nbconvert_exporter": "python",
   "pygments_lexer": "ipython3",
   "version": "3.7.3"
  }
 },
 "nbformat": 4,
 "nbformat_minor": 2
}
