{
 "cells": [
  {
   "cell_type": "markdown",
   "metadata": {},
   "source": [
    "# Credit Card Default\n",
    "August 15, 2019<br>Ngoc, Modeling Transformed Data\n",
    "\n",
    "-----------------------------------------------------------------"
   ]
  },
  {
   "cell_type": "markdown",
   "metadata": {},
   "source": [
    "In this notebook, we will perform modeling for transformed data.\n",
    "\n",
    "----------------------------------------------"
   ]
  },
  {
   "cell_type": "markdown",
   "metadata": {},
   "source": [
    "# Import"
   ]
  },
  {
   "cell_type": "code",
   "execution_count": 1,
   "metadata": {},
   "outputs": [],
   "source": [
    "%matplotlib inline\n",
    "\n",
    "import os\n",
    "import warnings\n",
    "import numpy as np\n",
    "import pandas as pd\n",
    "import seaborn as sns\n",
    "import xgboost as xgb\n",
    "import matplotlib.pyplot as plt\n",
    "\n",
    "from pathlib import Path\n",
    "from sklearn.svm import SVC\n",
    "from datetime import datetime\n",
    "from imblearn.over_sampling import SMOTE\n",
    "from sklearn.tree import DecisionTreeClassifier\n",
    "from yellowbrick.classifier import ConfusionMatrix\n",
    "from sklearn.ensemble import RandomForestClassifier\n",
    "from sklearn.linear_model import LogisticRegression\n",
    "from sklearn.preprocessing import PowerTransformer, MinMaxScaler\n",
    "from sklearn.model_selection import train_test_split, GridSearchCV\n",
    "from sklearn.metrics import auc, f1_score, precision_score, recall_score, roc_curve, roc_auc_score\n",
    "\n",
    "sns.set_style(\"whitegrid\")\n",
    "warnings.filterwarnings(\"ignore\")"
   ]
  },
  {
   "cell_type": "markdown",
   "metadata": {},
   "source": [
    "Change directory to get data source code:"
   ]
  },
  {
   "cell_type": "code",
   "execution_count": 2,
   "metadata": {},
   "outputs": [],
   "source": [
    "main_path = os.getcwd()\n",
    "parent_path = Path(os.getcwd()).parent\n",
    "src_path = str(parent_path) + \"/src/directories\"\n",
    "os.chdir(src_path)"
   ]
  },
  {
   "cell_type": "markdown",
   "metadata": {},
   "source": [
    "More import:"
   ]
  },
  {
   "cell_type": "code",
   "execution_count": 3,
   "metadata": {},
   "outputs": [],
   "source": [
    "import change_directory"
   ]
  },
  {
   "cell_type": "markdown",
   "metadata": {},
   "source": [
    "Change back to notebook directory:"
   ]
  },
  {
   "cell_type": "code",
   "execution_count": 4,
   "metadata": {},
   "outputs": [],
   "source": [
    "os.chdir(main_path)"
   ]
  },
  {
   "cell_type": "markdown",
   "metadata": {},
   "source": [
    "Change directory to get helper functions:"
   ]
  },
  {
   "cell_type": "code",
   "execution_count": 5,
   "metadata": {},
   "outputs": [],
   "source": [
    "cd = change_directory.ChangeDirectory()"
   ]
  },
  {
   "cell_type": "code",
   "execution_count": 6,
   "metadata": {},
   "outputs": [],
   "source": [
    "cd.change_to_src_models_dir()"
   ]
  },
  {
   "cell_type": "markdown",
   "metadata": {},
   "source": [
    "More import:"
   ]
  },
  {
   "cell_type": "code",
   "execution_count": 7,
   "metadata": {},
   "outputs": [],
   "source": [
    "import evaluation_functions\n",
    "all_scores = evaluation_functions.all_scores\n",
    "scores_confusion_matrix = evaluation_functions.scores_confusion_matrix"
   ]
  },
  {
   "cell_type": "markdown",
   "metadata": {},
   "source": [
    "Change back to notebook directory:"
   ]
  },
  {
   "cell_type": "code",
   "execution_count": 8,
   "metadata": {},
   "outputs": [],
   "source": [
    "cd.change_to_notebook_dir()"
   ]
  },
  {
   "cell_type": "markdown",
   "metadata": {},
   "source": [
    "# ETL"
   ]
  },
  {
   "cell_type": "markdown",
   "metadata": {},
   "source": [
    "## Load data"
   ]
  },
  {
   "cell_type": "markdown",
   "metadata": {},
   "source": [
    "Change directory to get data:"
   ]
  },
  {
   "cell_type": "code",
   "execution_count": 9,
   "metadata": {},
   "outputs": [],
   "source": [
    "cd.change_to_data_dir()"
   ]
  },
  {
   "cell_type": "markdown",
   "metadata": {},
   "source": [
    "Load data:"
   ]
  },
  {
   "cell_type": "code",
   "execution_count": 10,
   "metadata": {},
   "outputs": [],
   "source": [
    "ccd_df = pd.read_csv(\"processed/transformed_credit_card_default.csv\")"
   ]
  },
  {
   "cell_type": "markdown",
   "metadata": {},
   "source": [
    "Change back to notebook directory:"
   ]
  },
  {
   "cell_type": "code",
   "execution_count": 11,
   "metadata": {},
   "outputs": [],
   "source": [
    "cd.change_to_notebook_dir()"
   ]
  },
  {
   "cell_type": "markdown",
   "metadata": {},
   "source": [
    "## Sample data\n",
    "Methods to tackle imbalance: over-sampling, under-sampling, and SMOTE."
   ]
  },
  {
   "cell_type": "code",
   "execution_count": 12,
   "metadata": {
    "scrolled": true
   },
   "outputs": [],
   "source": [
    "ccd_df.drop(\"Unnamed: 0\", axis=1, inplace=True)"
   ]
  },
  {
   "cell_type": "code",
   "execution_count": 13,
   "metadata": {},
   "outputs": [],
   "source": [
    "ccd_ns = ccd_df.copy()\n",
    "ccd_ou = ccd_df.copy()\n",
    "ccd_smote = ccd_df.copy()"
   ]
  },
  {
   "cell_type": "markdown",
   "metadata": {},
   "source": [
    "### Over-sampling"
   ]
  },
  {
   "cell_type": "code",
   "execution_count": 14,
   "metadata": {},
   "outputs": [],
   "source": [
    "default_samples = ccd_ou[ccd_ou.DEFAULT == 1]\n",
    "non_default_samples = ccd_ou[ccd_ou.DEFAULT == 0]"
   ]
  },
  {
   "cell_type": "code",
   "execution_count": 15,
   "metadata": {},
   "outputs": [],
   "source": [
    "default_samples_train, default_samples_test = train_test_split(default_samples,\n",
    "                                                               test_size=0.2,\n",
    "                                                               random_state=111)\n",
    "non_default_samples_train, non_default_samples_test = train_test_split(non_default_samples,\n",
    "                                                                       test_size=0.2,\n",
    "                                                                       random_state=111)"
   ]
  },
  {
   "cell_type": "code",
   "execution_count": 16,
   "metadata": {},
   "outputs": [],
   "source": [
    "np.random.seed(42)\n",
    "os_default_idx = np.random.choice(default_samples_train.index,\n",
    "                                  size=non_default_samples_train.shape[0], replace=True)\n",
    "os_default = default_samples_train.loc[os_default_idx, :]"
   ]
  },
  {
   "cell_type": "code",
   "execution_count": 17,
   "metadata": {},
   "outputs": [],
   "source": [
    "ccd_over_sampled_train = pd.concat([os_default, non_default_samples_train], axis=0)\n",
    "X_over_sampled_train = ccd_over_sampled_train.drop(\"DEFAULT\", axis=1)\n",
    "y_over_sampled_train = ccd_over_sampled_train.DEFAULT\n",
    "\n",
    "ccd_over_sampled_test = pd.concat([default_samples_test, non_default_samples_test], axis=0)\n",
    "X_over_sampled_test = ccd_over_sampled_test.drop(\"DEFAULT\", axis=1)\n",
    "y_over_sampled_test = ccd_over_sampled_test.DEFAULT"
   ]
  },
  {
   "cell_type": "markdown",
   "metadata": {},
   "source": [
    "### Under-sampling"
   ]
  },
  {
   "cell_type": "code",
   "execution_count": 18,
   "metadata": {},
   "outputs": [],
   "source": [
    "np.random.seed(42)\n",
    "us_non_default_idx = np.random.choice(non_default_samples.index, size=default_samples.shape[0], replace=False)\n",
    "us_non_default = non_default_samples.loc[us_non_default_idx, :]"
   ]
  },
  {
   "cell_type": "code",
   "execution_count": 19,
   "metadata": {},
   "outputs": [],
   "source": [
    "ccd_under_sampled = pd.concat([us_non_default, default_samples], axis=0)\n",
    "X_under_sampled = ccd_under_sampled.drop(\"DEFAULT\", axis=1)\n",
    "y_under_sampled = ccd_under_sampled.DEFAULT\n",
    "X_under_sampled_train, X_under_sampled_test, y_under_sampled_train, y_under_sampled_test = train_test_split(X_under_sampled, y_under_sampled, test_size=0.2, random_state=111)"
   ]
  },
  {
   "cell_type": "markdown",
   "metadata": {},
   "source": [
    "### SMOTE"
   ]
  },
  {
   "cell_type": "code",
   "execution_count": 20,
   "metadata": {},
   "outputs": [],
   "source": [
    "X_smote = ccd_smote.drop(\"DEFAULT\", axis=1)\n",
    "y_smote = ccd_smote.DEFAULT\n",
    "X_smote_train, X_smote_test, y_smote_train, y_smote_test = train_test_split(X_smote, y_smote,\n",
    "                                                                            test_size=0.2, random_state=111)\n",
    "sm = SMOTE(random_state=42)\n",
    "X_sm, y_sm = sm.fit_resample(X_smote_train, y_smote_train)"
   ]
  },
  {
   "cell_type": "markdown",
   "metadata": {},
   "source": [
    "## Data for modeling"
   ]
  },
  {
   "cell_type": "code",
   "execution_count": 21,
   "metadata": {},
   "outputs": [],
   "source": [
    "# non-sampled\n",
    "X_non_sampled = ccd_ns.drop(\"DEFAULT\", axis=1)\n",
    "y_non_sampled = ccd_ns.DEFAULT\n",
    "non_sampled_X_train, non_sampled_X_test, non_sampled_y_train, non_sampled_y_test = train_test_split(X_non_sampled,\n",
    "                                                                                                    y_non_sampled,\n",
    "                                                                                                    test_size=0.2,\n",
    "                                                                                                    random_state=111)"
   ]
  },
  {
   "cell_type": "code",
   "execution_count": 22,
   "metadata": {},
   "outputs": [],
   "source": [
    "# over-sampled\n",
    "over_sampled_X_train = X_over_sampled_train\n",
    "over_sampled_y_train = y_over_sampled_train\n",
    "over_sampled_X_test = X_over_sampled_test\n",
    "over_sampled_y_test = y_over_sampled_test"
   ]
  },
  {
   "cell_type": "code",
   "execution_count": 23,
   "metadata": {},
   "outputs": [],
   "source": [
    "# under-sampled\n",
    "under_sampled_X_train = X_under_sampled_train\n",
    "under_sampled_y_train = y_under_sampled_train\n",
    "under_sampled_X_test = X_under_sampled_test\n",
    "under_sampled_y_test = y_under_sampled_test"
   ]
  },
  {
   "cell_type": "code",
   "execution_count": 24,
   "metadata": {},
   "outputs": [],
   "source": [
    "# SMOTE\n",
    "smote_sampled_X_train = X_sm\n",
    "smote_sampled_y_train = y_sm\n",
    "smote_sampled_X_test = X_smote_test\n",
    "smote_sampled_y_test = y_smote_test"
   ]
  },
  {
   "cell_type": "markdown",
   "metadata": {},
   "source": [
    "# Model"
   ]
  },
  {
   "cell_type": "markdown",
   "metadata": {},
   "source": [
    "## Non-sampled"
   ]
  },
  {
   "cell_type": "markdown",
   "metadata": {},
   "source": [
    "### Logistic Regression"
   ]
  },
  {
   "cell_type": "code",
   "execution_count": 25,
   "metadata": {},
   "outputs": [
    {
     "data": {
      "text/plain": [
       "{'C': 10,\n",
       " 'class_weight': 'balanced',\n",
       " 'n_jobs': -1,\n",
       " 'penalty': 'l1',\n",
       " 'random_state': 42,\n",
       " 'solver': 'liblinear'}"
      ]
     },
     "execution_count": 25,
     "metadata": {},
     "output_type": "execute_result"
    }
   ],
   "source": [
    "ns_lr = LogisticRegression()\n",
    "param_grid = {\"penalty\": [\"l1\", \"l2\"],\n",
    "              \"C\": [0.01, 0.1, 1, 10],\n",
    "              \"class_weight\": [\"balanced\", None],\n",
    "              \"random_state\": [42],\n",
    "              \"solver\": [\"liblinear\"], \n",
    "              \"n_jobs\": [-1]}\n",
    "ns_lr_gs = GridSearchCV(ns_lr, param_grid, cv=3, scoring=\"recall\", n_jobs=-1)\n",
    "ns_lr_gs.fit(non_sampled_X_train, non_sampled_y_train);\n",
    "ns_lr_gs.best_params_"
   ]
  },
  {
   "cell_type": "markdown",
   "metadata": {},
   "source": [
    "Evaluate the best logistic model:"
   ]
  },
  {
   "cell_type": "code",
   "execution_count": 26,
   "metadata": {},
   "outputs": [
    {
     "name": "stdout",
     "output_type": "stream",
     "text": [
      "Training Scores:\n",
      "f-1 score: 0.5430930810550789\n",
      "recall: 0.6342696629213483\n",
      "precision:0.4748352726762933\n",
      "Test Scores:\n",
      "f-1 score: 0.5164319248826291\n",
      "recall: 0.5941358024691358\n",
      "precision:0.45670225385527874\n"
     ]
    },
    {
     "data": {
      "image/png": "[encoded data removed]",
      "text/plain": [
       "<Figure size 432x288 with 1 Axes>"
      ]
     },
     "metadata": {
      "needs_background": "light"
     },
     "output_type": "display_data"
    }
   ],
   "source": [
    "scores_confusion_matrix(ns_lr_gs, non_sampled_X_train, non_sampled_X_test,\n",
    "                        non_sampled_y_train, non_sampled_y_test)"
   ]
  },
  {
   "cell_type": "markdown",
   "metadata": {},
   "source": [
    "### Decision Tree"
   ]
  },
  {
   "cell_type": "code",
   "execution_count": 27,
   "metadata": {},
   "outputs": [
    {
     "data": {
      "text/plain": [
       "{'class_weight': 'balanced',\n",
       " 'criterion': 'entropy',\n",
       " 'max_depth': 10,\n",
       " 'max_features': 'sqrt',\n",
       " 'min_samples_leaf': 5,\n",
       " 'min_samples_split': 25,\n",
       " 'random_state': 42}"
      ]
     },
     "execution_count": 27,
     "metadata": {},
     "output_type": "execute_result"
    }
   ],
   "source": [
    "ns_dt = DecisionTreeClassifier()\n",
    "param_grid = {\"criterion\": [\"gini\", \"entropy\"],\n",
    "              \"max_depth\": [None, 8, 10],\n",
    "              \"min_samples_split\": [10, 25],\n",
    "              \"min_samples_leaf\": [1, 5],\n",
    "              \"max_features\": [None, \"sqrt\"],\n",
    "              \"class_weight\": [\"balanced\", None],\n",
    "              \"random_state\": [42]}\n",
    "ns_dt_gs = GridSearchCV(ns_dt, param_grid, cv=3, scoring=\"recall\", n_jobs=-1)\n",
    "ns_dt_gs.fit(non_sampled_X_train, non_sampled_y_train);\n",
    "ns_dt_gs.best_params_"
   ]
  },
  {
   "cell_type": "markdown",
   "metadata": {},
   "source": [
    "Evaluate the best decision tree model:"
   ]
  },
  {
   "cell_type": "code",
   "execution_count": 28,
   "metadata": {},
   "outputs": [
    {
     "name": "stdout",
     "output_type": "stream",
     "text": [
      "Training Scores:\n",
      "f-1 score: 0.5354296478771193\n",
      "recall: 0.6919475655430711\n",
      "precision:0.4366580004727015\n",
      "Test Scores:\n",
      "f-1 score: 0.48752969121140144\n",
      "recall: 0.6334876543209876\n",
      "precision:0.39623552123552125\n"
     ]
    },
    {
     "data": {
      "image/png": "[encoded data removed]",
      "text/plain": [
       "<Figure size 432x288 with 1 Axes>"
      ]
     },
     "metadata": {
      "needs_background": "light"
     },
     "output_type": "display_data"
    }
   ],
   "source": [
    "scores_confusion_matrix(ns_dt_gs, non_sampled_X_train, non_sampled_X_test,\n",
    "                        non_sampled_y_train, non_sampled_y_test)"
   ]
  },
  {
   "cell_type": "markdown",
   "metadata": {},
   "source": [
    "### Random Forest"
   ]
  },
  {
   "cell_type": "code",
   "execution_count": 29,
   "metadata": {},
   "outputs": [
    {
     "ename": "KeyboardInterrupt",
     "evalue": "",
     "output_type": "error",
     "traceback": [
      "\u001b[0;31m---------------------------------------------------------------------------\u001b[0m",
      "\u001b[0;31mKeyboardInterrupt\u001b[0m                         Traceback (most recent call last)",
      "\u001b[0;32m<ipython-input-29-e5be897f9e4d>\u001b[0m in \u001b[0;36m<module>\u001b[0;34m\u001b[0m\n\u001b[1;32m     10\u001b[0m               \"n_jobs\": [-1]}\n\u001b[1;32m     11\u001b[0m \u001b[0mns_rf_gs\u001b[0m \u001b[0;34m=\u001b[0m \u001b[0mGridSearchCV\u001b[0m\u001b[0;34m(\u001b[0m\u001b[0mns_rf\u001b[0m\u001b[0;34m,\u001b[0m \u001b[0mparam_grid\u001b[0m\u001b[0;34m,\u001b[0m \u001b[0mcv\u001b[0m\u001b[0;34m=\u001b[0m\u001b[0;36m3\u001b[0m\u001b[0;34m,\u001b[0m \u001b[0mscoring\u001b[0m\u001b[0;34m=\u001b[0m\u001b[0;34m\"recall\"\u001b[0m\u001b[0;34m,\u001b[0m \u001b[0mn_jobs\u001b[0m\u001b[0;34m=\u001b[0m\u001b[0;34m-\u001b[0m\u001b[0;36m1\u001b[0m\u001b[0;34m)\u001b[0m\u001b[0;34m\u001b[0m\u001b[0;34m\u001b[0m\u001b[0m\n\u001b[0;32m---> 12\u001b[0;31m \u001b[0mns_rf_gs\u001b[0m\u001b[0;34m.\u001b[0m\u001b[0mfit\u001b[0m\u001b[0;34m(\u001b[0m\u001b[0mnon_sampled_X_train\u001b[0m\u001b[0;34m,\u001b[0m \u001b[0mnon_sampled_y_train\u001b[0m\u001b[0;34m)\u001b[0m\u001b[0;34m;\u001b[0m\u001b[0;34m\u001b[0m\u001b[0;34m\u001b[0m\u001b[0m\n\u001b[0m\u001b[1;32m     13\u001b[0m \u001b[0mns_rf_gs\u001b[0m\u001b[0;34m.\u001b[0m\u001b[0mbest_params_\u001b[0m\u001b[0;34m\u001b[0m\u001b[0;34m\u001b[0m\u001b[0m\n",
      "\u001b[0;32m~/anaconda3/lib/python3.7/site-packages/sklearn/model_selection/_search.py\u001b[0m in \u001b[0;36mfit\u001b[0;34m(self, X, y, groups, **fit_params)\u001b[0m\n\u001b[1;32m    686\u001b[0m                 \u001b[0;32mreturn\u001b[0m \u001b[0mresults\u001b[0m\u001b[0;34m\u001b[0m\u001b[0;34m\u001b[0m\u001b[0m\n\u001b[1;32m    687\u001b[0m \u001b[0;34m\u001b[0m\u001b[0m\n\u001b[0;32m--> 688\u001b[0;31m             \u001b[0mself\u001b[0m\u001b[0;34m.\u001b[0m\u001b[0m_run_search\u001b[0m\u001b[0;34m(\u001b[0m\u001b[0mevaluate_candidates\u001b[0m\u001b[0;34m)\u001b[0m\u001b[0;34m\u001b[0m\u001b[0;34m\u001b[0m\u001b[0m\n\u001b[0m\u001b[1;32m    689\u001b[0m \u001b[0;34m\u001b[0m\u001b[0m\n\u001b[1;32m    690\u001b[0m         \u001b[0;31m# For multi-metric evaluation, store the best_index_, best_params_ and\u001b[0m\u001b[0;34m\u001b[0m\u001b[0;34m\u001b[0m\u001b[0;34m\u001b[0m\u001b[0m\n",
      "\u001b[0;32m~/anaconda3/lib/python3.7/site-packages/sklearn/model_selection/_search.py\u001b[0m in \u001b[0;36m_run_search\u001b[0;34m(self, evaluate_candidates)\u001b[0m\n\u001b[1;32m   1147\u001b[0m     \u001b[0;32mdef\u001b[0m \u001b[0m_run_search\u001b[0m\u001b[0;34m(\u001b[0m\u001b[0mself\u001b[0m\u001b[0;34m,\u001b[0m \u001b[0mevaluate_candidates\u001b[0m\u001b[0;34m)\u001b[0m\u001b[0;34m:\u001b[0m\u001b[0;34m\u001b[0m\u001b[0;34m\u001b[0m\u001b[0m\n\u001b[1;32m   1148\u001b[0m         \u001b[0;34m\"\"\"Search all candidates in param_grid\"\"\"\u001b[0m\u001b[0;34m\u001b[0m\u001b[0;34m\u001b[0m\u001b[0m\n\u001b[0;32m-> 1149\u001b[0;31m         \u001b[0mevaluate_candidates\u001b[0m\u001b[0;34m(\u001b[0m\u001b[0mParameterGrid\u001b[0m\u001b[0;34m(\u001b[0m\u001b[0mself\u001b[0m\u001b[0;34m.\u001b[0m\u001b[0mparam_grid\u001b[0m\u001b[0;34m)\u001b[0m\u001b[0;34m)\u001b[0m\u001b[0;34m\u001b[0m\u001b[0;34m\u001b[0m\u001b[0m\n\u001b[0m\u001b[1;32m   1150\u001b[0m \u001b[0;34m\u001b[0m\u001b[0m\n\u001b[1;32m   1151\u001b[0m \u001b[0;34m\u001b[0m\u001b[0m\n",
      "\u001b[0;32m~/anaconda3/lib/python3.7/site-packages/sklearn/model_selection/_search.py\u001b[0m in \u001b[0;36mevaluate_candidates\u001b[0;34m(candidate_params)\u001b[0m\n\u001b[1;32m    665\u001b[0m                                \u001b[0;32mfor\u001b[0m \u001b[0mparameters\u001b[0m\u001b[0;34m,\u001b[0m \u001b[0;34m(\u001b[0m\u001b[0mtrain\u001b[0m\u001b[0;34m,\u001b[0m \u001b[0mtest\u001b[0m\u001b[0;34m)\u001b[0m\u001b[0;34m\u001b[0m\u001b[0;34m\u001b[0m\u001b[0m\n\u001b[1;32m    666\u001b[0m                                in product(candidate_params,\n\u001b[0;32m--> 667\u001b[0;31m                                           cv.split(X, y, groups)))\n\u001b[0m\u001b[1;32m    668\u001b[0m \u001b[0;34m\u001b[0m\u001b[0m\n\u001b[1;32m    669\u001b[0m                 \u001b[0;32mif\u001b[0m \u001b[0mlen\u001b[0m\u001b[0;34m(\u001b[0m\u001b[0mout\u001b[0m\u001b[0;34m)\u001b[0m \u001b[0;34m<\u001b[0m \u001b[0;36m1\u001b[0m\u001b[0;34m:\u001b[0m\u001b[0;34m\u001b[0m\u001b[0;34m\u001b[0m\u001b[0m\n",
      "\u001b[0;32m~/anaconda3/lib/python3.7/site-packages/joblib/parallel.py\u001b[0m in \u001b[0;36m__call__\u001b[0;34m(self, iterable)\u001b[0m\n\u001b[1;32m    932\u001b[0m \u001b[0;34m\u001b[0m\u001b[0m\n\u001b[1;32m    933\u001b[0m             \u001b[0;32mwith\u001b[0m \u001b[0mself\u001b[0m\u001b[0;34m.\u001b[0m\u001b[0m_backend\u001b[0m\u001b[0;34m.\u001b[0m\u001b[0mretrieval_context\u001b[0m\u001b[0;34m(\u001b[0m\u001b[0;34m)\u001b[0m\u001b[0;34m:\u001b[0m\u001b[0;34m\u001b[0m\u001b[0;34m\u001b[0m\u001b[0m\n\u001b[0;32m--> 934\u001b[0;31m                 \u001b[0mself\u001b[0m\u001b[0;34m.\u001b[0m\u001b[0mretrieve\u001b[0m\u001b[0;34m(\u001b[0m\u001b[0;34m)\u001b[0m\u001b[0;34m\u001b[0m\u001b[0;34m\u001b[0m\u001b[0m\n\u001b[0m\u001b[1;32m    935\u001b[0m             \u001b[0;31m# Make sure that we get a last message telling us we are done\u001b[0m\u001b[0;34m\u001b[0m\u001b[0;34m\u001b[0m\u001b[0;34m\u001b[0m\u001b[0m\n\u001b[1;32m    936\u001b[0m             \u001b[0melapsed_time\u001b[0m \u001b[0;34m=\u001b[0m \u001b[0mtime\u001b[0m\u001b[0;34m.\u001b[0m\u001b[0mtime\u001b[0m\u001b[0;34m(\u001b[0m\u001b[0;34m)\u001b[0m \u001b[0;34m-\u001b[0m \u001b[0mself\u001b[0m\u001b[0;34m.\u001b[0m\u001b[0m_start_time\u001b[0m\u001b[0;34m\u001b[0m\u001b[0;34m\u001b[0m\u001b[0m\n",
      "\u001b[0;32m~/anaconda3/lib/python3.7/site-packages/joblib/parallel.py\u001b[0m in \u001b[0;36mretrieve\u001b[0;34m(self)\u001b[0m\n\u001b[1;32m    831\u001b[0m             \u001b[0;32mtry\u001b[0m\u001b[0;34m:\u001b[0m\u001b[0;34m\u001b[0m\u001b[0;34m\u001b[0m\u001b[0m\n\u001b[1;32m    832\u001b[0m                 \u001b[0;32mif\u001b[0m \u001b[0mgetattr\u001b[0m\u001b[0;34m(\u001b[0m\u001b[0mself\u001b[0m\u001b[0;34m.\u001b[0m\u001b[0m_backend\u001b[0m\u001b[0;34m,\u001b[0m \u001b[0;34m'supports_timeout'\u001b[0m\u001b[0;34m,\u001b[0m \u001b[0;32mFalse\u001b[0m\u001b[0;34m)\u001b[0m\u001b[0;34m:\u001b[0m\u001b[0;34m\u001b[0m\u001b[0;34m\u001b[0m\u001b[0m\n\u001b[0;32m--> 833\u001b[0;31m                     \u001b[0mself\u001b[0m\u001b[0;34m.\u001b[0m\u001b[0m_output\u001b[0m\u001b[0;34m.\u001b[0m\u001b[0mextend\u001b[0m\u001b[0;34m(\u001b[0m\u001b[0mjob\u001b[0m\u001b[0;34m.\u001b[0m\u001b[0mget\u001b[0m\u001b[0;34m(\u001b[0m\u001b[0mtimeout\u001b[0m\u001b[0;34m=\u001b[0m\u001b[0mself\u001b[0m\u001b[0;34m.\u001b[0m\u001b[0mtimeout\u001b[0m\u001b[0;34m)\u001b[0m\u001b[0;34m)\u001b[0m\u001b[0;34m\u001b[0m\u001b[0;34m\u001b[0m\u001b[0m\n\u001b[0m\u001b[1;32m    834\u001b[0m                 \u001b[0;32melse\u001b[0m\u001b[0;34m:\u001b[0m\u001b[0;34m\u001b[0m\u001b[0;34m\u001b[0m\u001b[0m\n\u001b[1;32m    835\u001b[0m                     \u001b[0mself\u001b[0m\u001b[0;34m.\u001b[0m\u001b[0m_output\u001b[0m\u001b[0;34m.\u001b[0m\u001b[0mextend\u001b[0m\u001b[0;34m(\u001b[0m\u001b[0mjob\u001b[0m\u001b[0;34m.\u001b[0m\u001b[0mget\u001b[0m\u001b[0;34m(\u001b[0m\u001b[0;34m)\u001b[0m\u001b[0;34m)\u001b[0m\u001b[0;34m\u001b[0m\u001b[0;34m\u001b[0m\u001b[0m\n",
      "\u001b[0;32m~/anaconda3/lib/python3.7/site-packages/joblib/_parallel_backends.py\u001b[0m in \u001b[0;36mwrap_future_result\u001b[0;34m(future, timeout)\u001b[0m\n\u001b[1;32m    519\u001b[0m         AsyncResults.get from multiprocessing.\"\"\"\n\u001b[1;32m    520\u001b[0m         \u001b[0;32mtry\u001b[0m\u001b[0;34m:\u001b[0m\u001b[0;34m\u001b[0m\u001b[0;34m\u001b[0m\u001b[0m\n\u001b[0;32m--> 521\u001b[0;31m             \u001b[0;32mreturn\u001b[0m \u001b[0mfuture\u001b[0m\u001b[0;34m.\u001b[0m\u001b[0mresult\u001b[0m\u001b[0;34m(\u001b[0m\u001b[0mtimeout\u001b[0m\u001b[0;34m=\u001b[0m\u001b[0mtimeout\u001b[0m\u001b[0;34m)\u001b[0m\u001b[0;34m\u001b[0m\u001b[0;34m\u001b[0m\u001b[0m\n\u001b[0m\u001b[1;32m    522\u001b[0m         \u001b[0;32mexcept\u001b[0m \u001b[0mLokyTimeoutError\u001b[0m\u001b[0;34m:\u001b[0m\u001b[0;34m\u001b[0m\u001b[0;34m\u001b[0m\u001b[0m\n\u001b[1;32m    523\u001b[0m             \u001b[0;32mraise\u001b[0m \u001b[0mTimeoutError\u001b[0m\u001b[0;34m(\u001b[0m\u001b[0;34m)\u001b[0m\u001b[0;34m\u001b[0m\u001b[0;34m\u001b[0m\u001b[0m\n",
      "\u001b[0;32m~/anaconda3/lib/python3.7/concurrent/futures/_base.py\u001b[0m in \u001b[0;36mresult\u001b[0;34m(self, timeout)\u001b[0m\n\u001b[1;32m    425\u001b[0m                 \u001b[0;32mreturn\u001b[0m \u001b[0mself\u001b[0m\u001b[0;34m.\u001b[0m\u001b[0m__get_result\u001b[0m\u001b[0;34m(\u001b[0m\u001b[0;34m)\u001b[0m\u001b[0;34m\u001b[0m\u001b[0;34m\u001b[0m\u001b[0m\n\u001b[1;32m    426\u001b[0m \u001b[0;34m\u001b[0m\u001b[0m\n\u001b[0;32m--> 427\u001b[0;31m             \u001b[0mself\u001b[0m\u001b[0;34m.\u001b[0m\u001b[0m_condition\u001b[0m\u001b[0;34m.\u001b[0m\u001b[0mwait\u001b[0m\u001b[0;34m(\u001b[0m\u001b[0mtimeout\u001b[0m\u001b[0;34m)\u001b[0m\u001b[0;34m\u001b[0m\u001b[0;34m\u001b[0m\u001b[0m\n\u001b[0m\u001b[1;32m    428\u001b[0m \u001b[0;34m\u001b[0m\u001b[0m\n\u001b[1;32m    429\u001b[0m             \u001b[0;32mif\u001b[0m \u001b[0mself\u001b[0m\u001b[0;34m.\u001b[0m\u001b[0m_state\u001b[0m \u001b[0;32min\u001b[0m \u001b[0;34m[\u001b[0m\u001b[0mCANCELLED\u001b[0m\u001b[0;34m,\u001b[0m \u001b[0mCANCELLED_AND_NOTIFIED\u001b[0m\u001b[0;34m]\u001b[0m\u001b[0;34m:\u001b[0m\u001b[0;34m\u001b[0m\u001b[0;34m\u001b[0m\u001b[0m\n",
      "\u001b[0;32m~/anaconda3/lib/python3.7/threading.py\u001b[0m in \u001b[0;36mwait\u001b[0;34m(self, timeout)\u001b[0m\n\u001b[1;32m    294\u001b[0m         \u001b[0;32mtry\u001b[0m\u001b[0;34m:\u001b[0m    \u001b[0;31m# restore state no matter what (e.g., KeyboardInterrupt)\u001b[0m\u001b[0;34m\u001b[0m\u001b[0;34m\u001b[0m\u001b[0m\n\u001b[1;32m    295\u001b[0m             \u001b[0;32mif\u001b[0m \u001b[0mtimeout\u001b[0m \u001b[0;32mis\u001b[0m \u001b[0;32mNone\u001b[0m\u001b[0;34m:\u001b[0m\u001b[0;34m\u001b[0m\u001b[0;34m\u001b[0m\u001b[0m\n\u001b[0;32m--> 296\u001b[0;31m                 \u001b[0mwaiter\u001b[0m\u001b[0;34m.\u001b[0m\u001b[0macquire\u001b[0m\u001b[0;34m(\u001b[0m\u001b[0;34m)\u001b[0m\u001b[0;34m\u001b[0m\u001b[0;34m\u001b[0m\u001b[0m\n\u001b[0m\u001b[1;32m    297\u001b[0m                 \u001b[0mgotit\u001b[0m \u001b[0;34m=\u001b[0m \u001b[0;32mTrue\u001b[0m\u001b[0;34m\u001b[0m\u001b[0;34m\u001b[0m\u001b[0m\n\u001b[1;32m    298\u001b[0m             \u001b[0;32melse\u001b[0m\u001b[0;34m:\u001b[0m\u001b[0;34m\u001b[0m\u001b[0;34m\u001b[0m\u001b[0m\n",
      "\u001b[0;31mKeyboardInterrupt\u001b[0m: "
     ]
    }
   ],
   "source": [
    "ns_rf = RandomForestClassifier()\n",
    "param_grid = {\"n_estimators\": [50, 100, 200],\n",
    "              \"criterion\": [\"gini\", \"entropy\"],\n",
    "              \"max_depth\": [None, 8, 10],\n",
    "              \"min_samples_split\": [10, 25],\n",
    "              \"min_samples_leaf\": [1, 5],\n",
    "              \"max_features\": [None, \"sqrt\"],\n",
    "              \"class_weight\": [\"balanced\", None],\n",
    "              \"random_state\": [42],\n",
    "              \"n_jobs\": [-1]}\n",
    "ns_rf_gs = GridSearchCV(ns_rf, param_grid, cv=3, scoring=\"recall\", n_jobs=-1)\n",
    "ns_rf_gs.fit(non_sampled_X_train, non_sampled_y_train);\n",
    "ns_rf_gs.best_params_"
   ]
  },
  {
   "cell_type": "markdown",
   "metadata": {},
   "source": [
    "Evaluate the best random forest model:"
   ]
  },
  {
   "cell_type": "code",
   "execution_count": null,
   "metadata": {},
   "outputs": [],
   "source": [
    "scores_confusion_matrix(ns_rf_gs, non_sampled_X_train, non_sampled_X_test,\n",
    "                        non_sampled_y_train, non_sampled_y_test)"
   ]
  },
  {
   "cell_type": "markdown",
   "metadata": {},
   "source": [
    "### XGBoost"
   ]
  },
  {
   "cell_type": "code",
   "execution_count": null,
   "metadata": {},
   "outputs": [],
   "source": [
    "ns_xgb = xgb.XGBRegressor()\n",
    "param_grid = {\"max_depth\": [5, 8, 10],\n",
    "              \"learning_rate\": [0.01, 0.1, 1, 10, 100],\n",
    "              \"objective\": [\"binary:hinge\"],\n",
    "              \"n_estimators\": [10, 50, 100, 150],\n",
    "              \"n_jobs\": [-1],\n",
    "              \"random_state\": [42]}\n",
    "ns_xgb_gs = GridSearchCV(ns_xgb, param_grid, cv=3, scoring=\"recall\", n_jobs=-1)\n",
    "ns_xgb_gs.fit(non_sampled_X_train, non_sampled_y_train);\n",
    "ns_xgb_gs.best_params_"
   ]
  },
  {
   "cell_type": "markdown",
   "metadata": {},
   "source": [
    "Evaluate the best XGBoost model:"
   ]
  },
  {
   "cell_type": "code",
   "execution_count": null,
   "metadata": {},
   "outputs": [],
   "source": [
    "best_ns_xgb = xgb.XGBRegressor(**ns_xgb_gs.best_params_)\n",
    "best_ns_xgb.fit(non_sampled_X_train, non_sampled_y_train)\n",
    "y_preds_best_ns_xgb = best_ns_xgb.predict(non_sampled_X_test)\n",
    "evaluation_functions.all_scores(non_sampled_y_test, y_preds_best_ns_xgb)"
   ]
  },
  {
   "cell_type": "markdown",
   "metadata": {},
   "source": [
    "### SVM"
   ]
  },
  {
   "cell_type": "code",
   "execution_count": null,
   "metadata": {},
   "outputs": [],
   "source": [
    "# ns_svm = SVC()\n",
    "# param_grid = {\"C\": [0.1, 1, 10],\n",
    "#               \"kernel\": [\"linear\", \"rbf\"],\n",
    "#               \"class_weight\": [\"balanced\", None],\n",
    "#               \"random_state\": [42]}\n",
    "# ns_svm_gs = GridSearchCV(ns_svm, param_grid, cv=3, scoring=\"recall\", n_jobs=-1)\n",
    "# ns_svm_gs.fit(non_sampled_X_train, non_sampled_y_train);\n",
    "# ns_svm_gs.best_params_"
   ]
  },
  {
   "cell_type": "markdown",
   "metadata": {},
   "source": [
    "Evaluate the best SVM model:"
   ]
  },
  {
   "cell_type": "code",
   "execution_count": null,
   "metadata": {},
   "outputs": [],
   "source": [
    "# best_ns_svm = SVC(**ns_svm_gs.best_params_)\n",
    "# best_ns_svm.fit(non_sampled_X_train, non_sampled_y_train)\n",
    "# y_preds_best_ns_svm = best_ns_svm.predict(non_sampled_X_test)\n",
    "# all_scores(non_sampled_y_test, y_preds_best_ns_svm)"
   ]
  },
  {
   "cell_type": "markdown",
   "metadata": {},
   "source": [
    "## Over-sampled"
   ]
  },
  {
   "cell_type": "markdown",
   "metadata": {},
   "source": [
    "### Logistic Regression"
   ]
  },
  {
   "cell_type": "code",
   "execution_count": null,
   "metadata": {},
   "outputs": [],
   "source": [
    "os_lr = LogisticRegression()\n",
    "param_grid = {\"penalty\": [\"l1\", \"l2\"],\n",
    "              \"C\": [0.01, 0.1, 1, 10],\n",
    "              \"class_weight\": [\"balanced\", None],\n",
    "              \"random_state\": [42],\n",
    "              \"solver\": [\"liblinear\"], \n",
    "              \"n_jobs\": [-1]}\n",
    "os_lr_gs = GridSearchCV(os_lr, param_grid, cv=3, scoring=\"recall\", n_jobs=-1)\n",
    "os_lr_gs.fit(over_sampled_X_train, over_sampled_y_train);\n",
    "os_lr_gs.best_params_"
   ]
  },
  {
   "cell_type": "markdown",
   "metadata": {},
   "source": [
    "Evaluate the best logistic model:"
   ]
  },
  {
   "cell_type": "code",
   "execution_count": null,
   "metadata": {},
   "outputs": [],
   "source": [
    "scores_confusion_matrix(os_lr_gs, over_sampled_X_train, over_sampled_X_test,\n",
    "                        over_sampled_y_train, over_sampled_y_test)"
   ]
  },
  {
   "cell_type": "markdown",
   "metadata": {},
   "source": [
    "### Decision Tree"
   ]
  },
  {
   "cell_type": "code",
   "execution_count": null,
   "metadata": {},
   "outputs": [],
   "source": [
    "os_dt = DecisionTreeClassifier()\n",
    "param_grid = {\"criterion\": [\"gini\", \"entropy\"],\n",
    "              \"max_depth\": [None, 8, 10],\n",
    "              \"min_samples_split\": [10, 25],\n",
    "              \"min_samples_leaf\": [1, 5],\n",
    "              \"max_features\": [None, \"sqrt\"],\n",
    "              \"class_weight\": [\"balanced\", None],\n",
    "              \"random_state\": [42]}\n",
    "os_dt_gs = GridSearchCV(os_dt, param_grid, cv=3, scoring=\"recall\", n_jobs=-1)\n",
    "os_dt_gs.fit(over_sampled_X_train, over_sampled_y_train);\n",
    "os_dt_gs.best_params_"
   ]
  },
  {
   "cell_type": "markdown",
   "metadata": {},
   "source": [
    "Evaluate the best decision tree model:"
   ]
  },
  {
   "cell_type": "code",
   "execution_count": null,
   "metadata": {},
   "outputs": [],
   "source": [
    "scores_confusion_matrix(os_dt_gs, over_sampled_X_train, over_sampled_X_test,\n",
    "                        over_sampled_y_train, over_sampled_y_test)"
   ]
  },
  {
   "cell_type": "markdown",
   "metadata": {},
   "source": [
    "### Random Forest"
   ]
  },
  {
   "cell_type": "code",
   "execution_count": null,
   "metadata": {},
   "outputs": [],
   "source": [
    "os_rf = RandomForestClassifier()\n",
    "param_grid = {\"n_estimators\": [50, 100, 200],\n",
    "              \"criterion\": [\"gini\", \"entropy\"],\n",
    "              \"max_depth\": [None, 8, 10],\n",
    "              \"min_samples_split\": [10, 25],\n",
    "              \"min_samples_leaf\": [1, 5],\n",
    "              \"max_features\": [None, \"sqrt\"],\n",
    "              \"class_weight\": [\"balanced\", None],\n",
    "              \"random_state\": [42],\n",
    "              \"n_jobs\": [-1]}\n",
    "os_rf_gs = GridSearchCV(os_rf, param_grid, cv=3, scoring=\"recall\", n_jobs=-1)\n",
    "os_rf_gs.fit(over_sampled_X_train, over_sampled_y_train);\n",
    "os_rf_gs.best_params_"
   ]
  },
  {
   "cell_type": "markdown",
   "metadata": {},
   "source": [
    "Evaluate the best random forest model:"
   ]
  },
  {
   "cell_type": "code",
   "execution_count": null,
   "metadata": {},
   "outputs": [],
   "source": [
    "scores_confusion_matrix(os_rf_gs, over_sampled_X_train, over_sampled_X_test,\n",
    "                        over_sampled_y_train, over_sampled_y_test)"
   ]
  },
  {
   "cell_type": "markdown",
   "metadata": {},
   "source": [
    "### XGBoost"
   ]
  },
  {
   "cell_type": "code",
   "execution_count": null,
   "metadata": {},
   "outputs": [],
   "source": [
    "os_xgb = xgb.XGBRegressor()\n",
    "param_grid = {\"max_depth\": [5, 8, 10],\n",
    "              \"learning_rate\": [0.01, 0.1, 1, 10, 100],\n",
    "              \"objective\": [\"binary:hinge\"],\n",
    "              \"n_estimators\": [10, 50, 100, 150],\n",
    "              \"n_jobs\": [-1],\n",
    "              \"random_state\": [42]}\n",
    "os_xgb_gs = GridSearchCV(os_xgb, param_grid, cv=3, scoring=\"recall\", n_jobs=-1)\n",
    "os_xgb_gs.fit(over_sampled_X_train, over_sampled_y_train);\n",
    "os_xgb_gs.best_params_"
   ]
  },
  {
   "cell_type": "markdown",
   "metadata": {},
   "source": [
    "Evaluate the best XGBoost model:"
   ]
  },
  {
   "cell_type": "code",
   "execution_count": null,
   "metadata": {},
   "outputs": [],
   "source": [
    "best_os_xgb = xgb.XGBRegressor(**os_xgb_gs.best_params_)\n",
    "best_os_xgb.fit(over_sampled_X_train, over_sampled_y_train)\n",
    "y_preds_best_os_xgb = best_os_xgb.predict(over_sampled_X_test)\n",
    "all_scores(over_sampled_y_test, y_preds_best_os_xgb)"
   ]
  },
  {
   "cell_type": "markdown",
   "metadata": {},
   "source": [
    "### SVM"
   ]
  },
  {
   "cell_type": "code",
   "execution_count": null,
   "metadata": {},
   "outputs": [],
   "source": [
    "# os_svm = SVC()\n",
    "# param_grid = {\"C\": [0.1, 1, 10],\n",
    "#               \"kernel\": [\"linear\", \"rbf\"],\n",
    "#               \"class_weight\": [\"balanced\", None],\n",
    "#               \"random_state\": [42]}\n",
    "# os_svm_gs = GridSearchCV(os_svm, param_grid, cv=3, scoring=\"recall\", n_jobs=-1)\n",
    "# os_svm_gs.fit(over_sampled_X_train, over_sampled_y_train);\n",
    "# os_svm_gs.best_params_"
   ]
  },
  {
   "cell_type": "markdown",
   "metadata": {},
   "source": [
    "Evaluate the best SVM model:"
   ]
  },
  {
   "cell_type": "code",
   "execution_count": null,
   "metadata": {},
   "outputs": [],
   "source": [
    "# best_os_svm = SVC(**os_svm_gs.best_params_)\n",
    "# best_os_svm.fit(over_sampled_X_train, over_sampled_y_train)\n",
    "# y_preds_best_os_svm = best_os_svm.predict(over_sampled_X_test)\n",
    "# all_scores(over_sampled_y_test, y_preds_best_os_svm)"
   ]
  },
  {
   "cell_type": "markdown",
   "metadata": {},
   "source": [
    "## Under-sampled"
   ]
  },
  {
   "cell_type": "markdown",
   "metadata": {},
   "source": [
    "### Logistic Regression"
   ]
  },
  {
   "cell_type": "code",
   "execution_count": null,
   "metadata": {},
   "outputs": [],
   "source": [
    "us_lr = LogisticRegression()\n",
    "param_grid = {\"penalty\": [\"l1\", \"l2\"],\n",
    "              \"C\": [0.01, 0.1, 1, 10],\n",
    "              \"class_weight\": [\"balanced\", None],\n",
    "              \"random_state\": [42],\n",
    "              \"solver\": [\"liblinear\"], \n",
    "              \"n_jobs\": [-1]}\n",
    "us_lr_gs = GridSearchCV(us_lr, param_grid, cv=3, scoring=\"recall\", n_jobs=-1)\n",
    "us_lr_gs.fit(under_sampled_X_train, under_sampled_y_train);\n",
    "us_lr_gs.best_params_"
   ]
  },
  {
   "cell_type": "markdown",
   "metadata": {},
   "source": [
    "Evaluate the best logistic model:"
   ]
  },
  {
   "cell_type": "code",
   "execution_count": null,
   "metadata": {},
   "outputs": [],
   "source": [
    "scores_confusion_matrix(us_lr_gs, under_sampled_X_train, under_sampled_X_test,\n",
    "                        under_sampled_y_train, under_sampled_y_test)"
   ]
  },
  {
   "cell_type": "markdown",
   "metadata": {},
   "source": [
    "### Decision Tree"
   ]
  },
  {
   "cell_type": "code",
   "execution_count": null,
   "metadata": {},
   "outputs": [],
   "source": [
    "us_dt = DecisionTreeClassifier()\n",
    "param_grid = {\"criterion\": [\"gini\", \"entropy\"],\n",
    "              \"max_depth\": [None, 8, 10],\n",
    "              \"min_samples_split\": [10, 25],\n",
    "              \"min_samples_leaf\": [1, 5],\n",
    "              \"max_features\": [None, \"sqrt\"],\n",
    "              \"class_weight\": [\"balanced\", None],\n",
    "              \"random_state\": [42]}\n",
    "us_dt_gs = GridSearchCV(us_dt, param_grid, cv=3, scoring=\"recall\", n_jobs=-1)\n",
    "us_dt_gs.fit(under_sampled_X_train, under_sampled_y_train);\n",
    "us_dt_gs.best_params_"
   ]
  },
  {
   "cell_type": "markdown",
   "metadata": {},
   "source": [
    "Evaluate the best decision tree model:"
   ]
  },
  {
   "cell_type": "code",
   "execution_count": null,
   "metadata": {},
   "outputs": [],
   "source": [
    "scores_confusion_matrix(us_dt_gs, under_sampled_X_train, under_sampled_X_test,\n",
    "                        under_sampled_y_train, under_sampled_y_test)"
   ]
  },
  {
   "cell_type": "markdown",
   "metadata": {},
   "source": [
    "### Random Forest"
   ]
  },
  {
   "cell_type": "code",
   "execution_count": null,
   "metadata": {},
   "outputs": [],
   "source": [
    "us_rf = RandomForestClassifier()\n",
    "param_grid = {\"n_estimators\": [50, 100, 200],\n",
    "              \"criterion\": [\"gini\", \"entropy\"],\n",
    "              \"max_depth\": [None, 8, 10],\n",
    "              \"min_samples_split\": [10, 25],\n",
    "              \"min_samples_leaf\": [1, 5],\n",
    "              \"max_features\": [None, \"sqrt\"],\n",
    "              \"class_weight\": [\"balanced\", None],\n",
    "              \"random_state\": [42],\n",
    "              \"n_jobs\": [-1]}\n",
    "us_rf_gs = GridSearchCV(us_rf, param_grid, cv=3, scoring=\"recall\", n_jobs=-1)\n",
    "us_rf_gs.fit(under_sampled_X_train, under_sampled_y_train);\n",
    "us_rf_gs.best_params_"
   ]
  },
  {
   "cell_type": "markdown",
   "metadata": {},
   "source": [
    "Evaluate the best random forest model:"
   ]
  },
  {
   "cell_type": "code",
   "execution_count": null,
   "metadata": {},
   "outputs": [],
   "source": [
    "scores_confusion_matrix(us_rf_gs, under_sampled_X_train, under_sampled_X_test,\n",
    "                        under_sampled_y_train, under_sampled_y_test)"
   ]
  },
  {
   "cell_type": "markdown",
   "metadata": {},
   "source": [
    "### XGBoost"
   ]
  },
  {
   "cell_type": "code",
   "execution_count": null,
   "metadata": {},
   "outputs": [],
   "source": [
    "us_xgb = xgb.XGBRegressor()\n",
    "param_grid = {\"max_depth\": [5, 8, 10],\n",
    "              \"learning_rate\": [0.01, 0.1, 1, 10, 100],\n",
    "              \"objective\": [\"binary:hinge\"],\n",
    "              \"n_estimators\": [10, 50, 100, 150],\n",
    "              \"n_jobs\": [-1],\n",
    "              \"random_state\": [42]}\n",
    "us_xgb_gs = GridSearchCV(us_xgb, param_grid, cv=3, scoring=\"recall\", n_jobs=-1)\n",
    "us_xgb_gs.fit(under_sampled_X_train, under_sampled_y_train);\n",
    "us_xgb_gs.best_params_"
   ]
  },
  {
   "cell_type": "markdown",
   "metadata": {},
   "source": [
    "Evaluate the best XGBoost model:"
   ]
  },
  {
   "cell_type": "code",
   "execution_count": null,
   "metadata": {},
   "outputs": [],
   "source": [
    "best_us_xgb = xgb.XGBRegressor(**us_xgb_gs.best_params_)\n",
    "best_us_xgb.fit(under_sampled_X_train, under_sampled_y_train)\n",
    "y_preds_best_us_xgb = best_us_xgb.predict(under_sampled_X_test)\n",
    "all_scores(under_sampled_y_test, y_preds_best_us_xgb)"
   ]
  },
  {
   "cell_type": "markdown",
   "metadata": {},
   "source": [
    "### SVM"
   ]
  },
  {
   "cell_type": "code",
   "execution_count": null,
   "metadata": {},
   "outputs": [],
   "source": [
    "# us_svm = SVC()\n",
    "# param_grid = {\"C\": [0.1, 1, 10],\n",
    "#               \"kernel\": [\"linear\", \"rbf\"],\n",
    "#               \"class_weight\": [\"balanced\", None],\n",
    "#               \"random_state\": [42]}\n",
    "# us_svm_gs = GridSearchCV(us_svm, param_grid, cv=3, scoring=\"recall\", n_jobs=-1)\n",
    "# us_svm_gs.fit(under_sampled_X_train, under_sampled_y_train);\n",
    "# us_svm_gs.best_params_"
   ]
  },
  {
   "cell_type": "markdown",
   "metadata": {},
   "source": [
    "Evaluate the best SVM model:"
   ]
  },
  {
   "cell_type": "code",
   "execution_count": null,
   "metadata": {},
   "outputs": [],
   "source": [
    "# best_us_svm = SVC(**us_svm_gs.best_params_)\n",
    "# best_us_svm.fit(under_sampled_X_train, under_sampled_y_train)\n",
    "# y_preds_best_us_svm = best_us_svm.predict(under_sampled_X_test)\n",
    "# all_scores(under_sampled_y_test, y_preds_best_us_svm)"
   ]
  },
  {
   "cell_type": "markdown",
   "metadata": {},
   "source": [
    "## SMOTE-sampled"
   ]
  },
  {
   "cell_type": "markdown",
   "metadata": {},
   "source": [
    "### Logistic Regression"
   ]
  },
  {
   "cell_type": "code",
   "execution_count": null,
   "metadata": {},
   "outputs": [],
   "source": [
    "sm_lr = LogisticRegression()\n",
    "param_grid = {\"penalty\": [\"l1\", \"l2\"],\n",
    "              \"C\": [0.01, 0.1, 1, 10],\n",
    "              \"class_weight\": [\"balanced\", None],\n",
    "              \"random_state\": [42],\n",
    "              \"solver\": [\"liblinear\"], \n",
    "              \"n_jobs\": [-1]}\n",
    "sm_lr_gs = GridSearchCV(sm_lr, param_grid, cv=3, scoring=\"recall\", n_jobs=-1)\n",
    "sm_lr_gs.fit(smote_sampled_X_train, smote_sampled_y_train);\n",
    "sm_lr_gs.best_params_"
   ]
  },
  {
   "cell_type": "markdown",
   "metadata": {},
   "source": [
    "Evaluate the best logistic model:"
   ]
  },
  {
   "cell_type": "code",
   "execution_count": null,
   "metadata": {},
   "outputs": [],
   "source": [
    "scores_confusion_matrix(sm_lr_gs, smote_sampled_X_train, smote_sampled_X_test,\n",
    "                        smote_sampled_y_train, smote_sampled_y_test)"
   ]
  },
  {
   "cell_type": "markdown",
   "metadata": {},
   "source": [
    "### Decision Tree"
   ]
  },
  {
   "cell_type": "code",
   "execution_count": null,
   "metadata": {},
   "outputs": [],
   "source": [
    "sm_dt = DecisionTreeClassifier()\n",
    "param_grid = {\"criterion\": [\"gini\", \"entropy\"],\n",
    "              \"max_depth\": [None, 8, 10],\n",
    "              \"min_samples_split\": [10, 25],\n",
    "              \"min_samples_leaf\": [1, 5],\n",
    "              \"max_features\": [None, \"sqrt\"],\n",
    "              \"class_weight\": [\"balanced\", None],\n",
    "              \"random_state\": [42]}\n",
    "sm_dt_gs = GridSearchCV(sm_dt, param_grid, cv=3, scoring=\"recall\", n_jobs=-1)\n",
    "sm_dt_gs.fit(smote_sampled_X_train, smote_sampled_y_train);\n",
    "sm_dt_gs.best_params_"
   ]
  },
  {
   "cell_type": "markdown",
   "metadata": {},
   "source": [
    "Evaluate the best decision tree model:"
   ]
  },
  {
   "cell_type": "code",
   "execution_count": null,
   "metadata": {},
   "outputs": [],
   "source": [
    "scores_confusion_matrix(sm_dt_gs, smote_sampled_X_train, smote_sampled_X_test,\n",
    "                        smote_sampled_y_train, smote_sampled_y_test)"
   ]
  },
  {
   "cell_type": "markdown",
   "metadata": {},
   "source": [
    "### Random Forest"
   ]
  },
  {
   "cell_type": "code",
   "execution_count": null,
   "metadata": {},
   "outputs": [],
   "source": [
    "sm_rf = RandomForestClassifier()\n",
    "param_grid = {\"n_estimators\": [50, 100, 200],\n",
    "              \"criterion\": [\"gini\", \"entropy\"],\n",
    "              \"max_depth\": [None, 8, 10],\n",
    "              \"min_samples_split\": [10, 25],\n",
    "              \"min_samples_leaf\": [1, 5],\n",
    "              \"max_features\": [None, \"sqrt\"],\n",
    "              \"class_weight\": [\"balanced\", None],\n",
    "              \"random_state\": [42],\n",
    "              \"n_jobs\": [-1]}\n",
    "sm_rf_gs = GridSearchCV(sm_rf, param_grid, cv=3, scoring=\"recall\", n_jobs=-1)\n",
    "sm_rf_gs.fit(smote_sampled_X_train, smote_sampled_y_train);\n",
    "sm_rf_gs.best_params_"
   ]
  },
  {
   "cell_type": "markdown",
   "metadata": {},
   "source": [
    "Evaluate the best random forest model:"
   ]
  },
  {
   "cell_type": "code",
   "execution_count": null,
   "metadata": {},
   "outputs": [],
   "source": [
    "scores_confusion_matrix(sm_rf_gs, smote_sampled_X_train, smote_sampled_X_test,\n",
    "                        smote_sampled_y_train, smote_sampled_y_test)"
   ]
  },
  {
   "cell_type": "markdown",
   "metadata": {},
   "source": [
    "### XGBoost"
   ]
  },
  {
   "cell_type": "code",
   "execution_count": null,
   "metadata": {},
   "outputs": [],
   "source": [
    "sm_xgb = xgb.XGBRegressor()\n",
    "param_grid = {\"max_depth\": [5, 8, 10],\n",
    "              \"learning_rate\": [0.01, 0.1, 1, 10, 100],\n",
    "              \"objective\": [\"binary:hinge\"],\n",
    "              \"n_estimators\": [10, 50, 100, 150],\n",
    "              \"n_jobs\": [-1],\n",
    "              \"random_state\": [42]}\n",
    "sm_xgb_gs = GridSearchCV(sm_xgb, param_grid, cv=3, scoring=\"recall\", n_jobs=-1)\n",
    "sm_xgb_gs.fit(smote_sampled_X_train, smote_sampled_y_train);\n",
    "sm_xgb_gs.best_params_"
   ]
  },
  {
   "cell_type": "markdown",
   "metadata": {},
   "source": [
    "Evaluate the best XGBoost model:"
   ]
  },
  {
   "cell_type": "code",
   "execution_count": null,
   "metadata": {},
   "outputs": [],
   "source": [
    "best_sm_xgb = xgb.XGBRegressor(**sm_xgb_gs.best_params_)\n",
    "best_sm_xgb.fit(smote_sampled_X_train, smote_sampled_y_train)\n",
    "y_preds_best_sm_xgb = best_sm_xgb.predict(smote_sampled_X_test)\n",
    "all_scores(smote_sampled_y_test, y_preds_best_sm_xgb)"
   ]
  },
  {
   "cell_type": "markdown",
   "metadata": {},
   "source": [
    "### SVM"
   ]
  },
  {
   "cell_type": "code",
   "execution_count": null,
   "metadata": {},
   "outputs": [],
   "source": [
    "# sm_svm = SVC()\n",
    "# param_grid = {\"C\": [0.1, 1, 10],\n",
    "#               \"kernel\": [\"linear\", \"rbf\"],\n",
    "#               \"class_weight\": [\"balanced\", None],\n",
    "#               \"random_state\": [42]}\n",
    "# sm_svm_gs = GridSearchCV(sm_svm, param_grid, cv=3, scoring=\"recall\", n_jobs=-1)\n",
    "# sm_svm_gs.fit(smote_sampled_X_train, smote_sampled_y_train);\n",
    "# sm_svm_gs.best_params_"
   ]
  },
  {
   "cell_type": "markdown",
   "metadata": {},
   "source": [
    "Evaluate the best SVM model:"
   ]
  },
  {
   "cell_type": "code",
   "execution_count": null,
   "metadata": {},
   "outputs": [],
   "source": [
    "# best_sm_svm = SVC(**sm_svm_gs.best_params_)\n",
    "# best_sm_svm.fit(smote_sampled_X_train, smote_sampled_y_train)\n",
    "# y_preds_best_sm_svm = best_sm_svm.predict(smote_sampled_X_test)\n",
    "# all_scores(smote_sampled_y_test, y_preds_best_sm_svm)"
   ]
  }
 ],
 "metadata": {
  "kernelspec": {
   "display_name": "Python 3",
   "language": "python",
   "name": "python3"
  },
  "language_info": {
   "codemirror_mode": {
    "name": "ipython",
    "version": 3
   },
   "file_extension": ".py",
   "mimetype": "text/x-python",
   "name": "python",
   "nbconvert_exporter": "python",
   "pygments_lexer": "ipython3",
   "version": "3.7.3"
  }
 },
 "nbformat": 4,
 "nbformat_minor": 2
}
