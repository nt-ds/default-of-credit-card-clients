{
 "cells": [
  {
   "cell_type": "markdown",
   "metadata": {},
   "source": [
    "# Credit Card Default\n",
    "August 16, 2019<br>Anthony & Ngoc, Best Model\n",
    "\n",
    "-----------------------------------------------------------------"
   ]
  },
  {
   "cell_type": "markdown",
   "metadata": {},
   "source": [
    "In this notebook, we will show our best model.\n",
    "\n",
    "----------------------------------------------"
   ]
  },
  {
   "cell_type": "markdown",
   "metadata": {},
   "source": [
    "# Import"
   ]
  },
  {
   "cell_type": "code",
   "execution_count": 1,
   "metadata": {},
   "outputs": [
    {
     "name": "stderr",
     "output_type": "stream",
     "text": [
      "Using TensorFlow backend.\n"
     ]
    }
   ],
   "source": [
    "%matplotlib inline\n",
    "\n",
    "import os\n",
    "import pickle\n",
    "import warnings\n",
    "import numpy as np\n",
    "import pandas as pd\n",
    "import seaborn as sns\n",
    "import xgboost as xgb\n",
    "import matplotlib.pyplot as plt\n",
    "\n",
    "from pathlib import Path\n",
    "from sklearn.svm import SVC\n",
    "from datetime import datetime\n",
    "from imblearn.over_sampling import SMOTE\n",
    "from sklearn.tree import DecisionTreeClassifier\n",
    "from yellowbrick.classifier import ConfusionMatrix\n",
    "from sklearn.ensemble import RandomForestClassifier\n",
    "from sklearn.linear_model import LogisticRegression\n",
    "from sklearn.preprocessing import PowerTransformer, MinMaxScaler\n",
    "from sklearn.model_selection import train_test_split, GridSearchCV\n",
    "from sklearn.metrics import auc, f1_score, precision_score, recall_score, roc_curve, roc_auc_score\n",
    "\n",
    "sns.set_style(\"whitegrid\")\n",
    "warnings.filterwarnings(\"ignore\")"
   ]
  },
  {
   "cell_type": "markdown",
   "metadata": {},
   "source": [
    "Change directory to get data source code:"
   ]
  },
  {
   "cell_type": "code",
   "execution_count": 2,
   "metadata": {},
   "outputs": [],
   "source": [
    "main_path = os.getcwd()\n",
    "parent_path = Path(os.getcwd()).parent\n",
    "src_path = str(parent_path) + \"/src/directories\"\n",
    "os.chdir(src_path)"
   ]
  },
  {
   "cell_type": "markdown",
   "metadata": {},
   "source": [
    "More import:"
   ]
  },
  {
   "cell_type": "code",
   "execution_count": 3,
   "metadata": {},
   "outputs": [],
   "source": [
    "import change_directory"
   ]
  },
  {
   "cell_type": "markdown",
   "metadata": {},
   "source": [
    "Change back to notebook directory:"
   ]
  },
  {
   "cell_type": "code",
   "execution_count": 4,
   "metadata": {},
   "outputs": [],
   "source": [
    "os.chdir(main_path)"
   ]
  },
  {
   "cell_type": "markdown",
   "metadata": {},
   "source": [
    "Change directory to get helper functions:"
   ]
  },
  {
   "cell_type": "code",
   "execution_count": 5,
   "metadata": {},
   "outputs": [],
   "source": [
    "cd = change_directory.ChangeDirectory()"
   ]
  },
  {
   "cell_type": "code",
   "execution_count": 6,
   "metadata": {},
   "outputs": [],
   "source": [
    "cd.change_to_src_models_dir()"
   ]
  },
  {
   "cell_type": "markdown",
   "metadata": {},
   "source": [
    "More import:"
   ]
  },
  {
   "cell_type": "code",
   "execution_count": 7,
   "metadata": {},
   "outputs": [],
   "source": [
    "import evaluation_functions\n",
    "all_scores = evaluation_functions.all_scores\n",
    "scores_confusion_matrix = evaluation_functions.scores_confusion_matrix\n",
    "sbs = evaluation_functions.scores_of_best_search"
   ]
  },
  {
   "cell_type": "markdown",
   "metadata": {},
   "source": [
    "Change back to notebook directory:"
   ]
  },
  {
   "cell_type": "code",
   "execution_count": 8,
   "metadata": {},
   "outputs": [],
   "source": [
    "cd.change_to_notebook_dir()"
   ]
  },
  {
   "cell_type": "markdown",
   "metadata": {},
   "source": [
    "# ETL"
   ]
  },
  {
   "cell_type": "markdown",
   "metadata": {},
   "source": [
    "## Load data"
   ]
  },
  {
   "cell_type": "markdown",
   "metadata": {},
   "source": [
    "Change directory to get data:"
   ]
  },
  {
   "cell_type": "code",
   "execution_count": 9,
   "metadata": {},
   "outputs": [],
   "source": [
    "cd.change_to_data_dir()"
   ]
  },
  {
   "cell_type": "markdown",
   "metadata": {},
   "source": [
    "Load data:"
   ]
  },
  {
   "cell_type": "code",
   "execution_count": 10,
   "metadata": {},
   "outputs": [],
   "source": [
    "ccd_df = pd.read_csv(\"processed/transformed_credit_card_default.csv\")"
   ]
  },
  {
   "cell_type": "markdown",
   "metadata": {},
   "source": [
    "Change back to notebook directory:"
   ]
  },
  {
   "cell_type": "code",
   "execution_count": 11,
   "metadata": {},
   "outputs": [],
   "source": [
    "cd.change_to_notebook_dir()"
   ]
  },
  {
   "cell_type": "markdown",
   "metadata": {},
   "source": [
    "## Sample data\n",
    "Methods to tackle imbalance: over-sampling, under-sampling, and SMOTE."
   ]
  },
  {
   "cell_type": "code",
   "execution_count": 12,
   "metadata": {
    "scrolled": true
   },
   "outputs": [],
   "source": [
    "ccd_df.drop(\"Unnamed: 0\", axis=1, inplace=True)"
   ]
  },
  {
   "cell_type": "code",
   "execution_count": 13,
   "metadata": {},
   "outputs": [],
   "source": [
    "ccd_ns = ccd_df.copy()\n",
    "ccd_ou = ccd_df.copy()\n",
    "ccd_smote = ccd_df.copy()"
   ]
  },
  {
   "cell_type": "markdown",
   "metadata": {},
   "source": [
    "### Over-sampling"
   ]
  },
  {
   "cell_type": "code",
   "execution_count": 14,
   "metadata": {},
   "outputs": [],
   "source": [
    "default_samples = ccd_ou[ccd_ou.DEFAULT == 1]\n",
    "non_default_samples = ccd_ou[ccd_ou.DEFAULT == 0]"
   ]
  },
  {
   "cell_type": "code",
   "execution_count": 15,
   "metadata": {},
   "outputs": [],
   "source": [
    "default_samples_train, default_samples_test = train_test_split(default_samples,\n",
    "                                                               test_size=0.2,\n",
    "                                                               random_state=111)\n",
    "non_default_samples_train, non_default_samples_test = train_test_split(non_default_samples,\n",
    "                                                                       test_size=0.2,\n",
    "                                                                       random_state=111)"
   ]
  },
  {
   "cell_type": "code",
   "execution_count": 16,
   "metadata": {},
   "outputs": [],
   "source": [
    "np.random.seed(42)\n",
    "os_default_idx = np.random.choice(default_samples_train.index,\n",
    "                                  size=non_default_samples_train.shape[0], replace=True)\n",
    "os_default = default_samples_train.loc[os_default_idx, :]"
   ]
  },
  {
   "cell_type": "code",
   "execution_count": 17,
   "metadata": {},
   "outputs": [],
   "source": [
    "ccd_over_sampled_train = pd.concat([os_default, non_default_samples_train], axis=0)\n",
    "X_over_sampled_train = ccd_over_sampled_train.drop(\"DEFAULT\", axis=1)\n",
    "y_over_sampled_train = ccd_over_sampled_train.DEFAULT\n",
    "\n",
    "ccd_over_sampled_test = pd.concat([default_samples_test, non_default_samples_test], axis=0)\n",
    "X_over_sampled_test = ccd_over_sampled_test.drop(\"DEFAULT\", axis=1)\n",
    "y_over_sampled_test = ccd_over_sampled_test.DEFAULT"
   ]
  },
  {
   "cell_type": "markdown",
   "metadata": {},
   "source": [
    "### Under-sampling"
   ]
  },
  {
   "cell_type": "code",
   "execution_count": 18,
   "metadata": {},
   "outputs": [],
   "source": [
    "np.random.seed(42)\n",
    "us_non_default_idx = np.random.choice(non_default_samples.index, size=default_samples.shape[0], replace=False)\n",
    "us_non_default = non_default_samples.loc[us_non_default_idx, :]"
   ]
  },
  {
   "cell_type": "code",
   "execution_count": 19,
   "metadata": {},
   "outputs": [],
   "source": [
    "ccd_under_sampled = pd.concat([us_non_default, default_samples], axis=0)\n",
    "X_under_sampled = ccd_under_sampled.drop(\"DEFAULT\", axis=1)\n",
    "y_under_sampled = ccd_under_sampled.DEFAULT\n",
    "X_under_sampled_train, X_under_sampled_test, y_under_sampled_train, y_under_sampled_test = train_test_split(\n",
    "    X_under_sampled, y_under_sampled, test_size=0.2, random_state=111)"
   ]
  },
  {
   "cell_type": "markdown",
   "metadata": {},
   "source": [
    "### SMOTE"
   ]
  },
  {
   "cell_type": "code",
   "execution_count": 20,
   "metadata": {},
   "outputs": [],
   "source": [
    "X_smote = ccd_smote.drop(\"DEFAULT\", axis=1)\n",
    "y_smote = ccd_smote.DEFAULT\n",
    "X_smote_train, X_smote_test, y_smote_train, y_smote_test = train_test_split(X_smote, y_smote,\n",
    "                                                                            test_size=0.2, random_state=111)\n",
    "sm = SMOTE(random_state=42)\n",
    "X_sm, y_sm = sm.fit_resample(X_smote_train, y_smote_train)"
   ]
  },
  {
   "cell_type": "markdown",
   "metadata": {},
   "source": [
    "## Data for modeling"
   ]
  },
  {
   "cell_type": "code",
   "execution_count": 21,
   "metadata": {},
   "outputs": [],
   "source": [
    "# non-sampled\n",
    "X_non_sampled = ccd_ns.drop(\"DEFAULT\", axis=1)\n",
    "y_non_sampled = ccd_ns.DEFAULT\n",
    "non_sampled_X_train, non_sampled_X_test, non_sampled_y_train, non_sampled_y_test = train_test_split(X_non_sampled,\n",
    "                                                                                                    y_non_sampled,\n",
    "                                                                                                    test_size=0.2,\n",
    "                                                                                                    random_state=111)"
   ]
  },
  {
   "cell_type": "code",
   "execution_count": 22,
   "metadata": {},
   "outputs": [],
   "source": [
    "# over-sampled\n",
    "over_sampled_X_train = X_over_sampled_train\n",
    "over_sampled_y_train = y_over_sampled_train\n",
    "over_sampled_X_test = X_over_sampled_test\n",
    "over_sampled_y_test = y_over_sampled_test"
   ]
  },
  {
   "cell_type": "code",
   "execution_count": 23,
   "metadata": {},
   "outputs": [],
   "source": [
    "# under-sampled\n",
    "under_sampled_X_train = X_under_sampled_train\n",
    "under_sampled_y_train = y_under_sampled_train\n",
    "under_sampled_X_test = X_under_sampled_test\n",
    "under_sampled_y_test = y_under_sampled_test"
   ]
  },
  {
   "cell_type": "code",
   "execution_count": 24,
   "metadata": {},
   "outputs": [],
   "source": [
    "# SMOTE\n",
    "smote_sampled_X_train = X_sm\n",
    "smote_sampled_y_train = y_sm\n",
    "smote_sampled_X_test = X_smote_test\n",
    "smote_sampled_y_test = y_smote_test"
   ]
  },
  {
   "cell_type": "markdown",
   "metadata": {},
   "source": [
    "# Model"
   ]
  },
  {
   "cell_type": "markdown",
   "metadata": {},
   "source": [
    "Change directory to get models:"
   ]
  },
  {
   "cell_type": "code",
   "execution_count": 25,
   "metadata": {},
   "outputs": [],
   "source": [
    "cd.change_to_model_dir()"
   ]
  },
  {
   "cell_type": "markdown",
   "metadata": {},
   "source": [
    "Load models:"
   ]
  },
  {
   "cell_type": "code",
   "execution_count": 26,
   "metadata": {},
   "outputs": [],
   "source": [
    "with open(\"transformed_non_sampled_logistic_regression.pickle\", \"rb\") as f:\n",
    "    t_ns_lr_gs = pickle.load(f)\n",
    "    \n",
    "with open(\"transformed_non_sampled_decision_tree.pickle\", \"rb\") as f:\n",
    "    t_ns_dt_gs = pickle.load(f)\n",
    "    \n",
    "with open(\"transformed_non_sampled_random_forest.pickle\", \"rb\") as f:\n",
    "    t_ns_rf_gs = pickle.load(f)\n",
    "    \n",
    "with open(\"transformed_over_sampled_logistic_regression.pickle\", \"rb\") as f:\n",
    "    t_os_lr_gs = pickle.load(f)\n",
    "    \n",
    "with open(\"transformed_over_sampled_decision_tree.pickle\", \"rb\") as f:\n",
    "    t_os_dt_gs = pickle.load(f)\n",
    "    \n",
    "with open(\"transformed_over_sampled_random_forest.pickle\", \"rb\") as f:\n",
    "    t_os_rf_gs = pickle.load(f)\n",
    "    \n",
    "with open(\"transformed_under_sampled_logistic_regression.pickle\", \"rb\") as f:\n",
    "    t_us_lr_gs = pickle.load(f)\n",
    "    \n",
    "with open(\"transformed_under_sampled_decision_tree.pickle\", \"rb\") as f:\n",
    "    t_us_dt_gs = pickle.load(f)\n",
    "    \n",
    "with open(\"transformed_under_sampled_random_forest.pickle\", \"rb\") as f:\n",
    "    t_us_rf_gs = pickle.load(f)\n",
    "    \n",
    "with open(\"transformed_smote_sampled_logistic_regression.pickle\", \"rb\") as f:\n",
    "    t_sm_lr_gs = pickle.load(f)\n",
    "    \n",
    "with open(\"transformed_smote_sampled_decision_tree.pickle\", \"rb\") as f:\n",
    "    t_sm_dt_gs = pickle.load(f)\n",
    "    \n",
    "with open(\"transformed_smote_sampled_random_forest.pickle\", \"rb\") as f:\n",
    "    t_sm_rf_gs = pickle.load(f)"
   ]
  },
  {
   "cell_type": "markdown",
   "metadata": {},
   "source": [
    "Change back to notebook directory:"
   ]
  },
  {
   "cell_type": "code",
   "execution_count": 27,
   "metadata": {},
   "outputs": [],
   "source": [
    "cd.change_to_notebook_dir()"
   ]
  },
  {
   "cell_type": "code",
   "execution_count": 28,
   "metadata": {},
   "outputs": [],
   "source": [
    "t_ns_dt_scores = sbs(t_ns_dt_gs, \n",
    "                     non_sampled_X_train, \n",
    "                     non_sampled_X_test,\n",
    "                     non_sampled_y_train,\n",
    "                     non_sampled_y_test);\n",
    "\n",
    "t_os_dt_scores = sbs(t_os_dt_gs, \n",
    "                     X_over_sampled_train,\n",
    "                     X_over_sampled_test,\n",
    "                     y_over_sampled_train,\n",
    "                     y_over_sampled_test);\n",
    "\n",
    "t_us_dt_scores = sbs(t_us_dt_gs, \n",
    "                     X_under_sampled_train,\n",
    "                     X_under_sampled_test,\n",
    "                     y_under_sampled_train,\n",
    "                     y_under_sampled_test);\n",
    "\n",
    "t_sm_dt_scores = sbs(t_sm_dt_gs, \n",
    "                     X_sm,\n",
    "                     X_smote_test,\n",
    "                     y_sm,\n",
    "                     y_smote_test);\n"
   ]
  },
  {
   "cell_type": "code",
   "execution_count": 29,
   "metadata": {},
   "outputs": [
    {
     "data": {
      "text/plain": [
       "Text(0.5,1,'Recall and F-1 Score of Different Decision Trees')"
      ]
     },
     "execution_count": 29,
     "metadata": {},
     "output_type": "execute_result"
    },
    {
     "data": {
      "image/png": "[encoded data removed]",
      "text/plain": [
       "<Figure size 432x288 with 1 Axes>"
      ]
     },
     "metadata": {
      "needs_background": "light"
     },
     "output_type": "display_data"
    }
   ],
   "source": [
    "colors = [np.array([245, 247, 72])/255, np.array([205, 96, 252])/255]\n",
    "\n",
    "pd.DataFrame([t_ns_dt_scores, t_os_dt_scores, t_us_dt_scores,\n",
    "              t_sm_dt_scores], columns=['recall', 'precision', 'F-1_score'],\n",
    "             index=['Normal',\n",
    "                    'Oversample', \n",
    "                    'Undersample', \n",
    "                    'SMOTE'])[['recall', 'F-1_score']].plot(kind='bar', color=colors, rot=30)\n",
    "plt.xlabel(\"Sampling Technique\")\n",
    "plt.ylabel(\"Metric Value\")\n",
    "plt.title(\"Recall and F-1 Score of Different Decision Trees\")"
   ]
  },
  {
   "cell_type": "code",
   "execution_count": 30,
   "metadata": {},
   "outputs": [],
   "source": [
    "t_us_rf_scores = sbs(t_us_rf_gs, \n",
    "                     X_under_sampled_train,\n",
    "                     X_under_sampled_test,\n",
    "                     y_under_sampled_train,\n",
    "                     y_under_sampled_test);\n",
    "\n",
    "t_us_lr_scores = sbs(t_us_lr_gs, \n",
    "                     X_under_sampled_train,\n",
    "                     X_under_sampled_test,\n",
    "                     y_under_sampled_train,\n",
    "                     y_under_sampled_test);"
   ]
  },
  {
   "cell_type": "code",
   "execution_count": 31,
   "metadata": {},
   "outputs": [
    {
     "data": {
      "text/plain": [
       "Text(0,0.5,'Metric Value')"
      ]
     },
     "execution_count": 31,
     "metadata": {},
     "output_type": "execute_result"
    },
    {
     "data": {
      "image/png": "[encoded data removed]",
      "text/plain": [
       "<Figure size 432x288 with 1 Axes>"
      ]
     },
     "metadata": {
      "needs_background": "light"
     },
     "output_type": "display_data"
    }
   ],
   "source": [
    "colors2 = [np.array([223, 213, 29])/255, np.array([17, 74, 221])/255]\n",
    "\n",
    "pd.DataFrame([t_us_lr_scores, t_us_rf_scores, t_us_dt_scores],\n",
    "             columns=['recall', 'precision', 'F-1_score'],\n",
    "             index=['Logistic Regression', \n",
    "                    'Random Forest', \n",
    "                    'Decision Tree'])[['recall', 'F-1_score']].plot(kind='bar',color=colors2, rot=30)\n",
    "plt.ylim([0, .9])\n",
    "plt.title('Recall and F-1 Scores of Undersampled Data')\n",
    "plt.xlabel(\"Algorithm\")\n",
    "plt.ylabel(\"Metric Value\")"
   ]
  },
  {
   "cell_type": "code",
   "execution_count": null,
   "metadata": {},
   "outputs": [],
   "source": []
  }
 ],
 "metadata": {
  "kernelspec": {
   "display_name": "Python 3",
   "language": "python",
   "name": "python3"
  },
  "language_info": {
   "codemirror_mode": {
    "name": "ipython",
    "version": 3
   },
   "file_extension": ".py",
   "mimetype": "text/x-python",
   "name": "python",
   "nbconvert_exporter": "python",
   "pygments_lexer": "ipython3",
   "version": "3.6.8"
  },
  "toc": {
   "base_numbering": 1,
   "nav_menu": {},
   "number_sections": true,
   "sideBar": true,
   "skip_h1_title": false,
   "title_cell": "Table of Contents",
   "title_sidebar": "Contents",
   "toc_cell": false,
   "toc_position": {},
   "toc_section_display": true,
   "toc_window_display": true
  }
 },
 "nbformat": 4,
 "nbformat_minor": 2
}
